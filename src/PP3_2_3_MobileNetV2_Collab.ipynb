{
  "cells": [
    {
      "cell_type": "code",
      "execution_count": null,
      "metadata": {
        "id": "eoTQVatdfE8r"
      },
      "outputs": [
        {
          "name": "stdout",
          "output_type": "stream",
          "text": [
            "Collecting matplotlib\n",
            "  Using cached matplotlib-3.10.3-cp311-cp311-win_amd64.whl.metadata (11 kB)\n",
            "Requirement already satisfied: numpy in c:\\users\\joão carvalho\\appdata\\local\\programs\\python\\python311\\lib\\site-packages (1.26.4)\n",
            "Collecting pandas\n",
            "  Downloading pandas-2.3.0-cp311-cp311-win_amd64.whl.metadata (19 kB)\n",
            "Collecting seaborn\n",
            "  Using cached seaborn-0.13.2-py3-none-any.whl.metadata (5.4 kB)\n",
            "Collecting scikit-learn\n",
            "  Downloading scikit_learn-1.7.0-cp311-cp311-win_amd64.whl.metadata (14 kB)\n",
            "Requirement already satisfied: tensorflow in c:\\users\\joão carvalho\\appdata\\local\\programs\\python\\python311\\lib\\site-packages (2.15.0)\n",
            "Requirement already satisfied: keras in c:\\users\\joão carvalho\\appdata\\local\\programs\\python\\python311\\lib\\site-packages (2.15.0)\n",
            "Collecting kaggle\n",
            "  Using cached kaggle-1.7.4.5-py3-none-any.whl.metadata (16 kB)\n",
            "Collecting contourpy>=1.0.1 (from matplotlib)\n",
            "  Using cached contourpy-1.3.2-cp311-cp311-win_amd64.whl.metadata (5.5 kB)\n",
            "Collecting cycler>=0.10 (from matplotlib)\n",
            "  Using cached cycler-0.12.1-py3-none-any.whl.metadata (3.8 kB)\n",
            "Collecting fonttools>=4.22.0 (from matplotlib)\n",
            "  Downloading fonttools-4.58.2-cp311-cp311-win_amd64.whl.metadata (108 kB)\n",
            "     ---------------------------------------- 0.0/108.5 kB ? eta -:--:--\n",
            "     --- ------------------------------------ 10.2/108.5 kB ? eta -:--:--\n",
            "     ------------- ----------------------- 41.0/108.5 kB 393.8 kB/s eta 0:00:01\n",
            "     ------------------------ ------------ 71.7/108.5 kB 563.7 kB/s eta 0:00:01\n",
            "     ------------------------------------ 108.5/108.5 kB 629.7 kB/s eta 0:00:00\n",
            "Collecting kiwisolver>=1.3.1 (from matplotlib)\n",
            "  Downloading kiwisolver-1.4.8-cp311-cp311-win_amd64.whl.metadata (6.3 kB)\n",
            "Requirement already satisfied: packaging>=20.0 in c:\\users\\joão carvalho\\appdata\\local\\programs\\python\\python311\\lib\\site-packages (from matplotlib) (25.0)\n",
            "Collecting pillow>=8 (from matplotlib)\n",
            "  Using cached pillow-11.2.1-cp311-cp311-win_amd64.whl.metadata (9.1 kB)\n",
            "Collecting pyparsing>=2.3.1 (from matplotlib)\n",
            "  Using cached pyparsing-3.2.3-py3-none-any.whl.metadata (5.0 kB)\n",
            "Requirement already satisfied: python-dateutil>=2.7 in c:\\users\\joão carvalho\\appdata\\roaming\\python\\python311\\site-packages (from matplotlib) (2.9.0.post0)\n",
            "Collecting pytz>=2020.1 (from pandas)\n",
            "  Using cached pytz-2025.2-py2.py3-none-any.whl.metadata (22 kB)\n",
            "Collecting tzdata>=2022.7 (from pandas)\n",
            "  Using cached tzdata-2025.2-py2.py3-none-any.whl.metadata (1.4 kB)\n",
            "Collecting scipy>=1.8.0 (from scikit-learn)\n",
            "  Using cached scipy-1.15.3-cp311-cp311-win_amd64.whl.metadata (60 kB)\n",
            "Collecting joblib>=1.2.0 (from scikit-learn)\n",
            "  Downloading joblib-1.5.1-py3-none-any.whl.metadata (5.6 kB)\n",
            "Collecting threadpoolctl>=3.1.0 (from scikit-learn)\n",
            "  Using cached threadpoolctl-3.6.0-py3-none-any.whl.metadata (13 kB)\n",
            "Requirement already satisfied: tensorflow-intel==2.15.0 in c:\\users\\joão carvalho\\appdata\\local\\programs\\python\\python311\\lib\\site-packages (from tensorflow) (2.15.0)\n",
            "Requirement already satisfied: absl-py>=1.0.0 in c:\\users\\joão carvalho\\appdata\\local\\programs\\python\\python311\\lib\\site-packages (from tensorflow-intel==2.15.0->tensorflow) (2.3.0)\n",
            "Requirement already satisfied: astunparse>=1.6.0 in c:\\users\\joão carvalho\\appdata\\local\\programs\\python\\python311\\lib\\site-packages (from tensorflow-intel==2.15.0->tensorflow) (1.6.3)\n",
            "Requirement already satisfied: flatbuffers>=23.5.26 in c:\\users\\joão carvalho\\appdata\\local\\programs\\python\\python311\\lib\\site-packages (from tensorflow-intel==2.15.0->tensorflow) (25.2.10)\n",
            "Requirement already satisfied: gast!=0.5.0,!=0.5.1,!=0.5.2,>=0.2.1 in c:\\users\\joão carvalho\\appdata\\local\\programs\\python\\python311\\lib\\site-packages (from tensorflow-intel==2.15.0->tensorflow) (0.6.0)\n",
            "Requirement already satisfied: google-pasta>=0.1.1 in c:\\users\\joão carvalho\\appdata\\local\\programs\\python\\python311\\lib\\site-packages (from tensorflow-intel==2.15.0->tensorflow) (0.2.0)\n",
            "Requirement already satisfied: h5py>=2.9.0 in c:\\users\\joão carvalho\\appdata\\local\\programs\\python\\python311\\lib\\site-packages (from tensorflow-intel==2.15.0->tensorflow) (3.14.0)\n",
            "Requirement already satisfied: libclang>=13.0.0 in c:\\users\\joão carvalho\\appdata\\local\\programs\\python\\python311\\lib\\site-packages (from tensorflow-intel==2.15.0->tensorflow) (18.1.1)\n",
            "Requirement already satisfied: ml-dtypes~=0.2.0 in c:\\users\\joão carvalho\\appdata\\local\\programs\\python\\python311\\lib\\site-packages (from tensorflow-intel==2.15.0->tensorflow) (0.2.0)\n",
            "Requirement already satisfied: opt-einsum>=2.3.2 in c:\\users\\joão carvalho\\appdata\\local\\programs\\python\\python311\\lib\\site-packages (from tensorflow-intel==2.15.0->tensorflow) (3.4.0)\n",
            "Requirement already satisfied: protobuf!=4.21.0,!=4.21.1,!=4.21.2,!=4.21.3,!=4.21.4,!=4.21.5,<5.0.0dev,>=3.20.3 in c:\\users\\joão carvalho\\appdata\\local\\programs\\python\\python311\\lib\\site-packages (from tensorflow-intel==2.15.0->tensorflow) (4.25.8)\n",
            "Requirement already satisfied: setuptools in c:\\users\\joão carvalho\\appdata\\local\\programs\\python\\python311\\lib\\site-packages (from tensorflow-intel==2.15.0->tensorflow) (65.5.0)\n",
            "Requirement already satisfied: six>=1.12.0 in c:\\users\\joão carvalho\\appdata\\local\\programs\\python\\python311\\lib\\site-packages (from tensorflow-intel==2.15.0->tensorflow) (1.17.0)\n",
            "Requirement already satisfied: termcolor>=1.1.0 in c:\\users\\joão carvalho\\appdata\\local\\programs\\python\\python311\\lib\\site-packages (from tensorflow-intel==2.15.0->tensorflow) (3.1.0)\n",
            "Requirement already satisfied: typing-extensions>=3.6.6 in c:\\users\\joão carvalho\\appdata\\local\\programs\\python\\python311\\lib\\site-packages (from tensorflow-intel==2.15.0->tensorflow) (4.14.0)\n",
            "Requirement already satisfied: wrapt<1.15,>=1.11.0 in c:\\users\\joão carvalho\\appdata\\local\\programs\\python\\python311\\lib\\site-packages (from tensorflow-intel==2.15.0->tensorflow) (1.14.1)\n",
            "Requirement already satisfied: tensorflow-io-gcs-filesystem>=0.23.1 in c:\\users\\joão carvalho\\appdata\\local\\programs\\python\\python311\\lib\\site-packages (from tensorflow-intel==2.15.0->tensorflow) (0.31.0)\n",
            "Requirement already satisfied: grpcio<2.0,>=1.24.3 in c:\\users\\joão carvalho\\appdata\\local\\programs\\python\\python311\\lib\\site-packages (from tensorflow-intel==2.15.0->tensorflow) (1.72.1)\n",
            "Requirement already satisfied: tensorboard<2.16,>=2.15 in c:\\users\\joão carvalho\\appdata\\local\\programs\\python\\python311\\lib\\site-packages (from tensorflow-intel==2.15.0->tensorflow) (2.15.2)\n",
            "Requirement already satisfied: tensorflow-estimator<2.16,>=2.15.0 in c:\\users\\joão carvalho\\appdata\\local\\programs\\python\\python311\\lib\\site-packages (from tensorflow-intel==2.15.0->tensorflow) (2.15.0)\n",
            "Collecting bleach (from kaggle)\n",
            "  Using cached bleach-6.2.0-py3-none-any.whl.metadata (30 kB)\n",
            "Requirement already satisfied: certifi>=14.05.14 in c:\\users\\joão carvalho\\appdata\\local\\programs\\python\\python311\\lib\\site-packages (from kaggle) (2025.4.26)\n",
            "Requirement already satisfied: charset-normalizer in c:\\users\\joão carvalho\\appdata\\local\\programs\\python\\python311\\lib\\site-packages (from kaggle) (3.4.2)\n",
            "Requirement already satisfied: idna in c:\\users\\joão carvalho\\appdata\\local\\programs\\python\\python311\\lib\\site-packages (from kaggle) (3.10)\n",
            "Collecting python-slugify (from kaggle)\n",
            "  Downloading python_slugify-8.0.4-py2.py3-none-any.whl.metadata (8.5 kB)\n",
            "Requirement already satisfied: requests in c:\\users\\joão carvalho\\appdata\\local\\programs\\python\\python311\\lib\\site-packages (from kaggle) (2.32.3)\n",
            "Collecting text-unidecode (from kaggle)\n",
            "  Downloading text_unidecode-1.3-py2.py3-none-any.whl.metadata (2.4 kB)\n",
            "Collecting tqdm (from kaggle)\n",
            "  Using cached tqdm-4.67.1-py3-none-any.whl.metadata (57 kB)\n",
            "Requirement already satisfied: urllib3>=1.15.1 in c:\\users\\joão carvalho\\appdata\\local\\programs\\python\\python311\\lib\\site-packages (from kaggle) (2.4.0)\n",
            "Collecting webencodings (from kaggle)\n",
            "  Using cached webencodings-0.5.1-py2.py3-none-any.whl.metadata (2.1 kB)\n",
            "Requirement already satisfied: colorama in c:\\users\\joão carvalho\\appdata\\roaming\\python\\python311\\site-packages (from tqdm->kaggle) (0.4.6)\n",
            "Requirement already satisfied: wheel<1.0,>=0.23.0 in c:\\users\\joão carvalho\\appdata\\local\\programs\\python\\python311\\lib\\site-packages (from astunparse>=1.6.0->tensorflow-intel==2.15.0->tensorflow) (0.45.1)\n",
            "Requirement already satisfied: google-auth<3,>=1.6.3 in c:\\users\\joão carvalho\\appdata\\local\\programs\\python\\python311\\lib\\site-packages (from tensorboard<2.16,>=2.15->tensorflow-intel==2.15.0->tensorflow) (2.40.3)\n",
            "Requirement already satisfied: google-auth-oauthlib<2,>=0.5 in c:\\users\\joão carvalho\\appdata\\local\\programs\\python\\python311\\lib\\site-packages (from tensorboard<2.16,>=2.15->tensorflow-intel==2.15.0->tensorflow) (1.2.2)\n",
            "Requirement already satisfied: markdown>=2.6.8 in c:\\users\\joão carvalho\\appdata\\local\\programs\\python\\python311\\lib\\site-packages (from tensorboard<2.16,>=2.15->tensorflow-intel==2.15.0->tensorflow) (3.8)\n",
            "Requirement already satisfied: tensorboard-data-server<0.8.0,>=0.7.0 in c:\\users\\joão carvalho\\appdata\\local\\programs\\python\\python311\\lib\\site-packages (from tensorboard<2.16,>=2.15->tensorflow-intel==2.15.0->tensorflow) (0.7.2)\n",
            "Requirement already satisfied: werkzeug>=1.0.1 in c:\\users\\joão carvalho\\appdata\\local\\programs\\python\\python311\\lib\\site-packages (from tensorboard<2.16,>=2.15->tensorflow-intel==2.15.0->tensorflow) (3.1.3)\n",
            "Requirement already satisfied: cachetools<6.0,>=2.0.0 in c:\\users\\joão carvalho\\appdata\\local\\programs\\python\\python311\\lib\\site-packages (from google-auth<3,>=1.6.3->tensorboard<2.16,>=2.15->tensorflow-intel==2.15.0->tensorflow) (5.5.2)\n",
            "Requirement already satisfied: pyasn1-modules>=0.2.1 in c:\\users\\joão carvalho\\appdata\\local\\programs\\python\\python311\\lib\\site-packages (from google-auth<3,>=1.6.3->tensorboard<2.16,>=2.15->tensorflow-intel==2.15.0->tensorflow) (0.4.2)\n",
            "Requirement already satisfied: rsa<5,>=3.1.4 in c:\\users\\joão carvalho\\appdata\\local\\programs\\python\\python311\\lib\\site-packages (from google-auth<3,>=1.6.3->tensorboard<2.16,>=2.15->tensorflow-intel==2.15.0->tensorflow) (4.9.1)\n",
            "Requirement already satisfied: requests-oauthlib>=0.7.0 in c:\\users\\joão carvalho\\appdata\\local\\programs\\python\\python311\\lib\\site-packages (from google-auth-oauthlib<2,>=0.5->tensorboard<2.16,>=2.15->tensorflow-intel==2.15.0->tensorflow) (2.0.0)\n",
            "Requirement already satisfied: MarkupSafe>=2.1.1 in c:\\users\\joão carvalho\\appdata\\local\\programs\\python\\python311\\lib\\site-packages (from werkzeug>=1.0.1->tensorboard<2.16,>=2.15->tensorflow-intel==2.15.0->tensorflow) (3.0.2)\n",
            "Requirement already satisfied: pyasn1<0.7.0,>=0.6.1 in c:\\users\\joão carvalho\\appdata\\local\\programs\\python\\python311\\lib\\site-packages (from pyasn1-modules>=0.2.1->google-auth<3,>=1.6.3->tensorboard<2.16,>=2.15->tensorflow-intel==2.15.0->tensorflow) (0.6.1)\n",
            "Requirement already satisfied: oauthlib>=3.0.0 in c:\\users\\joão carvalho\\appdata\\local\\programs\\python\\python311\\lib\\site-packages (from requests-oauthlib>=0.7.0->google-auth-oauthlib<2,>=0.5->tensorboard<2.16,>=2.15->tensorflow-intel==2.15.0->tensorflow) (3.2.2)\n",
            "Using cached matplotlib-3.10.3-cp311-cp311-win_amd64.whl (8.1 MB)\n",
            "Downloading pandas-2.3.0-cp311-cp311-win_amd64.whl (11.1 MB)\n",
            "   ---------------------------------------- 0.0/11.1 MB ? eta -:--:--\n",
            "   ---------------------------------------- 0.1/11.1 MB 7.0 MB/s eta 0:00:02\n",
            "    --------------------------------------- 0.2/11.1 MB 2.0 MB/s eta 0:00:06\n",
            "    --------------------------------------- 0.3/11.1 MB 2.2 MB/s eta 0:00:05\n",
            "   - -------------------------------------- 0.3/11.1 MB 1.9 MB/s eta 0:00:06\n",
            "   - -------------------------------------- 0.5/11.1 MB 2.7 MB/s eta 0:00:04\n",
            "   -- ------------------------------------- 0.7/11.1 MB 2.7 MB/s eta 0:00:04\n",
            "   --- ------------------------------------ 1.0/11.1 MB 3.4 MB/s eta 0:00:03\n",
            "   ----- ---------------------------------- 1.5/11.1 MB 4.0 MB/s eta 0:00:03\n",
            "   ------- -------------------------------- 2.1/11.1 MB 5.3 MB/s eta 0:00:02\n",
            "   ---------- ----------------------------- 3.0/11.1 MB 6.6 MB/s eta 0:00:02\n",
            "   --------------- ------------------------ 4.2/11.1 MB 8.6 MB/s eta 0:00:01\n",
            "   -------------------- ------------------- 5.7/11.1 MB 10.3 MB/s eta 0:00:01\n",
            "   -------------------------------------- - 10.8/11.1 MB 25.1 MB/s eta 0:00:01\n",
            "   ---------------------------------------- 11.1/11.1 MB 25.2 MB/s eta 0:00:00\n",
            "Using cached seaborn-0.13.2-py3-none-any.whl (294 kB)\n",
            "Using cached scikit_learn-1.7.0-cp311-cp311-win_amd64.whl (10.7 MB)\n",
            "Downloading kaggle-1.7.4.5-py3-none-any.whl (181 kB)\n",
            "   ---------------------------------------- 0.0/181.2 kB ? eta -:--:--\n",
            "   --------------------------------------- 181.2/181.2 kB 10.7 MB/s eta 0:00:00\n",
            "Using cached contourpy-1.3.2-cp311-cp311-win_amd64.whl (222 kB)\n",
            "Using cached cycler-0.12.1-py3-none-any.whl (8.3 kB)\n",
            "Downloading fonttools-4.58.2-cp311-cp311-win_amd64.whl (2.2 MB)\n",
            "   ---------------------------------------- 0.0/2.2 MB ? eta -:--:--\n",
            "   ---------------------------------------  2.2/2.2 MB 71.7 MB/s eta 0:00:01\n",
            "   ---------------------------------------- 2.2/2.2 MB 71.9 MB/s eta 0:00:00\n",
            "Downloading joblib-1.5.1-py3-none-any.whl (307 kB)\n",
            "   ---------------------------------------- 0.0/307.7 kB ? eta -:--:--\n",
            "   --------------------------------------- 307.7/307.7 kB 19.8 MB/s eta 0:00:00\n",
            "Downloading kiwisolver-1.4.8-cp311-cp311-win_amd64.whl (71 kB)\n",
            "   ---------------------------------------- 0.0/72.0 kB ? eta -:--:--\n",
            "   ---------------------------------------- 72.0/72.0 kB ? eta 0:00:00\n",
            "Downloading pillow-11.2.1-cp311-cp311-win_amd64.whl (2.7 MB)\n",
            "   ---------------------------------------- 0.0/2.7 MB ? eta -:--:--\n",
            "   -------------------------------------- - 2.6/2.7 MB 54.3 MB/s eta 0:00:01\n",
            "   ---------------------------------------- 2.7/2.7 MB 42.3 MB/s eta 0:00:00\n",
            "Using cached pyparsing-3.2.3-py3-none-any.whl (111 kB)\n",
            "Using cached pytz-2025.2-py2.py3-none-any.whl (509 kB)\n",
            "Using cached scipy-1.15.3-cp311-cp311-win_amd64.whl (41.2 MB)\n",
            "Using cached threadpoolctl-3.6.0-py3-none-any.whl (18 kB)\n",
            "Using cached tzdata-2025.2-py2.py3-none-any.whl (347 kB)\n",
            "Using cached bleach-6.2.0-py3-none-any.whl (163 kB)\n",
            "Downloading python_slugify-8.0.4-py2.py3-none-any.whl (10 kB)\n",
            "Using cached text_unidecode-1.3-py2.py3-none-any.whl (78 kB)\n",
            "Using cached tqdm-4.67.1-py3-none-any.whl (78 kB)\n",
            "Using cached webencodings-0.5.1-py2.py3-none-any.whl (11 kB)\n",
            "Installing collected packages: webencodings, text-unidecode, pytz, tzdata, tqdm, threadpoolctl, scipy, python-slugify, pyparsing, pillow, kiwisolver, joblib, fonttools, cycler, contourpy, bleach, scikit-learn, pandas, matplotlib, kaggle, seaborn\n",
            "Successfully installed bleach-6.2.0 contourpy-1.3.2 cycler-0.12.1 fonttools-4.58.2 joblib-1.5.1 kaggle-1.7.4.5 kiwisolver-1.4.8 matplotlib-3.10.3 pandas-2.3.0 pillow-11.2.1 pyparsing-3.2.3 python-slugify-8.0.4 pytz-2025.2 scikit-learn-1.7.0 scipy-1.15.3 seaborn-0.13.2 text-unidecode-1.3 threadpoolctl-3.6.0 tqdm-4.67.1 tzdata-2025.2 webencodings-0.5.1\n",
            "Note: you may need to restart the kernel to use updated packages.\n"
          ]
        },
        {
          "name": "stderr",
          "output_type": "stream",
          "text": [
            "\n",
            "[notice] A new release of pip is available: 24.0 -> 25.1.1\n",
            "[notice] To update, run: python.exe -m pip install --upgrade pip\n"
          ]
        }
      ],
      "source": [
        "#pip install matplotlib numpy pandas seaborn scikit-learn tensorflow keras kaggle kagglehub"
      ]
    },
    {
      "cell_type": "code",
      "execution_count": null,
      "metadata": {},
      "outputs": [
        {
          "name": "stdout",
          "output_type": "stream",
          "text": [
            "Requirement already satisfied: tensorflow in c:\\users\\joão carvalho\\appdata\\local\\programs\\python\\python311\\lib\\site-packages (2.15.0)\n",
            "Collecting tensorflow\n",
            "  Using cached tensorflow-2.19.0-cp311-cp311-win_amd64.whl.metadata (4.1 kB)\n",
            "Requirement already satisfied: keras in c:\\users\\joão carvalho\\appdata\\local\\programs\\python\\python311\\lib\\site-packages (2.15.0)\n",
            "Collecting keras\n",
            "  Using cached keras-3.10.0-py3-none-any.whl.metadata (6.0 kB)\n",
            "Requirement already satisfied: absl-py>=1.0.0 in c:\\users\\joão carvalho\\appdata\\local\\programs\\python\\python311\\lib\\site-packages (from tensorflow) (2.3.0)\n",
            "Requirement already satisfied: astunparse>=1.6.0 in c:\\users\\joão carvalho\\appdata\\local\\programs\\python\\python311\\lib\\site-packages (from tensorflow) (1.6.3)\n",
            "Requirement already satisfied: flatbuffers>=24.3.25 in c:\\users\\joão carvalho\\appdata\\local\\programs\\python\\python311\\lib\\site-packages (from tensorflow) (25.2.10)\n",
            "Requirement already satisfied: gast!=0.5.0,!=0.5.1,!=0.5.2,>=0.2.1 in c:\\users\\joão carvalho\\appdata\\local\\programs\\python\\python311\\lib\\site-packages (from tensorflow) (0.6.0)\n",
            "Requirement already satisfied: google-pasta>=0.1.1 in c:\\users\\joão carvalho\\appdata\\local\\programs\\python\\python311\\lib\\site-packages (from tensorflow) (0.2.0)\n",
            "Requirement already satisfied: libclang>=13.0.0 in c:\\users\\joão carvalho\\appdata\\local\\programs\\python\\python311\\lib\\site-packages (from tensorflow) (18.1.1)\n",
            "Requirement already satisfied: opt-einsum>=2.3.2 in c:\\users\\joão carvalho\\appdata\\local\\programs\\python\\python311\\lib\\site-packages (from tensorflow) (3.4.0)\n",
            "Requirement already satisfied: packaging in c:\\users\\joão carvalho\\appdata\\local\\programs\\python\\python311\\lib\\site-packages (from tensorflow) (25.0)\n",
            "Requirement already satisfied: protobuf!=4.21.0,!=4.21.1,!=4.21.2,!=4.21.3,!=4.21.4,!=4.21.5,<6.0.0dev,>=3.20.3 in c:\\users\\joão carvalho\\appdata\\local\\programs\\python\\python311\\lib\\site-packages (from tensorflow) (4.25.8)\n",
            "Requirement already satisfied: requests<3,>=2.21.0 in c:\\users\\joão carvalho\\appdata\\local\\programs\\python\\python311\\lib\\site-packages (from tensorflow) (2.32.3)\n",
            "Requirement already satisfied: setuptools in c:\\users\\joão carvalho\\appdata\\local\\programs\\python\\python311\\lib\\site-packages (from tensorflow) (65.5.0)\n",
            "Requirement already satisfied: six>=1.12.0 in c:\\users\\joão carvalho\\appdata\\local\\programs\\python\\python311\\lib\\site-packages (from tensorflow) (1.17.0)\n",
            "Requirement already satisfied: termcolor>=1.1.0 in c:\\users\\joão carvalho\\appdata\\local\\programs\\python\\python311\\lib\\site-packages (from tensorflow) (3.1.0)\n",
            "Requirement already satisfied: typing-extensions>=3.6.6 in c:\\users\\joão carvalho\\appdata\\local\\programs\\python\\python311\\lib\\site-packages (from tensorflow) (4.14.0)\n",
            "Requirement already satisfied: wrapt>=1.11.0 in c:\\users\\joão carvalho\\appdata\\local\\programs\\python\\python311\\lib\\site-packages (from tensorflow) (1.14.1)\n",
            "Requirement already satisfied: grpcio<2.0,>=1.24.3 in c:\\users\\joão carvalho\\appdata\\local\\programs\\python\\python311\\lib\\site-packages (from tensorflow) (1.72.1)\n",
            "Collecting tensorboard~=2.19.0 (from tensorflow)\n",
            "  Downloading tensorboard-2.19.0-py3-none-any.whl.metadata (1.8 kB)\n",
            "Requirement already satisfied: numpy<2.2.0,>=1.26.0 in c:\\users\\joão carvalho\\appdata\\local\\programs\\python\\python311\\lib\\site-packages (from tensorflow) (1.26.4)\n",
            "Requirement already satisfied: h5py>=3.11.0 in c:\\users\\joão carvalho\\appdata\\local\\programs\\python\\python311\\lib\\site-packages (from tensorflow) (3.14.0)\n",
            "Collecting ml-dtypes<1.0.0,>=0.5.1 (from tensorflow)\n",
            "  Downloading ml_dtypes-0.5.1-cp311-cp311-win_amd64.whl.metadata (22 kB)\n",
            "Requirement already satisfied: tensorflow-io-gcs-filesystem>=0.23.1 in c:\\users\\joão carvalho\\appdata\\local\\programs\\python\\python311\\lib\\site-packages (from tensorflow) (0.31.0)\n",
            "Collecting rich (from keras)\n",
            "  Downloading rich-14.0.0-py3-none-any.whl.metadata (18 kB)\n",
            "Collecting namex (from keras)\n",
            "  Using cached namex-0.1.0-py3-none-any.whl.metadata (322 bytes)\n",
            "Collecting optree (from keras)\n",
            "  Downloading optree-0.16.0-cp311-cp311-win_amd64.whl.metadata (31 kB)\n",
            "Requirement already satisfied: wheel<1.0,>=0.23.0 in c:\\users\\joão carvalho\\appdata\\local\\programs\\python\\python311\\lib\\site-packages (from astunparse>=1.6.0->tensorflow) (0.45.1)\n",
            "Requirement already satisfied: charset-normalizer<4,>=2 in c:\\users\\joão carvalho\\appdata\\local\\programs\\python\\python311\\lib\\site-packages (from requests<3,>=2.21.0->tensorflow) (3.4.2)\n",
            "Requirement already satisfied: idna<4,>=2.5 in c:\\users\\joão carvalho\\appdata\\local\\programs\\python\\python311\\lib\\site-packages (from requests<3,>=2.21.0->tensorflow) (3.10)\n",
            "Requirement already satisfied: urllib3<3,>=1.21.1 in c:\\users\\joão carvalho\\appdata\\local\\programs\\python\\python311\\lib\\site-packages (from requests<3,>=2.21.0->tensorflow) (2.4.0)\n",
            "Requirement already satisfied: certifi>=2017.4.17 in c:\\users\\joão carvalho\\appdata\\local\\programs\\python\\python311\\lib\\site-packages (from requests<3,>=2.21.0->tensorflow) (2025.4.26)\n",
            "Requirement already satisfied: markdown>=2.6.8 in c:\\users\\joão carvalho\\appdata\\local\\programs\\python\\python311\\lib\\site-packages (from tensorboard~=2.19.0->tensorflow) (3.8)\n",
            "Requirement already satisfied: tensorboard-data-server<0.8.0,>=0.7.0 in c:\\users\\joão carvalho\\appdata\\local\\programs\\python\\python311\\lib\\site-packages (from tensorboard~=2.19.0->tensorflow) (0.7.2)\n",
            "Requirement already satisfied: werkzeug>=1.0.1 in c:\\users\\joão carvalho\\appdata\\local\\programs\\python\\python311\\lib\\site-packages (from tensorboard~=2.19.0->tensorflow) (3.1.3)\n",
            "Collecting markdown-it-py>=2.2.0 (from rich->keras)\n",
            "  Downloading markdown_it_py-3.0.0-py3-none-any.whl.metadata (6.9 kB)\n",
            "Requirement already satisfied: pygments<3.0.0,>=2.13.0 in c:\\users\\joão carvalho\\appdata\\roaming\\python\\python311\\site-packages (from rich->keras) (2.19.1)\n",
            "Collecting mdurl~=0.1 (from markdown-it-py>=2.2.0->rich->keras)\n",
            "  Downloading mdurl-0.1.2-py3-none-any.whl.metadata (1.6 kB)\n",
            "Requirement already satisfied: MarkupSafe>=2.1.1 in c:\\users\\joão carvalho\\appdata\\local\\programs\\python\\python311\\lib\\site-packages (from werkzeug>=1.0.1->tensorboard~=2.19.0->tensorflow) (3.0.2)\n",
            "Downloading tensorflow-2.19.0-cp311-cp311-win_amd64.whl (375.9 MB)\n",
            "   ---------------------------------------- 0.0/375.9 MB ? eta -:--:--\n",
            "   ---------------------------------------- 0.0/375.9 MB 1.9 MB/s eta 0:03:16\n",
            "   ---------------------------------------- 0.1/375.9 MB 656.4 kB/s eta 0:09:33\n",
            "   ---------------------------------------- 0.2/375.9 MB 1.3 MB/s eta 0:04:47\n",
            "   ---------------------------------------- 0.2/375.9 MB 1.1 MB/s eta 0:05:33\n",
            "   ---------------------------------------- 0.4/375.9 MB 2.0 MB/s eta 0:03:12\n",
            "   ---------------------------------------- 0.5/375.9 MB 2.0 MB/s eta 0:03:12\n",
            "   ---------------------------------------- 1.0/375.9 MB 3.0 MB/s eta 0:02:04\n",
            "   ---------------------------------------- 1.2/375.9 MB 3.4 MB/s eta 0:01:50\n",
            "   ---------------------------------------- 2.0/375.9 MB 5.0 MB/s eta 0:01:16\n",
            "   ---------------------------------------- 3.0/375.9 MB 6.6 MB/s eta 0:00:57\n",
            "   ---------------------------------------- 4.1/375.9 MB 8.2 MB/s eta 0:00:46\n",
            "    --------------------------------------- 6.1/375.9 MB 11.2 MB/s eta 0:00:34\n",
            "    --------------------------------------- 7.3/375.9 MB 12.7 MB/s eta 0:00:30\n",
            "    --------------------------------------- 7.7/375.9 MB 12.0 MB/s eta 0:00:31\n",
            "    --------------------------------------- 9.4/375.9 MB 13.6 MB/s eta 0:00:27\n",
            "   - -------------------------------------- 11.8/375.9 MB 29.7 MB/s eta 0:00:13\n",
            "   - -------------------------------------- 11.8/375.9 MB 29.7 MB/s eta 0:00:13\n",
            "   - -------------------------------------- 11.8/375.9 MB 29.7 MB/s eta 0:00:13\n",
            "   - -------------------------------------- 15.1/375.9 MB 28.5 MB/s eta 0:00:13\n",
            "   -- ------------------------------------- 20.1/375.9 MB 43.5 MB/s eta 0:00:09\n",
            "   -- ------------------------------------- 23.3/375.9 MB 81.8 MB/s eta 0:00:05\n",
            "   -- ------------------------------------- 26.2/375.9 MB 81.8 MB/s eta 0:00:05\n",
            "   -- ------------------------------------- 26.2/375.9 MB 81.8 MB/s eta 0:00:05\n",
            "   -- ------------------------------------- 26.2/375.9 MB 81.8 MB/s eta 0:00:05\n",
            "   -- ------------------------------------- 26.2/375.9 MB 81.8 MB/s eta 0:00:05\n",
            "   -- ------------------------------------- 26.2/375.9 MB 81.8 MB/s eta 0:00:05\n",
            "   -- ------------------------------------- 26.2/375.9 MB 81.8 MB/s eta 0:00:05\n",
            "   -- ------------------------------------- 26.2/375.9 MB 81.8 MB/s eta 0:00:05\n",
            "   -- ------------------------------------- 26.2/375.9 MB 81.8 MB/s eta 0:00:05\n",
            "   -- ------------------------------------- 26.2/375.9 MB 81.8 MB/s eta 0:00:05\n",
            "   -- ------------------------------------- 27.2/375.9 MB 18.7 MB/s eta 0:00:19\n",
            "   --- ------------------------------------ 30.3/375.9 MB 18.2 MB/s eta 0:00:19\n",
            "   --- ------------------------------------ 33.3/375.9 MB 17.7 MB/s eta 0:00:20\n",
            "   --- ------------------------------------ 36.5/375.9 MB 73.1 MB/s eta 0:00:05\n",
            "   ---- ----------------------------------- 38.8/375.9 MB 59.5 MB/s eta 0:00:06\n",
            "   ---- ----------------------------------- 42.7/375.9 MB 65.6 MB/s eta 0:00:06\n",
            "   ---- ----------------------------------- 44.0/375.9 MB 54.4 MB/s eta 0:00:07\n",
            "   ----- ---------------------------------- 47.5/375.9 MB 65.6 MB/s eta 0:00:06\n",
            "   ----- ---------------------------------- 48.2/375.9 MB 65.2 MB/s eta 0:00:06\n",
            "   ----- ---------------------------------- 49.0/375.9 MB 43.5 MB/s eta 0:00:08\n",
            "   ----- ---------------------------------- 51.9/375.9 MB 43.5 MB/s eta 0:00:08\n",
            "   ----- ---------------------------------- 54.6/375.9 MB 43.7 MB/s eta 0:00:08\n",
            "   ----- ---------------------------------- 56.0/375.9 MB 43.5 MB/s eta 0:00:08\n",
            "   ----- ---------------------------------- 56.0/375.9 MB 43.5 MB/s eta 0:00:08\n",
            "   ------ --------------------------------- 58.3/375.9 MB 32.8 MB/s eta 0:00:10\n",
            "   ------ --------------------------------- 62.2/375.9 MB 46.7 MB/s eta 0:00:07\n",
            "   ------ --------------------------------- 62.4/375.9 MB 38.5 MB/s eta 0:00:09\n",
            "   ------ --------------------------------- 62.5/375.9 MB 32.7 MB/s eta 0:00:10\n",
            "   ------ --------------------------------- 62.9/375.9 MB 28.4 MB/s eta 0:00:12\n",
            "   ------ --------------------------------- 62.9/375.9 MB 28.4 MB/s eta 0:00:12\n",
            "   ------ --------------------------------- 62.9/375.9 MB 28.4 MB/s eta 0:00:12\n",
            "   ------ --------------------------------- 64.1/375.9 MB 21.8 MB/s eta 0:00:15\n",
            "   ------- -------------------------------- 67.1/375.9 MB 26.2 MB/s eta 0:00:12\n",
            "   ------- -------------------------------- 67.5/375.9 MB 24.2 MB/s eta 0:00:13\n",
            "   ------- -------------------------------- 69.7/375.9 MB 22.6 MB/s eta 0:00:14\n",
            "   ------- -------------------------------- 71.3/375.9 MB 21.8 MB/s eta 0:00:14\n",
            "   ------- -------------------------------- 71.8/375.9 MB 19.3 MB/s eta 0:00:16\n",
            "   ------- -------------------------------- 74.5/375.9 MB 38.6 MB/s eta 0:00:08\n",
            "   -------- ------------------------------- 78.0/375.9 MB 46.9 MB/s eta 0:00:07\n",
            "   -------- ------------------------------- 81.1/375.9 MB 50.4 MB/s eta 0:00:06\n",
            "   -------- ------------------------------- 84.0/375.9 MB 72.6 MB/s eta 0:00:05\n",
            "   --------- ------------------------------ 87.2/375.9 MB 72.6 MB/s eta 0:00:04\n",
            "   --------- ------------------------------ 90.4/375.9 MB 65.6 MB/s eta 0:00:05\n",
            "   --------- ------------------------------ 93.6/375.9 MB 72.6 MB/s eta 0:00:04\n",
            "   ---------- ----------------------------- 96.7/375.9 MB 72.6 MB/s eta 0:00:04\n",
            "   ---------- ----------------------------- 97.8/375.9 MB 59.8 MB/s eta 0:00:05\n",
            "   ---------- ----------------------------- 99.0/375.9 MB 50.4 MB/s eta 0:00:06\n",
            "   ---------- ---------------------------- 100.8/375.9 MB 46.7 MB/s eta 0:00:06\n",
            "   ---------- ---------------------------- 101.7/375.9 MB 46.7 MB/s eta 0:00:06\n",
            "   ---------- ---------------------------- 102.8/375.9 MB 36.4 MB/s eta 0:00:08\n",
            "   ---------- ---------------------------- 102.8/375.9 MB 36.4 MB/s eta 0:00:08\n",
            "   ---------- ---------------------------- 102.8/375.9 MB 36.4 MB/s eta 0:00:08\n",
            "   ---------- ---------------------------- 103.8/375.9 MB 24.2 MB/s eta 0:00:12\n",
            "   ---------- ---------------------------- 103.8/375.9 MB 24.2 MB/s eta 0:00:12\n",
            "   ---------- ---------------------------- 104.1/375.9 MB 20.5 MB/s eta 0:00:14\n",
            "   ----------- --------------------------- 106.0/375.9 MB 19.9 MB/s eta 0:00:14\n",
            "   ----------- --------------------------- 109.0/375.9 MB 21.8 MB/s eta 0:00:13\n",
            "   ----------- --------------------------- 109.0/375.9 MB 21.8 MB/s eta 0:00:13\n",
            "   ----------- --------------------------- 111.4/375.9 MB 20.5 MB/s eta 0:00:13\n",
            "   ----------- --------------------------- 114.5/375.9 MB 43.7 MB/s eta 0:00:06\n",
            "   ------------ -------------------------- 117.9/375.9 MB 50.4 MB/s eta 0:00:06\n",
            "   ------------ -------------------------- 120.9/375.9 MB 65.6 MB/s eta 0:00:04\n",
            "   ------------ -------------------------- 123.7/375.9 MB 59.5 MB/s eta 0:00:05\n",
            "   ------------ -------------------------- 123.7/375.9 MB 59.5 MB/s eta 0:00:05\n",
            "   ------------ -------------------------- 123.7/375.9 MB 59.5 MB/s eta 0:00:05\n",
            "   ------------ -------------------------- 123.7/375.9 MB 59.5 MB/s eta 0:00:05\n",
            "   ------------ -------------------------- 123.7/375.9 MB 59.5 MB/s eta 0:00:05\n",
            "   ------------ -------------------------- 124.7/375.9 MB 26.2 MB/s eta 0:00:10\n",
            "   ------------- ------------------------- 126.1/375.9 MB 25.2 MB/s eta 0:00:10\n",
            "   ------------- ------------------------- 127.6/375.9 MB 23.4 MB/s eta 0:00:11\n",
            "   ------------- ------------------------- 130.2/375.9 MB 23.4 MB/s eta 0:00:11\n",
            "   ------------- ------------------------- 131.1/375.9 MB 23.4 MB/s eta 0:00:11\n",
            "   ------------- ------------------------- 132.3/375.9 MB 20.5 MB/s eta 0:00:12\n",
            "   -------------- ------------------------ 135.3/375.9 MB 38.5 MB/s eta 0:00:07\n",
            "   -------------- ------------------------ 137.4/375.9 MB 43.5 MB/s eta 0:00:06\n",
            "   -------------- ------------------------ 138.8/375.9 MB 38.6 MB/s eta 0:00:07\n",
            "   -------------- ------------------------ 142.1/375.9 MB 50.4 MB/s eta 0:00:05\n",
            "   -------------- ------------------------ 142.6/375.9 MB 50.4 MB/s eta 0:00:05\n",
            "   --------------- ----------------------- 145.4/375.9 MB 43.7 MB/s eta 0:00:06\n",
            "   --------------- ----------------------- 148.4/375.9 MB 50.4 MB/s eta 0:00:05\n",
            "   --------------- ----------------------- 149.9/375.9 MB 54.7 MB/s eta 0:00:05\n",
            "   --------------- ----------------------- 151.2/375.9 MB 40.9 MB/s eta 0:00:06\n",
            "   ---------------- ---------------------- 154.3/375.9 MB 50.4 MB/s eta 0:00:05\n",
            "   ---------------- ---------------------- 157.3/375.9 MB 50.4 MB/s eta 0:00:05\n",
            "   ---------------- ---------------------- 160.3/375.9 MB 65.6 MB/s eta 0:00:04\n",
            "   ---------------- ---------------------- 163.4/375.9 MB 65.6 MB/s eta 0:00:04\n",
            "   ----------------- --------------------- 166.5/375.9 MB 65.6 MB/s eta 0:00:04\n",
            "   ----------------- --------------------- 168.2/375.9 MB 54.4 MB/s eta 0:00:04\n",
            "   ----------------- --------------------- 171.6/375.9 MB 59.5 MB/s eta 0:00:04\n",
            "   ------------------ -------------------- 174.1/375.9 MB 54.4 MB/s eta 0:00:04\n",
            "   ------------------ -------------------- 175.7/375.9 MB 50.4 MB/s eta 0:00:04\n",
            "   ------------------ -------------------- 177.2/375.9 MB 54.4 MB/s eta 0:00:04\n",
            "   ------------------ -------------------- 177.2/375.9 MB 54.4 MB/s eta 0:00:04\n",
            "   ------------------ -------------------- 179.1/375.9 MB 38.5 MB/s eta 0:00:06\n",
            "   ------------------ -------------------- 182.5/375.9 MB 38.5 MB/s eta 0:00:06\n",
            "   ------------------- ------------------- 183.5/375.9 MB 38.5 MB/s eta 0:00:06\n",
            "   ------------------- ------------------- 186.4/375.9 MB 38.5 MB/s eta 0:00:05\n",
            "   ------------------- ------------------- 189.3/375.9 MB 54.4 MB/s eta 0:00:04\n",
            "   ------------------- ------------------- 192.5/375.9 MB 54.7 MB/s eta 0:00:04\n",
            "   -------------------- ------------------ 195.0/375.9 MB 59.5 MB/s eta 0:00:04\n",
            "   -------------------- ------------------ 197.4/375.9 MB 59.5 MB/s eta 0:00:04\n",
            "   -------------------- ------------------ 198.2/375.9 MB 59.5 MB/s eta 0:00:03\n",
            "   -------------------- ------------------ 198.2/375.9 MB 59.5 MB/s eta 0:00:03\n",
            "   -------------------- ------------------ 199.7/375.9 MB 38.5 MB/s eta 0:00:05\n",
            "   --------------------- ----------------- 202.6/375.9 MB 34.4 MB/s eta 0:00:06\n",
            "   --------------------- ----------------- 205.6/375.9 MB 40.9 MB/s eta 0:00:05\n",
            "   --------------------- ----------------- 208.5/375.9 MB 59.8 MB/s eta 0:00:03\n",
            "   --------------------- ----------------- 211.2/375.9 MB 65.6 MB/s eta 0:00:03\n",
            "   ---------------------- ---------------- 214.4/375.9 MB 65.6 MB/s eta 0:00:03\n",
            "   ---------------------- ---------------- 217.6/375.9 MB 65.6 MB/s eta 0:00:03\n",
            "   ---------------------- ---------------- 219.2/375.9 MB 59.5 MB/s eta 0:00:03\n",
            "   ----------------------- --------------- 222.2/375.9 MB 59.5 MB/s eta 0:00:03\n",
            "   ----------------------- --------------- 222.3/375.9 MB 59.5 MB/s eta 0:00:03\n",
            "   ----------------------- --------------- 223.1/375.9 MB 40.9 MB/s eta 0:00:04\n",
            "   ----------------------- --------------- 226.1/375.9 MB 40.9 MB/s eta 0:00:04\n",
            "   ----------------------- --------------- 229.1/375.9 MB 40.9 MB/s eta 0:00:04\n",
            "   ------------------------ -------------- 232.4/375.9 MB 43.7 MB/s eta 0:00:04\n",
            "   ------------------------ -------------- 235.5/375.9 MB 65.6 MB/s eta 0:00:03\n",
            "   ------------------------ -------------- 238.5/375.9 MB 65.6 MB/s eta 0:00:03\n",
            "   ------------------------- ------------- 241.2/375.9 MB 65.6 MB/s eta 0:00:03\n",
            "   ------------------------- ------------- 242.8/375.9 MB 59.5 MB/s eta 0:00:03\n",
            "   ------------------------- ------------- 245.8/375.9 MB 59.5 MB/s eta 0:00:03\n",
            "   ------------------------- ------------- 248.9/375.9 MB 59.8 MB/s eta 0:00:03\n",
            "   -------------------------- ------------ 251.9/375.9 MB 65.6 MB/s eta 0:00:02\n",
            "   -------------------------- ------------ 255.2/375.9 MB 65.6 MB/s eta 0:00:02\n",
            "   -------------------------- ------------ 257.0/375.9 MB 59.5 MB/s eta 0:00:02\n",
            "   -------------------------- ------------ 259.0/375.9 MB 59.5 MB/s eta 0:00:02\n",
            "   -------------------------- ------------ 259.0/375.9 MB 59.5 MB/s eta 0:00:02\n",
            "   --------------------------- ----------- 260.2/375.9 MB 38.5 MB/s eta 0:00:04\n",
            "   --------------------------- ----------- 262.1/375.9 MB 36.3 MB/s eta 0:00:04\n",
            "   --------------------------- ----------- 262.2/375.9 MB 31.2 MB/s eta 0:00:04\n",
            "   --------------------------- ----------- 263.8/375.9 MB 29.8 MB/s eta 0:00:04\n",
            "   --------------------------- ----------- 266.3/375.9 MB 31.2 MB/s eta 0:00:04\n",
            "   --------------------------- ----------- 266.3/375.9 MB 31.2 MB/s eta 0:00:04\n",
            "   --------------------------- ----------- 266.6/375.9 MB 24.2 MB/s eta 0:00:05\n",
            "   --------------------------- ----------- 267.4/375.9 MB 23.4 MB/s eta 0:00:05\n",
            "   --------------------------- ----------- 267.4/375.9 MB 23.4 MB/s eta 0:00:05\n",
            "   --------------------------- ----------- 267.4/375.9 MB 23.4 MB/s eta 0:00:05\n",
            "   ---------------------------- ---------- 270.2/375.9 MB 21.9 MB/s eta 0:00:05\n",
            "   ---------------------------- ---------- 273.6/375.9 MB 27.3 MB/s eta 0:00:04\n",
            "   ---------------------------- ---------- 276.9/375.9 MB 38.6 MB/s eta 0:00:03\n",
            "   ----------------------------- --------- 280.1/375.9 MB 72.6 MB/s eta 0:00:02\n",
            "   ----------------------------- --------- 281.0/375.9 MB 72.6 MB/s eta 0:00:02\n",
            "   ----------------------------- --------- 283.7/375.9 MB 54.4 MB/s eta 0:00:02\n",
            "   ----------------------------- --------- 286.7/375.9 MB 54.4 MB/s eta 0:00:02\n",
            "   ------------------------------ -------- 289.8/375.9 MB 54.4 MB/s eta 0:00:02\n",
            "   ------------------------------ -------- 292.7/375.9 MB 65.6 MB/s eta 0:00:02\n",
            "   ------------------------------ -------- 295.9/375.9 MB 65.6 MB/s eta 0:00:02\n",
            "   ------------------------------- ------- 298.8/375.9 MB 65.6 MB/s eta 0:00:02\n",
            "   ------------------------------- ------- 302.0/375.9 MB 65.6 MB/s eta 0:00:02\n",
            "   ------------------------------- ------- 305.3/375.9 MB 65.6 MB/s eta 0:00:02\n",
            "   ------------------------------- ------- 308.3/375.9 MB 65.6 MB/s eta 0:00:02\n",
            "   -------------------------------- ------ 311.5/375.9 MB 72.6 MB/s eta 0:00:01\n",
            "   -------------------------------- ------ 314.7/375.9 MB 72.6 MB/s eta 0:00:01\n",
            "   -------------------------------- ------ 317.5/375.9 MB 65.6 MB/s eta 0:00:01\n",
            "   --------------------------------- ----- 320.8/375.9 MB 73.1 MB/s eta 0:00:01\n",
            "   --------------------------------- ----- 321.4/375.9 MB 54.7 MB/s eta 0:00:01\n",
            "   --------------------------------- ----- 322.8/375.9 MB 46.7 MB/s eta 0:00:02\n",
            "   --------------------------------- ----- 323.0/375.9 MB 46.7 MB/s eta 0:00:02\n",
            "   --------------------------------- ----- 324.4/375.9 MB 36.4 MB/s eta 0:00:02\n",
            "   --------------------------------- ----- 325.9/375.9 MB 32.7 MB/s eta 0:00:02\n",
            "   --------------------------------- ----- 326.1/375.9 MB 32.8 MB/s eta 0:00:02\n",
            "   --------------------------------- ----- 327.1/375.9 MB 28.4 MB/s eta 0:00:02\n",
            "   --------------------------------- ----- 327.1/375.9 MB 28.4 MB/s eta 0:00:02\n",
            "   --------------------------------- ----- 327.1/375.9 MB 28.4 MB/s eta 0:00:02\n",
            "   --------------------------------- ----- 327.1/375.9 MB 28.4 MB/s eta 0:00:02\n",
            "   --------------------------------- ----- 327.1/375.9 MB 28.4 MB/s eta 0:00:02\n",
            "   --------------------------------- ----- 327.1/375.9 MB 28.4 MB/s eta 0:00:02\n",
            "   --------------------------------- ----- 327.1/375.9 MB 28.4 MB/s eta 0:00:02\n",
            "   --------------------------------- ----- 327.1/375.9 MB 28.4 MB/s eta 0:00:02\n",
            "   --------------------------------- ----- 327.1/375.9 MB 28.4 MB/s eta 0:00:02\n",
            "   --------------------------------- ----- 327.1/375.9 MB 28.4 MB/s eta 0:00:02\n",
            "   --------------------------------- ----- 327.1/375.9 MB 28.4 MB/s eta 0:00:02\n",
            "   ---------------------------------- ---- 329.8/375.9 MB 11.9 MB/s eta 0:00:04\n",
            "   ---------------------------------- ---- 330.3/375.9 MB 11.9 MB/s eta 0:00:04\n",
            "   ---------------------------------- ---- 331.5/375.9 MB 11.5 MB/s eta 0:00:04\n",
            "   ---------------------------------- ---- 334.5/375.9 MB 12.8 MB/s eta 0:00:04\n",
            "   ----------------------------------- --- 337.7/375.9 MB 46.7 MB/s eta 0:00:01\n",
            "   ----------------------------------- --- 340.5/375.9 MB 46.9 MB/s eta 0:00:01\n",
            "   ----------------------------------- --- 343.5/375.9 MB 65.6 MB/s eta 0:00:01\n",
            "   ----------------------------------- --- 346.6/375.9 MB 65.6 MB/s eta 0:00:01\n",
            "   ------------------------------------ -- 349.5/375.9 MB 65.6 MB/s eta 0:00:01\n",
            "   ------------------------------------ -- 352.5/375.9 MB 65.6 MB/s eta 0:00:01\n",
            "   ------------------------------------ -- 355.5/375.9 MB 65.6 MB/s eta 0:00:01\n",
            "   ------------------------------------- - 358.5/375.9 MB 65.2 MB/s eta 0:00:01\n",
            "   ------------------------------------- - 361.4/375.9 MB 65.2 MB/s eta 0:00:01\n",
            "   ------------------------------------- - 362.2/375.9 MB 50.4 MB/s eta 0:00:01\n",
            "   ------------------------------------- - 365.3/375.9 MB 54.7 MB/s eta 0:00:01\n",
            "   --------------------------------------  368.4/375.9 MB 54.7 MB/s eta 0:00:01\n",
            "   --------------------------------------  371.7/375.9 MB 54.7 MB/s eta 0:00:01\n",
            "   --------------------------------------  374.6/375.9 MB 65.6 MB/s eta 0:00:01\n",
            "   --------------------------------------  375.9/375.9 MB 72.6 MB/s eta 0:00:01\n",
            "   --------------------------------------  375.9/375.9 MB 72.6 MB/s eta 0:00:01\n",
            "   --------------------------------------  375.9/375.9 MB 72.6 MB/s eta 0:00:01\n",
            "   --------------------------------------  375.9/375.9 MB 72.6 MB/s eta 0:00:01\n",
            "   --------------------------------------  375.9/375.9 MB 72.6 MB/s eta 0:00:01\n",
            "   --------------------------------------  375.9/375.9 MB 72.6 MB/s eta 0:00:01\n",
            "   --------------------------------------  375.9/375.9 MB 72.6 MB/s eta 0:00:01\n",
            "   --------------------------------------  375.9/375.9 MB 72.6 MB/s eta 0:00:01\n",
            "   --------------------------------------  375.9/375.9 MB 72.6 MB/s eta 0:00:01\n",
            "   --------------------------------------  375.9/375.9 MB 72.6 MB/s eta 0:00:01\n",
            "   --------------------------------------  375.9/375.9 MB 72.6 MB/s eta 0:00:01\n",
            "   --------------------------------------  375.9/375.9 MB 72.6 MB/s eta 0:00:01\n",
            "   --------------------------------------- 375.9/375.9 MB 14.6 MB/s eta 0:00:00\n",
            "Using cached keras-3.10.0-py3-none-any.whl (1.4 MB)\n",
            "Downloading ml_dtypes-0.5.1-cp311-cp311-win_amd64.whl (209 kB)\n",
            "   ---------------------------------------- 0.0/209.7 kB ? eta -:--:--\n",
            "   ---------------------------------------- 209.7/209.7 kB 6.4 MB/s eta 0:00:00\n",
            "Downloading tensorboard-2.19.0-py3-none-any.whl (5.5 MB)\n",
            "   ---------------------------------------- 0.0/5.5 MB ? eta -:--:--\n",
            "   ---------------------- ----------------- 3.0/5.5 MB 64.5 MB/s eta 0:00:01\n",
            "   ---------------------------------------  5.5/5.5 MB 58.4 MB/s eta 0:00:01\n",
            "   ---------------------------------------- 5.5/5.5 MB 49.9 MB/s eta 0:00:00\n",
            "Using cached namex-0.1.0-py3-none-any.whl (5.9 kB)\n",
            "Using cached optree-0.16.0-cp311-cp311-win_amd64.whl (314 kB)\n",
            "Downloading rich-14.0.0-py3-none-any.whl (243 kB)\n",
            "   ---------------------------------------- 0.0/243.2 kB ? eta -:--:--\n",
            "   -------------------------------------- - 235.5/243.2 kB ? eta -:--:--\n",
            "   -------------------------------------- - 235.5/243.2 kB ? eta -:--:--\n",
            "   ---------------------------------------- 243.2/243.2 kB 2.5 MB/s eta 0:00:00\n",
            "Using cached markdown_it_py-3.0.0-py3-none-any.whl (87 kB)\n",
            "Downloading mdurl-0.1.2-py3-none-any.whl (10.0 kB)\n",
            "Installing collected packages: namex, optree, ml-dtypes, mdurl, tensorboard, markdown-it-py, rich, keras, tensorflow\n",
            "  Attempting uninstall: ml-dtypes\n",
            "    Found existing installation: ml-dtypes 0.2.0\n",
            "    Uninstalling ml-dtypes-0.2.0:\n",
            "      Successfully uninstalled ml-dtypes-0.2.0\n",
            "  Attempting uninstall: tensorboard\n",
            "    Found existing installation: tensorboard 2.15.2\n",
            "    Uninstalling tensorboard-2.15.2:\n",
            "      Successfully uninstalled tensorboard-2.15.2\n",
            "  Attempting uninstall: keras\n",
            "    Found existing installation: keras 2.15.0\n",
            "    Uninstalling keras-2.15.0:\n",
            "      Successfully uninstalled keras-2.15.0\n",
            "  Attempting uninstall: tensorflow\n",
            "    Found existing installation: tensorflow 2.15.0\n",
            "    Uninstalling tensorflow-2.15.0:\n",
            "      Successfully uninstalled tensorflow-2.15.0\n",
            "  Rolling back uninstall of tensorflow\n",
            "  Moving to c:\\users\\joão carvalho\\appdata\\local\\programs\\python\\python311\\lib\\site-packages\\tensorflow-2.15.0.dist-info\\\n",
            "   from C:\\Users\\João Carvalho\\AppData\\Local\\Programs\\Python\\Python311\\Lib\\site-packages\\~ensorflow-2.15.0.dist-info\n",
            "Note: you may need to restart the kernel to use updated packages.\n"
          ]
        },
        {
          "name": "stderr",
          "output_type": "stream",
          "text": [
            "  WARNING: Failed to remove contents in a temporary directory 'C:\\Users\\João Carvalho\\AppData\\Local\\Programs\\Python\\Python311\\Lib\\site-packages\\~l_dtypes'.\n",
            "  You can safely remove it manually.\n",
            "ERROR: Could not install packages due to an OSError: [WinError 5] Acesso negado: 'c:\\\\Users\\\\João Carvalho\\\\AppData\\\\Local\\\\Programs\\\\Python\\\\Python311\\\\Lib\\\\site-packages\\\\tensorflow\\\\compiler\\\\mlir\\\\quantization\\\\tensorflow\\\\python\\\\pywrap_quantize_model.pyd'\n",
            "Consider using the `--user` option or check the permissions.\n",
            "\n",
            "\n",
            "[notice] A new release of pip is available: 24.0 -> 25.1.1\n",
            "[notice] To update, run: python.exe -m pip install --upgrade pip\n"
          ]
        }
      ],
      "source": [
        "#pip install --upgrade tensorflow keras\n"
      ]
    },
    {
      "cell_type": "code",
      "execution_count": 13,
      "metadata": {
        "id": "H8mGuzlhvlUU"
      },
      "outputs": [],
      "source": [
        "# bibliotecas\n",
        "import matplotlib.pyplot as plt\n",
        "import tensorflow as tf\n",
        "import seaborn as sns\n",
        "import numpy as np\n",
        "\n",
        "from tensorflow.keras.applications import MobileNetV2\n",
        "from tensorflow.keras import layers, models\n",
        "from tensorflow.keras.callbacks import EarlyStopping\n",
        "\n",
        "from sklearn.metrics import classification_report, confusion_matrix, f1_score, roc_auc_score\n",
        "\n",
        "import os\n",
        "from enum import Enum\n",
        "from typing import Tuple, Callable\n",
        "from kagglehub import dataset_download"
      ]
    },
    {
      "cell_type": "code",
      "execution_count": 16,
      "metadata": {
        "id": "R_xyxSYjfZUK"
      },
      "outputs": [],
      "source": [
        "__ONLINE_DATASET_URI = \"birdy654/cifake-real-and-ai-generated-synthetic-images\"\n",
        "__BASE_LOCAL_DATA_PATHS = [\n",
        "    (\"../data/train/REAL\", 50000),\n",
        "    (\"../data/train/FAKE\", 50000),\n",
        "    (\"../data/test/REAL\", 10000),\n",
        "    (\"../data/test/FAKE\", 10000)\n",
        "]\n",
        "\n",
        "class ModelType(Enum):\n",
        "    GENERAL = \"general\"\n",
        "    EFFICIENTNET_B0 = \"efficientnet_b0\"\n",
        "    RESNET50 = \"resnet50\"\n",
        "    XCEPTION = \"xception\"\n",
        "    MOBILENET_V2 = \"mobilenet_v2\"\n",
        "    SHUFFLENET_V2 = \"shufflenet_v2\"\n",
        "\n",
        "def _get_tf_preprocess_fn(model_type: ModelType,\n",
        "                          resize_to: Tuple[int, int]) -> Callable[[tf.Tensor, tf.Tensor], Tuple[tf.Tensor, tf.Tensor]]:\n",
        "    def preprocess(image: tf.Tensor, label: tf.Tensor) -> Tuple[tf.Tensor, tf.Tensor]:\n",
        "        image = tf.image.resize(image, resize_to)\n",
        "        image = tf.cast(image, tf.float32) / 255.0\n",
        "\n",
        "        if model_type in [ModelType.EFFICIENTNET_B0, ModelType.RESNET50]:\n",
        "            mean = tf.constant([0.485, 0.456, 0.406])\n",
        "            std = tf.constant([0.229, 0.224, 0.225])\n",
        "            image = (image - mean) / std\n",
        "        elif model_type in [ModelType.MOBILENET_V2]:\n",
        "            image = (image - 0.5) * 2.0\n",
        "        return image, label\n",
        "    return preprocess\n",
        "\n",
        "def load_and_preprocess_data_tf(resize_to: Tuple[int, int] = (224, 224),\n",
        "                                batch_size: int = 32,\n",
        "                                model_type: ModelType = ModelType.GENERAL,\n",
        "                                manual_path: str = None) -> Tuple[tf.data.Dataset, tf.data.Dataset]:\n",
        "    if manual_path is not None:\n",
        "        train_path = os.path.join(manual_path, \"train\")\n",
        "        test_path = os.path.join(manual_path, \"test\")\n",
        "    else:\n",
        "        train_path = \"../data/train\"\n",
        "        test_path = \"../data/test\"\n",
        "\n",
        "\n",
        "    preprocess_fn = _get_tf_preprocess_fn(model_type, resize_to)\n",
        "\n",
        "    train_ds = tf.keras.utils.image_dataset_from_directory(\n",
        "        train_path,\n",
        "        image_size=resize_to,\n",
        "        batch_size=batch_size,\n",
        "        shuffle=True\n",
        "    ).map(preprocess_fn).prefetch(tf.data.AUTOTUNE)\n",
        "\n",
        "    test_ds = tf.keras.utils.image_dataset_from_directory(\n",
        "        test_path,\n",
        "        image_size=resize_to,\n",
        "        batch_size=batch_size,\n",
        "        shuffle=False\n",
        "    ).map(preprocess_fn).prefetch(tf.data.AUTOTUNE)\n",
        "\n",
        "    return train_ds, test_ds\n"
      ]
    },
    {
      "cell_type": "code",
      "execution_count": null,
      "metadata": {
        "colab": {
          "base_uri": "https://localhost:8080/"
        },
        "id": "OKsgtP0bdynJ",
        "outputId": "1843d250-62a9-45c4-88dd-39c21f22cfe8"
      },
      "outputs": [
        {
          "name": "stdout",
          "output_type": "stream",
          "text": [
            "Dataset URL: https://www.kaggle.com/datasets/birdy654/cifake-real-and-ai-generated-synthetic-images\n",
            "['test', 'train']\n"
          ]
        }
      ],
      "source": [
        "#meu pc (joão) virou uma batata pelo acento no meu nome\n",
        "'''import os\n",
        "import shutil\n",
        "from kaggle.api.kaggle_api_extended import KaggleApi\n",
        "\n",
        "# Caminhos absolutos no Windows\n",
        "origem = r\"C:\\Users\\João Carvalho\\Desktop\\vou me matar\\kaggle.json\"\n",
        "destino = r\"C:\\Users\\João Carvalho\\.kaggle\\kaggle.json\"\n",
        "\n",
        "# Cria a pasta .kaggle se não existir\n",
        "os.makedirs(os.path.dirname(destino), exist_ok=True)\n",
        "\n",
        "# Copia o arquivo\n",
        "shutil.copy(origem, destino)\n",
        "\n",
        "# Usa a API normalmente\n",
        "api = KaggleApi()\n",
        "api.authenticate()\n",
        "api.dataset_download_files('birdy654/cifake-real-and-ai-generated-synthetic-images', path='cifake', unzip=True)\n",
        "\n",
        "print(os.listdir(\"cifake\"))\n",
        "'''"
      ]
    },
    {
      "cell_type": "code",
      "execution_count": 17,
      "metadata": {
        "id": "EdZ8ZM4Td_CJ"
      },
      "outputs": [],
      "source": [
        "train_path = \"/content/cifake/train\"\n",
        "test_path = \"/content/cifake/test\"\n"
      ]
    },
    {
      "cell_type": "markdown",
      "metadata": {
        "id": "iHgIsnlc3J-x"
      },
      "source": [
        "### Carregamento e Pré-Processamento do Dataset"
      ]
    },
    {
      "cell_type": "code",
      "execution_count": 18,
      "metadata": {
        "colab": {
          "base_uri": "https://localhost:8080/"
        },
        "id": "A8liFucq0ywf",
        "outputId": "66ca3b3f-4a31-4919-cfa6-da56f7d9581c"
      },
      "outputs": [
        {
          "name": "stdout",
          "output_type": "stream",
          "text": [
            "Found 100000 files belonging to 2 classes.\n",
            "Found 20000 files belonging to 2 classes.\n"
          ]
        }
      ],
      "source": [
        "batch_size = 32\n",
        "image_size = (224, 224)\n",
        "pi = \"C:/TT\"\n",
        "train_ds, test_ds = load_and_preprocess_data_tf(\n",
        "    resize_to=image_size,\n",
        "    batch_size=batch_size,\n",
        "    model_type=ModelType.MOBILENET_V2,\n",
        "    manual_path = r\"C:/TT/cifake\"\n",
        "\n",
        ")"
      ]
    },
    {
      "cell_type": "markdown",
      "metadata": {
        "id": "AXt9nU5q290R"
      },
      "source": [
        "### Divisão Holdout"
      ]
    },
    {
      "cell_type": "code",
      "execution_count": 19,
      "metadata": {
        "id": "hESJdappA1hy"
      },
      "outputs": [],
      "source": [
        "total_batches = tf.data.experimental.cardinality(train_ds).numpy()\n",
        "total_samples = total_batches * batch_size"
      ]
    },
    {
      "cell_type": "code",
      "execution_count": 20,
      "metadata": {
        "id": "Gt4QMw20BFsL"
      },
      "outputs": [],
      "source": [
        "# Define proporção de treino (70%) e validação (30%) usando o número de batches\n",
        "train_batches = int(total_batches * 0.7)\n",
        "val_batches = total_batches - train_batches"
      ]
    },
    {
      "cell_type": "code",
      "execution_count": 21,
      "metadata": {
        "id": "3dqYVZurBKc-"
      },
      "outputs": [],
      "source": [
        "# Embaralha os batches do dataset\n",
        "train_ds_shuffled = train_ds.shuffle(buffer_size=1000, seed=42, reshuffle_each_iteration=False)"
      ]
    },
    {
      "cell_type": "code",
      "execution_count": 22,
      "metadata": {
        "id": "fq_awWkgURkw"
      },
      "outputs": [],
      "source": [
        "# Divisão trenio e validação\n",
        "train_ds = train_ds_shuffled.take(train_batches)\n",
        "val_ds = train_ds_shuffled.skip(train_batches)\n",
        "\n",
        "train_ds = train_ds.prefetch(tf.data.AUTOTUNE)\n",
        "val_ds = val_ds.prefetch(tf.data.AUTOTUNE)"
      ]
    },
    {
      "cell_type": "code",
      "execution_count": 23,
      "metadata": {
        "colab": {
          "base_uri": "https://localhost:8080/"
        },
        "id": "6fVPTUNAURkw",
        "outputId": "fe3cbeee-f3db-4983-f0ad-fd2dfab1fc8c"
      },
      "outputs": [
        {
          "name": "stdout",
          "output_type": "stream",
          "text": [
            "Batches de treino: 2187\n",
            "Batches de validação: 938\n",
            "Aproximadamente 69984 amostras de treino\n",
            "Aproximadamente 30016 amostras de validação\n"
          ]
        }
      ],
      "source": [
        "print(f\"Batches de treino: {train_batches}\")\n",
        "print(f\"Batches de validação: {val_batches}\")\n",
        "print(f\"Aproximadamente {train_batches * batch_size} amostras de treino\")\n",
        "print(f\"Aproximadamente {val_batches * batch_size} amostras de validação\")"
      ]
    },
    {
      "cell_type": "markdown",
      "metadata": {
        "id": "5ZT0bZlOURkw"
      },
      "source": [
        "## Treino"
      ]
    },
    {
      "cell_type": "markdown",
      "metadata": {
        "id": "ELV7Wr6nURkw"
      },
      "source": [
        "### Modelo\n",
        "\n",
        "**ResNet50**\n",
        "\n",
        "O ResNet50 é uma arquitetura de rede neural convolucional profunda de ponta, desenvolvida pela Microsoft Research em 2015. É uma variante da popular arquitetura ResNet e compreende 50 camadas que permitem o aprendizado de arquiteturas muito mais profundas do que era possível anteriormente, sem o problema de gradientes que desaparecem.\n",
        "\n",
        "A arquitetura do ResNet50 é dividida em quatro partes principais: as camadas convolucionais, o bloco de identidade, o bloco convolucional e as camadas totalmente conectadas. As camadas convolucionais são responsáveis ​​por extrair características da imagem de entrada, o bloco de identidade e o bloco convolucional processam e transformam essas características, e as camadas totalmente conectadas fazem a classificação final. O ResNet50 foi treinado no grande conjunto de dados ImageNet, alcançando uma taxa de erro equivalente ao desempenho humano, tornando-o um modelo poderoso para diversas tarefas de classificação de imagens, como detecção de objetos, reconhecimento facial e análise de imagens médicas. Além disso, também tem sido usado como um extrator de características para outras tarefas, como detecção de objetos e segmentação semântica.\n",
        "\n",
        "Fonte: https://medium.com/@nitishkundu1993/exploring-resnet50-an-in-depth-look-at-the-model-architecture-and-code-implementation-d8d8fa67e46f"
      ]
    },
    {
      "cell_type": "code",
      "execution_count": 24,
      "metadata": {
        "colab": {
          "base_uri": "https://localhost:8080/"
        },
        "id": "Y4-neAB8URkw",
        "outputId": "56592f99-892b-408e-ccb6-64be8c14a220"
      },
      "outputs": [
        {
          "name": "stdout",
          "output_type": "stream",
          "text": [
            "Usando: CPU\n"
          ]
        }
      ],
      "source": [
        "device = \"GPU\" if len(tf.config.list_physical_devices(\"GPU\")) > 0 else \"CPU\"\n",
        "print(f\"Usando: {device}\")"
      ]
    },
    {
      "cell_type": "code",
      "execution_count": null,
      "metadata": {
        "colab": {
          "base_uri": "https://localhost:8080/",
          "height": 1000
        },
        "id": "JB5CIkMBURkw",
        "outputId": "dd65c0f8-eae2-4d86-8587-abc1ef8ab969"
      },
      "outputs": [
        {
          "name": "stdout",
          "output_type": "stream",
          "text": [
            "Model: \"sequential_1\"\n",
            "_________________________________________________________________\n",
            " Layer (type)                Output Shape              Param #   \n",
            "=================================================================\n",
            " mobilenetv2_1.00_224 (Func  (None, 7, 7, 1280)        2257984   \n",
            " tional)                                                         \n",
            "                                                                 \n",
            " global_average_pooling2d_1  (None, 1280)              0         \n",
            "  (GlobalAveragePooling2D)                                       \n",
            "                                                                 \n",
            " dense_2 (Dense)             (None, 64)                81984     \n",
            "                                                                 \n",
            " dropout_1 (Dropout)         (None, 64)                0         \n",
            "                                                                 \n",
            " dense_3 (Dense)             (None, 1)                 65        \n",
            "                                                                 \n",
            "=================================================================\n",
            "Total params: 2340033 (8.93 MB)\n",
            "Trainable params: 82049 (320.50 KB)\n",
            "Non-trainable params: 2257984 (8.61 MB)\n",
            "_________________________________________________________________\n",
            "Epoch 1/50\n",
            " 303/1000 [========>.....................] - ETA: 3:56 - loss: 0.4830 - accuracy: 0.7674"
          ]
        }
      ],
      "source": [
        "base_model = MobileNetV2(weights='imagenet', include_top=False, input_shape=(*image_size, 3))\n",
        "base_model.trainable = False\n",
        "\n",
        "model = models.Sequential([\n",
        "    base_model,\n",
        "    layers.GlobalAveragePooling2D(),\n",
        "    layers.Dense(64, activation='relu'),\n",
        "    layers.Dropout(0.5),\n",
        "    layers.Dense(1, activation='sigmoid')\n",
        "])\n",
        "\n",
        "model.compile(\n",
        "    optimizer='adam',\n",
        "    loss='binary_crossentropy',\n",
        "    metrics=['accuracy']\n",
        ")\n",
        "\n",
        "model.summary()\n",
        "\n",
        "early_stopping = EarlyStopping(\n",
        "    monitor='val_loss',\n",
        "    patience=5,\n",
        "    restore_best_weights=True\n",
        ")\n",
        "\n",
        "tf.debugging.set_log_device_placement(True)\n",
        "\n",
        "\n",
        "history = model.fit(\n",
        "    train_ds,\n",
        "    validation_data=val_ds,\n",
        "    epochs=50,\n",
        "    steps_per_epoch=1000,\n",
        "    validation_steps=250,\n",
        "    callbacks=[early_stopping]\n",
        ")"
      ]
    },
    {
      "cell_type": "code",
      "execution_count": 14,
      "metadata": {
        "id": "Yd23NDsEURkx"
      },
      "outputs": [
        {
          "name": "stdout",
          "output_type": "stream",
          "text": [
            "5000/5000 [==============================] - 228s 45ms/step\n"
          ]
        },
        {
          "data": {
            "image/png": "[encoded data removed]",
            "text/plain": [
              "<Figure size 500x400 with 2 Axes>"
            ]
          },
          "metadata": {},
          "output_type": "display_data"
        },
        {
          "name": "stdout",
          "output_type": "stream",
          "text": [
            "\n",
            "Relatório de Classificação:\n",
            "              precision    recall  f1-score   support\n",
            "\n",
            "        Real       0.84      0.92      0.88     10000\n",
            "        Fake       0.91      0.83      0.87     10000\n",
            "\n",
            "    accuracy                           0.87     20000\n",
            "   macro avg       0.88      0.87      0.87     20000\n",
            "weighted avg       0.88      0.87      0.87     20000\n",
            "\n",
            "AUC (ROC): 0.9503\n"
          ]
        },
        {
          "data": {
            "image/png": "[encoded data removed]",
            "text/plain": [
              "<Figure size 800x400 with 2 Axes>"
            ]
          },
          "metadata": {},
          "output_type": "display_data"
        }
      ],
      "source": [
        "y_pred_prob = model.predict(test_ds)\n",
        "y_pred = (y_pred_prob > 0.5).astype(int).ravel()\n",
        "\n",
        "# Extrair labels verdadeiros do dataset de teste\n",
        "y_test = []\n",
        "for _, labels in test_ds:\n",
        "    y_test.extend(labels.numpy())\n",
        "y_test = np.array(y_test)\n",
        "\n",
        "# Flatten y_pred_prob para garantir formato correto\n",
        "y_pred_prob = y_pred_prob.ravel()\n",
        "\n",
        "cm = confusion_matrix(y_test, y_pred)\n",
        "plt.figure(figsize=(5, 4))\n",
        "sns.heatmap(cm, annot=True, fmt='d', cmap='Blues', xticklabels=['Real', 'Fake'], yticklabels=['Real', 'Fake'])\n",
        "plt.xlabel(\"Predito\")\n",
        "plt.ylabel(\"Real\")\n",
        "plt.title(\"Matriz de Confusão\")\n",
        "plt.show()\n",
        "\n",
        "print(\"\\nRelatório de Classificação:\")\n",
        "print(classification_report(y_test, y_pred, target_names=[\"Real\", \"Fake\"]))\n",
        "\n",
        "roc_auc = roc_auc_score(y_test, y_pred_prob)\n",
        "print(f\"AUC (ROC): {roc_auc:.4f}\")\n",
        "\n",
        "plt.figure(figsize=(8, 4))\n",
        "\n",
        "# Acurácia\n",
        "plt.subplot(1, 2, 1)\n",
        "plt.plot(history.history['accuracy'], label='Treino')\n",
        "plt.plot(history.history['val_accuracy'], label='Validação')\n",
        "plt.title(\"Curva de Aprendizado - Acurácia\")\n",
        "plt.xlabel(\"Época\")\n",
        "plt.ylabel(\"Acurácia\")\n",
        "plt.legend()\n",
        "plt.grid()\n",
        "\n",
        "# Perda\n",
        "plt.subplot(1, 2, 2)\n",
        "plt.plot(history.history['loss'], label='Treino')\n",
        "plt.plot(history.history['val_loss'], label='Validação')\n",
        "plt.title(\"Curva de Aprendizado - Perda\")\n",
        "plt.xlabel(\"Época\")\n",
        "plt.ylabel(\"Perda (Loss)\")\n",
        "plt.legend()\n",
        "plt.grid()\n",
        "\n",
        "plt.show()"
      ]
    },
    {
      "cell_type": "code",
      "execution_count": null,
      "metadata": {},
      "outputs": [],
      "source": [
        "import json\n",
        "with open('history_effct.json', 'w') as f:\n",
        "    json.dump(history.history, f)"
      ]
    },
    {
      "cell_type": "code",
      "execution_count": 15,
      "metadata": {
        "id": "_0P0Amo3URkx"
      },
      "outputs": [],
      "source": [
        "model.save(\"MobileNet.keras\")"
      ]
    }
  ],
  "metadata": {
    "accelerator": "GPU",
    "colab": {
      "gpuType": "T4",
      "provenance": []
    },
    "kernelspec": {
      "display_name": "Python 3",
      "name": "python3"
    },
    "language_info": {
      "codemirror_mode": {
        "name": "ipython",
        "version": 3
      },
      "file_extension": ".py",
      "mimetype": "text/x-python",
      "name": "python",
      "nbconvert_exporter": "python",
      "pygments_lexer": "ipython3",
      "version": "3.11.9"
    }
  },
  "nbformat": 4,
  "nbformat_minor": 0
}
