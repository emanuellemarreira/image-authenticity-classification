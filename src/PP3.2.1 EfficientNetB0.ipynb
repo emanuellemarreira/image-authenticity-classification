{
 "cells": [
  {
   "cell_type": "code",
   "execution_count": null,
   "id": "2fd64067",
   "metadata": {},
   "outputs": [],
   "source": [
    "import numpy as np\n",
    "import tensorflow as tf\n",
    "import matplotlib.pyplot as plt\n",
    "import seaborn as sns\n",
    "import torch\n",
    "\n",
    "from tensorflow.keras.applications import EfficientNetB0\n",
    "from tensorflow.keras.applications.efficientnet import preprocess_input\n",
    "from tensorflow.keras import layers, models\n",
    "from tensorflow.keras.optimizers import Adam\n",
    "\n",
    "from sklearn.model_selection import StratifiedShuffleSplit\n",
    "from sklearn.metrics import confusion_matrix, classification_report\n",
    "\n",
    "from torch.utils.data import Subset\n"
   ]
  },
  {
   "cell_type": "markdown",
   "id": "659cdb75",
   "metadata": {},
   "source": [
    "### Carregamento e Pré-Processamento do Dataset"
   ]
  },
  {
   "cell_type": "code",
   "execution_count": null,
   "id": "f6129df7",
   "metadata": {},
   "outputs": [],
   "source": [
    "from utils import data_utils\n",
    "\n",
    "\n",
    "image_size = (224, 224)\n",
    "train_data, test_data = data_utils.load_and_preprocess_data(resize_to=image_size, keras_format=True)"
   ]
  },
  {
   "cell_type": "markdown",
   "id": "3859db3a",
   "metadata": {},
   "source": [
    "### Divisão Holdout"
   ]
  },
  {
   "cell_type": "code",
   "execution_count": null,
   "id": "468db4ed",
   "metadata": {},
   "outputs": [],
   "source": [
    "split = StratifiedShuffleSplit(n_splits=1, test_size=0.3, random_state=42)\n",
    "train_idx, val_idx = next(split.split(np.zeros(len(train_data.targets)), train_data.targets))\n"
   ]
  },
  {
   "cell_type": "code",
   "execution_count": null,
   "id": "9517688b",
   "metadata": {},
   "outputs": [],
   "source": [
    "train_split = Subset(train_data, train_idx)\n",
    "val_split = Subset(train_data, val_idx)"
   ]
  },
  {
   "cell_type": "code",
   "execution_count": null,
   "id": "c8d933d2",
   "metadata": {},
   "outputs": [],
   "source": [
    "print(f\"Treino:    {len(train_split)} imagens\")\n",
    "print(f\"Validação: {len(val_split)} imagens\")\n",
    "print(f\"Teste:     {len(test_data)} imagens\")"
   ]
  },
  {
   "cell_type": "code",
   "execution_count": null,
   "id": "f6d55ce5",
   "metadata": {},
   "outputs": [],
   "source": [
    "def get_X_y(dataset):\n",
    "    X = []\n",
    "    y = []\n",
    "    for img, label in dataset:\n",
    "        X.append(img.numpy())  \n",
    "        y.append(label)\n",
    "    X = np.stack(X)\n",
    "    y = np.array(y)\n",
    "    return X, y\n"
   ]
  },
  {
   "cell_type": "code",
   "execution_count": null,
   "id": "5b2e37b9",
   "metadata": {},
   "outputs": [],
   "source": [
    "X_train, y_train = get_X_y(train_split)\n",
    "X_val, y_val = get_X_y(val_split)\n",
    "X_test, y_test = get_X_y(test_data)"
   ]
  },
  {
   "cell_type": "markdown",
   "id": "eeda22e8",
   "metadata": {},
   "source": [
    "## Treino"
   ]
  },
  {
   "cell_type": "markdown",
   "id": "df8bf151",
   "metadata": {},
   "source": [
    "### Modelo\n",
    "\n",
    "**EfficientNetB0**\n",
    "\n",
    "lorem ypslom\n"
   ]
  },
  {
   "cell_type": "code",
   "execution_count": null,
   "id": "196cb872",
   "metadata": {},
   "outputs": [],
   "source": [
    "device = \"GPU\" if len(tf.config.list_physical_devices('GPU')) > 0 else \"CPU\"\n",
    "print(f\"Usando: {device}\")"
   ]
  },
  {
   "cell_type": "code",
   "execution_count": null,
   "id": "f7eddbe1",
   "metadata": {},
   "outputs": [],
   "source": [
    "base_model = EfficientNetB0(weights='imagenet', include_top=False, input_shape=(image_size, 3))\n",
    "base_model.trainable = False\n",
    "\n",
    "model = models.Sequential([\n",
    "    base_model,\n",
    "    layers.GlobalAveragePooling2D(),\n",
    "    layers.Dense(128, activation='relu'),\n",
    "    layers.Dropout(0.5),\n",
    "    layers.Dense(1, activation='sigmoid') \n",
    "])\n",
    "\n",
    "model.compile(\n",
    "    optimizer='adam',\n",
    "    loss='binary_crossentropy',\n",
    "    metrics=['accuracy']\n",
    ")\n",
    "\n",
    "history = model.fit(\n",
    "    X_train, y_train,\n",
    "    validation_data=(X_val, y_val),\n",
    "    epochs=10,\n",
    "    batch_size=32,\n",
    "    verbose=1\n",
    ")"
   ]
  },
  {
   "cell_type": "code",
   "execution_count": null,
   "id": "3bd54516",
   "metadata": {},
   "outputs": [],
   "source": [
    "y_pred_prob = model.predict(X_test).ravel()\n",
    "y_pred = (y_pred_prob > 0.5).astype(int)\n",
    "\n",
    "cm = confusion_matrix(y_test, y_pred)\n",
    "plt.figure(figsize=(5, 4))\n",
    "sns.heatmap(cm, annot=True, fmt='d', cmap='Blues', xticklabels=['Real', 'Fake'], yticklabels=['Real', 'Fake'])\n",
    "plt.xlabel(\"Predito\")\n",
    "plt.ylabel(\"Real\")\n",
    "plt.title(\"Matriz de Confusão\")\n",
    "plt.show()\n",
    "\n",
    "print(\"\\nRelatório de Classificação:\")\n",
    "print(classification_report(y_test, y_pred, target_names=[\"Real\", \"Fake\"]))\n",
    "\n",
    "roc_auc = roc_auc_score(y_test, y_pred_prob)\n",
    "print(f\"AUC (ROC): {roc_auc:.4f}\")\n",
    "\n",
    "plt.figure(figsize=(8, 4))\n",
    "plt.plot(history.history['accuracy'], label='Treino')\n",
    "plt.plot(history.history['val_accuracy'], label='Validação')\n",
    "plt.title(\"Acurácia\")\n",
    "plt.xlabel(\"Época\")\n",
    "plt.ylabel(\"Acurácia\")\n",
    "plt.legend()\n",
    "plt.grid()\n",
    "plt.show()"
   ]
  }
 ],
 "metadata": {
  "kernelspec": {
   "display_name": "base",
   "language": "python",
   "name": "python3"
  },
  "language_info": {
   "codemirror_mode": {
    "name": "ipython",
    "version": 3
   },
   "file_extension": ".py",
   "mimetype": "text/x-python",
   "name": "python",
   "nbconvert_exporter": "python",
   "pygments_lexer": "ipython3",
   "version": "3.12.7"
  }
 },
 "nbformat": 4,
 "nbformat_minor": 5
}
