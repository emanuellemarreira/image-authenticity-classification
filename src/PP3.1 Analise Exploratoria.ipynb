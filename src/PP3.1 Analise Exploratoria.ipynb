{
 "cells": [
  {
   "cell_type": "markdown",
   "id": "b36a687e",
   "metadata": {},
   "source": [
    "## Redes Neurais Artificiais 2025.1\n",
    "\n",
    "- **Disciplina**: Redes Neurais Artificiais 2025.1  \n",
    "- **Professora**: Elloá B. Guedes (ebgcosta@uea.edu.br)  \n",
    "\n",
    "## Equipe:\n",
    "\n",
    "1. Afonso Henrique Torres Lucas | ifonso.developer@gmail.com | iFonso - 2215080047\n",
    "2. Emanuelle Rocha Marreira | emanuellemarreira@gmail.com | emanuellemarreira - 2215080035\n",
    "3. Erik Gustavo Lima de Oliveira | erik.exatas10@gmail.com | ErikExatas - 2115080049\n",
    "4. David Augusto De Oliveira E Silva | david-augusto-silva - 2115080006\n",
    "5. Ítalo Ferreira Fonseca | ItaloFonseca - 2215080012\n",
    "6. João Vitor Silva De Carvalho | joaov1524@gmail.com | joaocarvalhov - 2215080040\n",
    "7. Lilian Iazzai De Souza Oliveira | lilianiazzai@gmail.com | lilianiazzai - 2215080018\n",
    "8. Vitor Nascimento Aguiar | Vtaguiar1909 - 2115080055\n",
    "9. Afonso Ramos Garcia Neto | afonso.ramos3180@gmail.com | afonso3180 - 1615080003\n",
    "\n",
    "- **Github**: https://github.com/emanuellemarreira/image-authenticity-classification/tree/parte1"
   ]
  },
  {
   "cell_type": "code",
   "execution_count": 1,
   "id": "e666fe9e",
   "metadata": {},
   "outputs": [],
   "source": [
    "# bibliotecas\n",
    "import matplotlib.pyplot as plt\n",
    "import tensorflow as tf\n",
    "import torch\n",
    "\n",
    "from collections import Counter"
   ]
  },
  {
   "cell_type": "markdown",
   "id": "c69f1c2a",
   "metadata": {},
   "source": [
    "## Descrição do problema\n",
    "\n",
    "A qualidade de imagens geradas por inteligência artificial tem rapidamente aumentado, levando a preocupação da autenticidade e da segurança dos dados levantados. Isso ocorre pelo aumento gradativo de melhores modelos de inteligência, gerando fotos fiéis ao que o olho humano intepreta como real. Essas imagens geradas artifialmente estão no pódio a disputar com imagens geradas por humanos. Com isso, o dataset CIFAKE foi proposto como uma base para a tarefa de classificação binária de imagens: distinguir entre imagens reais e imagens sintéticas geradas por IA. Ele combina 60.000 imagens reais do dataset CIFAR-10 (um conjunto de imagens de baixa resolução amplamente utilizado em tarefas de aprendizado de máquina) com 60.000 imagens sintéticas geradas por modelos de difusão latente (Stable Diffusion).\n",
    "\n",
    "As imagens têm resolução de 32×32 pixels e estão distribuídas em 10 classes: avião, automóvel, pássaro, gato, cervo, cachorro, sapo, cavalo, navio e caminhão.\n",
    "\n",
    "O objetivo do modelo é classificar cada imagem como real ou falsa (gerada por IA)."
   ]
  },
  {
   "cell_type": "markdown",
   "id": "5f5b0bf4",
   "metadata": {},
   "source": [
    "## Pré-processamento"
   ]
  },
  {
   "cell_type": "markdown",
   "id": "6631837b",
   "metadata": {},
   "source": [
    "A etapa de pré-processamento está mais definida em `src/utils/data_utils_keras.py`\n",
    "Mas, temos a seguinte função:\n",
    "\n",
    "```python\n",
    "class ModelType(Enum):\n",
    "    GENERAL = \"general\"\n",
    "    EFFICIENTNET_B0 = \"efficientnet_b0\"\n",
    "    RESNET50 = \"resnet50\"\n",
    "    XCEPTION = \"xception\"\n",
    "    MOBILENET_V2 = \"mobilenet_v2\"\n",
    "    SHUFFLENET_V2 = \"shufflenet_v2\"\n",
    "\n",
    "\n",
    "def _get_tf_preprocess_fn(model_type: ModelType,\n",
    "                          resize_to: Tuple[int, int]) -> Callable[[tf.Tensor, tf.Tensor], Tuple[tf.Tensor, tf.Tensor]]:\n",
    "    \"\"\"\n",
    "    Retorna função de preprocessing para ser aplicada no map() do tf.data.Dataset\n",
    "    \"\"\"\n",
    "    def preprocess(image: tf.Tensor, label: tf.Tensor) -> Tuple[tf.Tensor, tf.Tensor]:\n",
    "        image = tf.image.resize(image, resize_to)\n",
    "        image = tf.cast(image, tf.float32) / 255.0\n",
    "\n",
    "        if model_type in [ModelType.EFFICIENTNET_B0, ModelType.RESNET50]:\n",
    "            mean = tf.constant([0.485, 0.456, 0.406])\n",
    "            std = tf.constant([0.229, 0.224, 0.225])\n",
    "            image = (image - mean) / std\n",
    "\n",
    "        elif model_type == ModelType.XCEPTION:\n",
    "            # Normalização para [-1, 1]\n",
    "            image = (image - 0.5) * 2.0\n",
    "\n",
    "        elif model_type == ModelType.MOBILENET_V2:\n",
    "            image = (image - 0.5) * 2.0 \n",
    "\n",
    "        elif model_type == ModelType.SHUFFLENET_V2:\n",
    "            image = tf.cast(image, tf.float32) / 255.0  # o mesmo que GENERAL\n",
    "\n",
    "\n",
    "        return image, label\n",
    "\n",
    "    return preprocess\n",
    "\n",
    "\n",
    "def load_and_preprocess_data_tf(resize_to: Tuple[int, int] = (224, 224),\n",
    "                                batch_size: int = 32,\n",
    "                                model_type: ModelType = ModelType.GENERAL) -> Tuple[tf.data.Dataset, tf.data.Dataset]:\n",
    "\n",
    "    train_path = \"../data/train\"\n",
    "    test_path = \"../data/test\"\n",
    "\n",
    "    if not _is_dataset_present():\n",
    "        path = dataset_download(__ONLINE_DATASET_URI)\n",
    "        train_path = f\"{path}/cifake/train\"\n",
    "        test_path = f\"{path}/cifake/test\"\n",
    "\n",
    "    preprocess_fn = _get_tf_preprocess_fn(model_type, resize_to)\n",
    "\n",
    "    train_ds = tf.keras.utils.image_dataset_from_directory(\n",
    "        train_path,\n",
    "        image_size=resize_to,\n",
    "        batch_size=batch_size,\n",
    "        shuffle=True\n",
    "    ).map(preprocess_fn).prefetch(tf.data.AUTOTUNE)\n",
    "\n",
    "    test_ds = tf.keras.utils.image_dataset_from_directory(\n",
    "        test_path,\n",
    "        image_size=resize_to,\n",
    "        batch_size=batch_size,\n",
    "        shuffle=False\n",
    "    ).map(preprocess_fn).prefetch(tf.data.AUTOTUNE)\n",
    "\n",
    "    return train_ds, test_ds\n",
    "```"
   ]
  },
  {
   "cell_type": "markdown",
   "id": "684284ee-c482-4eda-ab40-a46deadf8f65",
   "metadata": {},
   "source": [
    "Inicialmente, é definida uma transformação para os dados carregados baseada no tipo de modelo especificado através do enum ModelType. O redimensionamento das imagens varia conforme o modelo: EfficientNet-B0 e ResNet50 utilizam 224×224 pixels, enquanto Xception utiliza 299×299 pixels como tamanho padrão, embora todos os modelos aceitem tamanhos customizados através do parâmetro resize_to.\n",
    "\n",
    "Em seguida, é aplicada a transformação ToTensor() que converte as imagens do formato padrão PIL `[altura, largura, canais]` para o formato `[canais, altura, largura]` utilizado pelo PyTorch, além de normalizar os valores de pixel de 0–255 para o intervalo `[0.0, 1.0]`.\n",
    "\n",
    "A normalização subsequente varia significativamente entre os modelos: EfficientNet-B0 e ResNet50 aplicam a normalização ImageNet padrão com médias `[0.485, 0.456, 0.406]` e desvios padrão `[0.229, 0.224, 0.225]`, mantendo os valores aproximadamente no intervalo `[-2.1, 2.6]`. O Xception, por sua vez, utiliza uma normalização diferenciada com médias e desvios padrão de `[0.5, 0.5, 0.5]`, convertendo os valores do intervalo `[0.0, 1.0]` para `[-1.0, 1.0]`, que é específico da arquitetura deste modelo.\n",
    "\n",
    "Opcionalmente, caso o parâmetro keras_format seja ativado, é aplicada uma transformação adicional que altera o formato do tensor de `[canais, altura, largura]` para `[altura, largura, canais]`, padrão no TensorFlow/Keras, facilitando a integração com modelos pré-treinados dessas bibliotecas.\n",
    "\n",
    "Nosso conjunto de dados é composto por duas classes: imagens reais e imagens geradas artificialmente. A seguir, temos as classes:"
   ]
  },
  {
   "cell_type": "code",
   "execution_count": 2,
   "id": "e73ce657-8961-4cf9-8964-672f22cf944b",
   "metadata": {},
   "outputs": [
    {
     "name": "stdout",
     "output_type": "stream",
     "text": [
      "Found 100000 files belonging to 2 classes.\n",
      "Found 20000 files belonging to 2 classes.\n"
     ]
    }
   ],
   "source": [
    "from utils import data_utils_keras\n",
    "\n",
    "image_size = (32, 32)\n",
    "train_data, test_data = data_utils_keras.load_and_preprocess_data_tf(resize_to=image_size, \n",
    "                                                                     batch_size=1)"
   ]
  },
  {
   "cell_type": "code",
   "execution_count": 3,
   "id": "3e5b8af8-4824-4213-8bfe-651a841746ae",
   "metadata": {},
   "outputs": [
    {
     "name": "stdout",
     "output_type": "stream",
     "text": [
      "Dados:\n",
      "\n",
      "treino: 100000 \n",
      "teste: 20000\n"
     ]
    }
   ],
   "source": [
    "print(f\"Dados:\\n\\ntreino: {len(train_data)} \\nteste: {len(test_data)}\")"
   ]
  },
  {
   "cell_type": "code",
   "execution_count": 4,
   "id": "c695ad4e",
   "metadata": {},
   "outputs": [
    {
     "name": "stdout",
     "output_type": "stream",
     "text": [
      "Quantidade de dados de treino:\n",
      "label 'REAL': 50000 \n",
      "label 'FAKE': 50000\n"
     ]
    },
    {
     "name": "stderr",
     "output_type": "stream",
     "text": [
      "2025-06-09 21:50:00.779054: I tensorflow/core/framework/local_rendezvous.cc:407] Local rendezvous is aborting with status: OUT_OF_RANGE: End of sequence\n"
     ]
    }
   ],
   "source": [
    "fake_class_data_count = 0\n",
    "real_class_data_count = 0\n",
    "\n",
    "for _, labels in train_data:\n",
    "    fake_class_data_count += tf.reduce_sum(tf.cast(labels == 1, tf.int32)).numpy()\n",
    "    real_class_data_count += tf.reduce_sum(tf.cast(labels == 0, tf.int32)).numpy()\n",
    "\n",
    "print(f\"Quantidade de dados de treino:\\nlabel 'REAL': {real_class_data_count} \\nlabel 'FAKE': {fake_class_data_count}\")"
   ]
  },
  {
   "cell_type": "markdown",
   "id": "65d5cef9",
   "metadata": {},
   "source": [
    "## Visualização dos dados"
   ]
  },
  {
   "cell_type": "markdown",
   "id": "f4fdcfb7",
   "metadata": {},
   "source": [
    "A seguir, temos uma mostra da distribuição das classes do dataset, bem como uma visualização de algumas imagens do dataset, extraídas do conjunto de treinamento. "
   ]
  },
  {
   "cell_type": "markdown",
   "id": "0019415d",
   "metadata": {},
   "source": [
    "### Histograma de distribuição das classes "
   ]
  },
  {
   "cell_type": "markdown",
   "id": "cc136385",
   "metadata": {},
   "source": [
    "O histograma permite a a visualização da distribuição das classes de imagens ```FAKE``` e ```REAL```. "
   ]
  },
  {
   "cell_type": "code",
   "execution_count": 5,
   "id": "2b49a57a",
   "metadata": {},
   "outputs": [
    {
     "name": "stderr",
     "output_type": "stream",
     "text": [
      "2025-06-09 21:50:07.243971: I tensorflow/core/framework/local_rendezvous.cc:407] Local rendezvous is aborting with status: OUT_OF_RANGE: End of sequence\n"
     ]
    },
    {
     "data": {
      "image/png": "[encoded data removed]",
      "text/plain": [
       "<Figure size 600x500 with 1 Axes>"
      ]
     },
     "metadata": {},
     "output_type": "display_data"
    }
   ],
   "source": [
    "all_labels = []\n",
    "\n",
    "for _, labels in train_data:\n",
    "    all_labels.extend(labels.numpy().tolist())\n",
    "\n",
    "label_count = Counter(all_labels)\n",
    "binary_class_names = ['REAL', 'FAKE']\n",
    "frequencies = [label_count[i] for i in range(len(binary_class_names))]\n",
    "\n",
    "plt.figure(figsize=(6, 5))\n",
    "plt.bar(binary_class_names, frequencies, color='blue', tick_label=binary_class_names)\n",
    "plt.xlabel('Classes')\n",
    "plt.ylabel('Número de imagens')\n",
    "\n",
    "plt.title('Distribuição de Classes (REAL vs FAKE) no Dataset CIFAKE')\n",
    "\n",
    "plt.show()"
   ]
  },
  {
   "cell_type": "markdown",
   "id": "9aee18e1",
   "metadata": {},
   "source": [
    "Nota-se que as classes de imagens seguem uma distribuição uniforme, já que a quantidade de exemplos para cada classe é igual."
   ]
  },
  {
   "cell_type": "markdown",
   "id": "95ec7d77",
   "metadata": {},
   "source": [
    "### Grid de imagens representativas"
   ]
  },
  {
   "cell_type": "markdown",
   "id": "d4edda12",
   "metadata": {},
   "source": [
    "O grid de imagens representativas mostra exemplos do conjunto de dados para cada classse."
   ]
  },
  {
   "cell_type": "code",
   "execution_count": 6,
   "id": "28cd3405-ada5-49e1-a105-a9ae6f9494ae",
   "metadata": {},
   "outputs": [],
   "source": [
    "# Junta todos os batches em um único tensor\n",
    "images, labels = next(iter(train_data))\n",
    "\n",
    "all_images = []\n",
    "all_labels = []\n",
    "\n",
    "for batch_images, batch_labels in train_data:\n",
    "    all_images.append(batch_images)\n",
    "    all_labels.append(batch_labels)\n",
    "\n",
    "images = tf.concat(all_images, axis=0)\n",
    "labels = tf.concat(all_labels, axis=0)"
   ]
  },
  {
   "cell_type": "code",
   "execution_count": 7,
   "id": "9744a2ec",
   "metadata": {},
   "outputs": [
    {
     "data": {
      "image/png": "[encoded data removed]",
      "text/plain": [
       "<Figure size 800x600 with 1 Axes>"
      ]
     },
     "metadata": {},
     "output_type": "display_data"
    }
   ],
   "source": [
    "from torchvision.utils import make_grid\n",
    "\n",
    "images = torch.from_numpy(images.numpy()).permute(0, 3, 1, 2).float()\n",
    "labels = torch.from_numpy(labels.numpy()).long()\n",
    "\n",
    "images, labels = images[:6], labels[:6]\n",
    "\n",
    "grid = make_grid(images, nrow=3, padding=2)\n",
    "npimg = grid.permute(1, 2, 0).numpy()\n",
    "\n",
    "plt.figure(figsize=(8, 6))\n",
    "plt.imshow(npimg)\n",
    "plt.axis('off')\n",
    "plt.title('Imagens representativas do dataset CIFAKE')\n",
    "\n",
    "num_images = len(images)\n",
    "rows = 2\n",
    "cols = 3\n",
    "img_height, img_width = images.shape[2], images.shape[3]\n",
    "padding = 2\n",
    "\n",
    "label_map = {0: 'REAL', 1: 'FAKE'}\n",
    "\n",
    "for i in range(num_images):\n",
    "    row = i // cols\n",
    "    col = i % cols\n",
    "    x = col * (img_width + padding) + padding\n",
    "    y = row * (img_height + padding) + 15\n",
    "\n",
    "    plt.text(x, y,\n",
    "             label_map[labels[i].item()],\n",
    "             color='white',\n",
    "             fontsize=10,\n",
    "             weight='bold',\n",
    "             bbox=dict(facecolor='black', alpha=0.5, edgecolor='none'))"
   ]
  },
  {
   "cell_type": "code",
   "execution_count": null,
   "id": "360abf37-c24b-440d-b03d-d4d71eaf9f55",
   "metadata": {},
   "outputs": [],
   "source": []
  }
 ],
 "metadata": {
  "kernelspec": {
   "display_name": "Python 3 (ipykernel)",
   "language": "python",
   "name": "python3"
  },
  "language_info": {
   "codemirror_mode": {
    "name": "ipython",
    "version": 3
   },
   "file_extension": ".py",
   "mimetype": "text/x-python",
   "name": "python",
   "nbconvert_exporter": "python",
   "pygments_lexer": "ipython3",
   "version": "3.11.8"
  }
 },
 "nbformat": 4,
 "nbformat_minor": 5
}
