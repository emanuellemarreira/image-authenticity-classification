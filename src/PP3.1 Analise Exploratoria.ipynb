{
 "cells": [
  {
   "cell_type": "markdown",
   "id": "b36a687e",
   "metadata": {},
   "source": [
    "## Redes Neurais Artificiais 2025.1\n",
    "\n",
    "- **Disciplina**: Redes Neurais Artificiais 2025.1  \n",
    "- **Professora**: Elloá B. Guedes (ebgcosta@uea.edu.br)  \n",
    "\n",
    "## Equipe:\n",
    "\n",
    "1. Afonso Henrique Torres Lucas | ifonso.developer@gmail.com | iFonso - 2215080047\n",
    "2. Emanuelle Rocha Marreira | emanuellemarreira@gmail.com | emanuellemarreira - 2215080035\n",
    "3. Erik Gustavo Lima de Oliveira | erik.exatas10@gmail.com | ErikExatas - 2115080049\n",
    "4. David Augusto De Oliveira E Silva | david-augusto-silva - 2115080006\n",
    "5. Ítalo Ferreira Fonseca\n",
    "6. João Vitor Silva De Carvalho\n",
    "7. Lilian Iazzai De Souza Oliveira | lilianiazzai@gmail.com | lilianiazzai - 2215080018\n",
    "8. Vitor Nascimento Aguiar | Vtaguiar1909 - 2115080055\n",
    "\n",
    "- **Github**: https://github.com/emanuellemarreira/image-authenticity-classification/tree/parte1"
   ]
  },
  {
   "cell_type": "code",
   "execution_count": null,
   "id": "e666fe9e",
   "metadata": {},
   "outputs": [],
   "source": [
    "# bibliotecas\n",
    "from torchvision import datasets, transforms\n",
    "from torch.utils.data import DataLoader"
   ]
  },
  {
   "cell_type": "markdown",
   "id": "c69f1c2a",
   "metadata": {},
   "source": [
    "## Descrição do problema\n",
    "\n",
    "A qualidade de imagens geradas por inteligência artificial tem rapidamente aumentado, levando a preocupação da autenticidade e da segurança dos dados levantados. Isso ocorre pelo aumento gradativo de melhores modelos de inteligência, gerando fotos fiéis ao que o olho humano intepreta como real. Essas imagens geradas artifialmente estão no pódio a disputar com imagens geradas por humanos. Com isso, o dataset CIFAKE foi proposto como uma base para a tarefa de classificação binária de imagens: distinguir entre imagens reais e imagens sintéticas geradas por IA. Ele combina 60.000 imagens reais do dataset CIFAR-10 (um conjunto de imagens de baixa resolução amplamente utilizado em tarefas de aprendizado de máquina) com 60.000 imagens sintéticas geradas por modelos de difusão latente (Stable Diffusion).\n",
    "\n",
    "As imagens têm resolução de 32×32 pixels e estão distribuídas em 10 classes: avião, automóvel, pássaro, gato, cervo, cachorro, sapo, cavalo, navio e caminhão.\n",
    "\n",
    "O objetivo do modelo é classificar cada imagem como real ou falsa (gerada por IA)."
   ]
  },
  {
   "cell_type": "markdown",
   "id": "5f5b0bf4",
   "metadata": {},
   "source": [
    "## Pré-processamento"
   ]
  },
  {
   "cell_type": "code",
   "execution_count": 2,
   "id": "90b9ef07",
   "metadata": {},
   "outputs": [],
   "source": [
    "transform = transforms.Compose([\n",
    "    # Resize da imagem pra 32x32 (pixels)\n",
    "    transforms.Resize((32, 32)),\n",
    "    # PIL -> Tensor[canal, altura, largura] + Normalização de pixels\n",
    "    transforms.ToTensor()\n",
    "])\n",
    "\n",
    "train_data = datasets.ImageFolder(root=\"../data/train\", transform=transform)\n",
    "test_data = datasets.ImageFolder(root=\"../data/test\", transform=transform)\n",
    "\n",
    "train_loader = DataLoader(train_data, batch_size=32, shuffle=True)\n",
    "test_loader = DataLoader(test_data, batch_size=32, shuffle=True)"
   ]
  },
  {
   "cell_type": "markdown",
   "id": "c9016a87-e6c3-4544-b548-ca53fdf9a6b1",
   "metadata": {},
   "source": [
    "Inicialmente, foi definida uma transformação para os dados carregados, redimensionando todas as imagens do dataset para 32×32 pixels. Em seguida, é aplicada outra transformação que converte as imagens do formato padrão PIL `[altura, largura, canais]` para o formato `[canais, altura, largura]` utilizado pelo PyTorch, além de normalizar os valores de pixel de 0–255 para o intervalo $[0.0, 1.0]$. No fim temos dataloaders de teste e de treino com batche de 32 para facilitar a iteração sobre o conjunto de dados.\n",
    "\n",
    "Nosso conjunto de dados é composto por duas classes, de imagens reais e de imagens geradas artificialente, a seguir temos as classes:"
   ]
  },
  {
   "cell_type": "code",
   "execution_count": 3,
   "id": "e73ce657-8961-4cf9-8964-672f22cf944b",
   "metadata": {},
   "outputs": [
    {
     "name": "stdout",
     "output_type": "stream",
     "text": [
      "['FAKE', 'REAL']\n",
      "{'FAKE': 0, 'REAL': 1}\n"
     ]
    }
   ],
   "source": [
    "print(train_data.classes)\n",
    "print(train_data.class_to_idx)"
   ]
  },
  {
   "cell_type": "code",
   "execution_count": 4,
   "id": "3e5b8af8-4824-4213-8bfe-651a841746ae",
   "metadata": {},
   "outputs": [
    {
     "name": "stdout",
     "output_type": "stream",
     "text": [
      "Dados:\n",
      "\n",
      "treino: 100000 \n",
      "teste: 20000\n"
     ]
    }
   ],
   "source": [
    "print(f\"Dados:\\n\\ntreino: {len(train_data)} \\nteste: {len(test_data)}\")"
   ]
  },
  {
   "cell_type": "code",
   "execution_count": 5,
   "id": "24b8e2e2-ff71-4199-888c-50334ab0ecc1",
   "metadata": {},
   "outputs": [
    {
     "name": "stdout",
     "output_type": "stream",
     "text": [
      "Quantidade de dados de treino:\n",
      "label 'REAL':50000 \n",
      "label 'FAKE':50000\n"
     ]
    }
   ],
   "source": [
    "fake_class_data_count = sum(1 for _, label in train_data if label == 1)\n",
    "real_class_data_count = sum(1 for _, label in train_data if label == 0)\n",
    "\n",
    "print(f\"Quantidade de dados de treino:\\nlabel 'REAL':{real_class_data_count} \\nlabel 'FAKE':{fake_class_data_count}\")"
   ]
  }
 ],
 "metadata": {
  "kernelspec": {
   "display_name": "Python 3 (ipykernel)",
   "language": "python",
   "name": "python3"
  },
  "language_info": {
   "codemirror_mode": {
    "name": "ipython",
    "version": 3
   },
   "file_extension": ".py",
   "mimetype": "text/x-python",
   "name": "python",
   "nbconvert_exporter": "python",
   "pygments_lexer": "ipython3",
   "version": "3.11.8"
  }
 },
 "nbformat": 4,
 "nbformat_minor": 5
}
