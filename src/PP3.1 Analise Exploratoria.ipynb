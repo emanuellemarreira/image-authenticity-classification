{
 "cells": [
  {
   "cell_type": "markdown",
   "id": "b36a687e",
   "metadata": {},
   "source": [
    "## Redes Neurais Artificiais 2025.1\n",
    "\n",
    "- **Disciplina**: Redes Neurais Artificiais 2025.1  \n",
    "- **Professora**: Elloá B. Guedes (ebgcosta@uea.edu.br)  \n",
    "\n",
    "## Equipe:\n",
    "\n",
    "1. Afonso Henrique Torres Lucas | ifonso.developer@gmail.com | iFonso - 2215080047\n",
    "2. Emanuelle Rocha Marreira | emanuellemarreira@gmail.com | emanuellemarreira - 2215080035\n",
    "3. Erik Gustavo Lima de Oliveira | erik.exatas10@gmail.com | ErikExatas - 2115080049\n",
    "4. David Augusto De Oliveira E Silva | david-augusto-silva - 2115080006\n",
    "5. Ítalo Ferreira Fonseca | ItaloFonseca - 2215080012\n",
    "6. João Vitor Silva De Carvalho | joaov1524@gmail.com | joaocarvalhov - 2215080040\n",
    "7. Lilian Iazzai De Souza Oliveira | lilianiazzai@gmail.com | lilianiazzai - 2215080018\n",
    "8. Vitor Nascimento Aguiar | Vtaguiar1909 - 2115080055\n",
    "\n",
    "- **Github**: https://github.com/emanuellemarreira/image-authenticity-classification/tree/parte1"
   ]
  },
  {
   "cell_type": "code",
   "execution_count": 1,
   "id": "e666fe9e",
   "metadata": {},
   "outputs": [],
   "source": [
    "# bibliotecas\n",
    "from torchvision import datasets, transforms\n",
    "from torch.utils.data import DataLoader"
   ]
  },
  {
   "cell_type": "markdown",
   "id": "c69f1c2a",
   "metadata": {},
   "source": [
    "## Descrição do problema\n",
    "\n",
    "A qualidade de imagens geradas por inteligência artificial tem rapidamente aumentado, levando a preocupação da autenticidade e da segurança dos dados levantados. Isso ocorre pelo aumento gradativo de melhores modelos de inteligência, gerando fotos fiéis ao que o olho humano intepreta como real. Essas imagens geradas artifialmente estão no pódio a disputar com imagens geradas por humanos. Com isso, o dataset CIFAKE foi proposto como uma base para a tarefa de classificação binária de imagens: distinguir entre imagens reais e imagens sintéticas geradas por IA. Ele combina 60.000 imagens reais do dataset CIFAR-10 (um conjunto de imagens de baixa resolução amplamente utilizado em tarefas de aprendizado de máquina) com 60.000 imagens sintéticas geradas por modelos de difusão latente (Stable Diffusion).\n",
    "\n",
    "As imagens têm resolução de 32×32 pixels e estão distribuídas em 10 classes: avião, automóvel, pássaro, gato, cervo, cachorro, sapo, cavalo, navio e caminhão.\n",
    "\n",
    "O objetivo do modelo é classificar cada imagem como real ou falsa (gerada por IA)."
   ]
  },
  {
   "cell_type": "markdown",
   "id": "5f5b0bf4",
   "metadata": {},
   "source": [
    "## Pré-processamento"
   ]
  },
  {
   "cell_type": "markdown",
   "id": "6631837b",
   "metadata": {},
   "source": [
    "A etapa de pré-processamento está mais definida em `src/utils/data_utils_keras.py`\n",
    "Mas, temos a seguinte função:\n",
    "\n",
    "```python\n",
    "class ModelType(Enum):\n",
    "    GENERAL = \"general\"\n",
    "    EFFICIENTNET_B0 = \"efficientnet_b0\"\n",
    "    RESNET50 = \"resnet50\"\n",
    "    XCEPTION = \"xception\"\n",
    "    MOBILENET_V2 = \"mobilenet_v2\"\n",
    "    SHUFFLENET_V2 = \"shufflenet_v2\"\n",
    "\n",
    "\n",
    "def _get_tf_preprocess_fn(model_type: ModelType,\n",
    "                          resize_to: Tuple[int, int]) -> Callable[[tf.Tensor, tf.Tensor], Tuple[tf.Tensor, tf.Tensor]]:\n",
    "    \"\"\"\n",
    "    Retorna função de preprocessing para ser aplicada no map() do tf.data.Dataset\n",
    "    \"\"\"\n",
    "    def preprocess(image: tf.Tensor, label: tf.Tensor) -> Tuple[tf.Tensor, tf.Tensor]:\n",
    "        image = tf.image.resize(image, resize_to)\n",
    "        image = tf.cast(image, tf.float32) / 255.0\n",
    "\n",
    "        if model_type in [ModelType.EFFICIENTNET_B0, ModelType.RESNET50]:\n",
    "            mean = tf.constant([0.485, 0.456, 0.406])\n",
    "            std = tf.constant([0.229, 0.224, 0.225])\n",
    "            image = (image - mean) / std\n",
    "\n",
    "        elif model_type == ModelType.XCEPTION:\n",
    "            # Normalização para [-1, 1]\n",
    "            image = (image - 0.5) * 2.0\n",
    "\n",
    "        elif model_type == ModelType.MOBILENET_V2:\n",
    "            image = (image - 0.5) * 2.0 \n",
    "\n",
    "        elif model_type == ModelType.SHUFFLENET_V2:\n",
    "            image = tf.cast(image, tf.float32) / 255.0  # o mesmo que GENERAL\n",
    "\n",
    "\n",
    "        return image, label\n",
    "\n",
    "    return preprocess\n",
    "\n",
    "\n",
    "def load_and_preprocess_data_tf(resize_to: Tuple[int, int] = (224, 224),\n",
    "                                batch_size: int = 32,\n",
    "                                model_type: ModelType = ModelType.GENERAL) -> Tuple[tf.data.Dataset, tf.data.Dataset]:\n",
    "\n",
    "    train_path = \"../data/train\"\n",
    "    test_path = \"../data/test\"\n",
    "\n",
    "    if not _is_dataset_present():\n",
    "        path = dataset_download(__ONLINE_DATASET_URI)\n",
    "        train_path = f\"{path}/cifake/train\"\n",
    "        test_path = f\"{path}/cifake/test\"\n",
    "\n",
    "    preprocess_fn = _get_tf_preprocess_fn(model_type, resize_to)\n",
    "\n",
    "    train_ds = tf.keras.utils.image_dataset_from_directory(\n",
    "        train_path,\n",
    "        image_size=resize_to,\n",
    "        batch_size=batch_size,\n",
    "        shuffle=True\n",
    "    ).map(preprocess_fn).prefetch(tf.data.AUTOTUNE)\n",
    "\n",
    "    test_ds = tf.keras.utils.image_dataset_from_directory(\n",
    "        test_path,\n",
    "        image_size=resize_to,\n",
    "        batch_size=batch_size,\n",
    "        shuffle=False\n",
    "    ).map(preprocess_fn).prefetch(tf.data.AUTOTUNE)\n",
    "\n",
    "    return train_ds, test_ds\n",
    "```"
   ]
  },
  {
   "cell_type": "markdown",
   "id": "684284ee-c482-4eda-ab40-a46deadf8f65",
   "metadata": {},
   "source": [
    "Inicialmente, é definida uma transformação para os dados carregados baseada no tipo de modelo especificado através do enum ModelType. O redimensionamento das imagens varia conforme o modelo: EfficientNet-B0 e ResNet50 utilizam 224×224 pixels, enquanto Xception utiliza 299×299 pixels como tamanho padrão, embora todos os modelos aceitem tamanhos customizados através do parâmetro resize_to.\n",
    "\n",
    "Em seguida, é aplicada a transformação ToTensor() que converte as imagens do formato padrão PIL `[altura, largura, canais]` para o formato `[canais, altura, largura]` utilizado pelo PyTorch, além de normalizar os valores de pixel de 0–255 para o intervalo `[0.0, 1.0]`.\n",
    "\n",
    "A normalização subsequente varia significativamente entre os modelos: EfficientNet-B0 e ResNet50 aplicam a normalização ImageNet padrão com médias `[0.485, 0.456, 0.406]` e desvios padrão `[0.229, 0.224, 0.225]`, mantendo os valores aproximadamente no intervalo `[-2.1, 2.6]`. O Xception, por sua vez, utiliza uma normalização diferenciada com médias e desvios padrão de `[0.5, 0.5, 0.5]`, convertendo os valores do intervalo `[0.0, 1.0]` para `[-1.0, 1.0]`, que é específico da arquitetura deste modelo.\n",
    "\n",
    "Opcionalmente, caso o parâmetro keras_format seja ativado, é aplicada uma transformação adicional que altera o formato do tensor de `[canais, altura, largura]` para `[altura, largura, canais]`, padrão no TensorFlow/Keras, facilitando a integração com modelos pré-treinados dessas bibliotecas.\n",
    "\n",
    "Nosso conjunto de dados é composto por duas classes: imagens reais e imagens geradas artificialmente. A seguir, temos as classes:"
   ]
  },
  {
   "cell_type": "code",
   "execution_count": 7,
   "id": "e73ce657-8961-4cf9-8964-672f22cf944b",
   "metadata": {},
   "outputs": [
    {
     "name": "stdout",
     "output_type": "stream",
     "text": [
      "Found 100000 files belonging to 2 classes.\n",
      "Found 20000 files belonging to 2 classes.\n"
     ]
    }
   ],
   "source": [
    "from utils import data_utils_keras\n",
    "\n",
    "image_size = (224, 224)\n",
    "train_data, test_data = data_utils_keras.load_and_preprocess_data_tf(resize_to=image_size, \n",
    "                                                            batch_size=32,)\n",
    "\n",
    "train_loader = DataLoader(train_data, batch_size=32, shuffle=True, num_workers=4)\n",
    "test_loader = DataLoader(test_data, batch_size=32, shuffle=False, num_workers=4)\n",
    "\n",
    "#print(train_data.classes)\n",
    "#print(train_data.class_to_idx)"
   ]
  },
  {
   "cell_type": "code",
   "execution_count": 8,
   "id": "3e5b8af8-4824-4213-8bfe-651a841746ae",
   "metadata": {},
   "outputs": [
    {
     "name": "stdout",
     "output_type": "stream",
     "text": [
      "Dados:\n",
      "\n",
      "treino: 3125 \n",
      "teste: 625\n"
     ]
    }
   ],
   "source": [
    "print(f\"Dados:\\n\\ntreino: {len(train_data)} \\nteste: {len(test_data)}\")"
   ]
  },
  {
   "cell_type": "code",
   "execution_count": 13,
   "id": "24b8e2e2-ff71-4199-888c-50334ab0ecc1",
   "metadata": {},
   "outputs": [
    {
     "ename": "ValueError",
     "evalue": "The truth value of an array with more than one element is ambiguous. Use a.any() or a.all()",
     "output_type": "error",
     "traceback": [
      "\u001b[1;31m---------------------------------------------------------------------------\u001b[0m",
      "\u001b[1;31mValueError\u001b[0m                                Traceback (most recent call last)",
      "Cell \u001b[1;32mIn[13], line 1\u001b[0m\n\u001b[1;32m----> 1\u001b[0m fake_class_data_count \u001b[38;5;241m=\u001b[39m \u001b[38;5;28;43msum\u001b[39;49m\u001b[43m(\u001b[49m\u001b[38;5;241;43m1\u001b[39;49m\u001b[43m \u001b[49m\u001b[38;5;28;43;01mfor\u001b[39;49;00m\u001b[43m \u001b[49m\u001b[43m_\u001b[49m\u001b[43m,\u001b[49m\u001b[43m \u001b[49m\u001b[43mlabel\u001b[49m\u001b[43m \u001b[49m\u001b[38;5;129;43;01min\u001b[39;49;00m\u001b[43m \u001b[49m\u001b[43mtrain_data\u001b[49m\u001b[43m \u001b[49m\u001b[38;5;28;43;01mif\u001b[39;49;00m\u001b[43m \u001b[49m\u001b[43mlabel\u001b[49m\u001b[43m \u001b[49m\u001b[38;5;241;43m==\u001b[39;49m\u001b[43m \u001b[49m\u001b[38;5;241;43m1\u001b[39;49m\u001b[43m)\u001b[49m\n\u001b[0;32m      2\u001b[0m real_class_data_count \u001b[38;5;241m=\u001b[39m \u001b[38;5;28msum\u001b[39m(\u001b[38;5;241m1\u001b[39m \u001b[38;5;28;01mfor\u001b[39;00m _, label \u001b[38;5;129;01min\u001b[39;00m train_data \u001b[38;5;28;01mif\u001b[39;00m label \u001b[38;5;241m==\u001b[39m \u001b[38;5;241m0\u001b[39m)\n\u001b[0;32m      4\u001b[0m \u001b[38;5;28mprint\u001b[39m(\u001b[38;5;124mf\u001b[39m\u001b[38;5;124m\"\u001b[39m\u001b[38;5;124mQuantidade de dados de treino:\u001b[39m\u001b[38;5;130;01m\\n\u001b[39;00m\u001b[38;5;124mlabel \u001b[39m\u001b[38;5;124m'\u001b[39m\u001b[38;5;124mREAL\u001b[39m\u001b[38;5;124m'\u001b[39m\u001b[38;5;124m:\u001b[39m\u001b[38;5;132;01m{\u001b[39;00mreal_class_data_count\u001b[38;5;132;01m}\u001b[39;00m\u001b[38;5;124m \u001b[39m\u001b[38;5;130;01m\\n\u001b[39;00m\u001b[38;5;124mlabel \u001b[39m\u001b[38;5;124m'\u001b[39m\u001b[38;5;124mFAKE\u001b[39m\u001b[38;5;124m'\u001b[39m\u001b[38;5;124m:\u001b[39m\u001b[38;5;132;01m{\u001b[39;00mfake_class_data_count\u001b[38;5;132;01m}\u001b[39;00m\u001b[38;5;124m\"\u001b[39m)\n",
      "Cell \u001b[1;32mIn[13], line 1\u001b[0m, in \u001b[0;36m<genexpr>\u001b[1;34m(.0)\u001b[0m\n\u001b[1;32m----> 1\u001b[0m fake_class_data_count \u001b[38;5;241m=\u001b[39m \u001b[38;5;28msum\u001b[39m(\u001b[38;5;241m1\u001b[39m \u001b[38;5;28;01mfor\u001b[39;00m _, label \u001b[38;5;129;01min\u001b[39;00m train_data \u001b[38;5;28;01mif\u001b[39;00m \u001b[43mlabel\u001b[49m\u001b[43m \u001b[49m\u001b[38;5;241;43m==\u001b[39;49m\u001b[43m \u001b[49m\u001b[38;5;241;43m1\u001b[39;49m)\n\u001b[0;32m      2\u001b[0m real_class_data_count \u001b[38;5;241m=\u001b[39m \u001b[38;5;28msum\u001b[39m(\u001b[38;5;241m1\u001b[39m \u001b[38;5;28;01mfor\u001b[39;00m _, label \u001b[38;5;129;01min\u001b[39;00m train_data \u001b[38;5;28;01mif\u001b[39;00m label \u001b[38;5;241m==\u001b[39m \u001b[38;5;241m0\u001b[39m)\n\u001b[0;32m      4\u001b[0m \u001b[38;5;28mprint\u001b[39m(\u001b[38;5;124mf\u001b[39m\u001b[38;5;124m\"\u001b[39m\u001b[38;5;124mQuantidade de dados de treino:\u001b[39m\u001b[38;5;130;01m\\n\u001b[39;00m\u001b[38;5;124mlabel \u001b[39m\u001b[38;5;124m'\u001b[39m\u001b[38;5;124mREAL\u001b[39m\u001b[38;5;124m'\u001b[39m\u001b[38;5;124m:\u001b[39m\u001b[38;5;132;01m{\u001b[39;00mreal_class_data_count\u001b[38;5;132;01m}\u001b[39;00m\u001b[38;5;124m \u001b[39m\u001b[38;5;130;01m\\n\u001b[39;00m\u001b[38;5;124mlabel \u001b[39m\u001b[38;5;124m'\u001b[39m\u001b[38;5;124mFAKE\u001b[39m\u001b[38;5;124m'\u001b[39m\u001b[38;5;124m:\u001b[39m\u001b[38;5;132;01m{\u001b[39;00mfake_class_data_count\u001b[38;5;132;01m}\u001b[39;00m\u001b[38;5;124m\"\u001b[39m)\n",
      "File \u001b[1;32mc:\\Users\\erike\\anaconda3\\envs\\cifake\\lib\\site-packages\\tensorflow\\python\\framework\\ops.py:321\u001b[0m, in \u001b[0;36m_EagerTensorBase.__bool__\u001b[1;34m(self)\u001b[0m\n\u001b[0;32m    320\u001b[0m \u001b[38;5;28;01mdef\u001b[39;00m\u001b[38;5;250m \u001b[39m\u001b[38;5;21m__bool__\u001b[39m(\u001b[38;5;28mself\u001b[39m) \u001b[38;5;241m-\u001b[39m\u001b[38;5;241m>\u001b[39m \u001b[38;5;28mbool\u001b[39m:\n\u001b[1;32m--> 321\u001b[0m   \u001b[38;5;28;01mreturn\u001b[39;00m \u001b[38;5;28;43mbool\u001b[39;49m\u001b[43m(\u001b[49m\u001b[38;5;28;43mself\u001b[39;49m\u001b[38;5;241;43m.\u001b[39;49m\u001b[43m_numpy\u001b[49m\u001b[43m(\u001b[49m\u001b[43m)\u001b[49m\u001b[43m)\u001b[49m\n",
      "\u001b[1;31mValueError\u001b[0m: The truth value of an array with more than one element is ambiguous. Use a.any() or a.all()"
     ]
    }
   ],
   "source": [
    "fake_class_data_count = sum(1 for _, label in train_data if label == 1)\n",
    "real_class_data_count = sum(1 for _, label in train_data if label == 0)\n",
    "\n",
    "print(f\"Quantidade de dados de treino:\\nlabel 'REAL':{real_class_data_count} \\nlabel 'FAKE':{fake_class_data_count}\")"
   ]
  },
  {
   "cell_type": "markdown",
   "id": "65d5cef9",
   "metadata": {},
   "source": [
    "## Visualização dos dados"
   ]
  },
  {
   "cell_type": "markdown",
   "id": "f4fdcfb7",
   "metadata": {},
   "source": [
    "A seguir, temos uma mostra da distribuição das classes do dataset, bem como uma visualização de algumas imagens do dataset, extraídas do conjunto de treinamento. "
   ]
  },
  {
   "cell_type": "code",
   "execution_count": 1,
   "id": "e69cdb06",
   "metadata": {},
   "outputs": [
    {
     "ename": "NameError",
     "evalue": "name 'train_loader' is not defined",
     "output_type": "error",
     "traceback": [
      "\u001b[1;31m---------------------------------------------------------------------------\u001b[0m",
      "\u001b[1;31mNameError\u001b[0m                                 Traceback (most recent call last)",
      "Cell \u001b[1;32mIn[1], line 1\u001b[0m\n\u001b[1;32m----> 1\u001b[0m images, labels \u001b[38;5;241m=\u001b[39m \u001b[38;5;28mnext\u001b[39m(\u001b[38;5;28miter\u001b[39m(\u001b[43mtrain_loader\u001b[49m))\n",
      "\u001b[1;31mNameError\u001b[0m: name 'train_loader' is not defined"
     ]
    }
   ],
   "source": [
    "images, labels = next(iter(train_loader))"
   ]
  },
  {
   "cell_type": "code",
   "execution_count": 11,
   "id": "526487d5",
   "metadata": {},
   "outputs": [
    {
     "ename": "NameError",
     "evalue": "name 'images' is not defined",
     "output_type": "error",
     "traceback": [
      "\u001b[1;31m---------------------------------------------------------------------------\u001b[0m",
      "\u001b[1;31mNameError\u001b[0m                                 Traceback (most recent call last)",
      "Cell \u001b[1;32mIn[11], line 1\u001b[0m\n\u001b[1;32m----> 1\u001b[0m \u001b[38;5;28mprint\u001b[39m(\u001b[38;5;124mf\u001b[39m\u001b[38;5;124m\"\u001b[39m\u001b[38;5;124mTamanho do batch de treino: \u001b[39m\u001b[38;5;132;01m{\u001b[39;00m\u001b[38;5;28mlen\u001b[39m(\u001b[43mimages\u001b[49m)\u001b[38;5;132;01m}\u001b[39;00m\u001b[38;5;124m\"\u001b[39m)\n",
      "\u001b[1;31mNameError\u001b[0m: name 'images' is not defined"
     ]
    }
   ],
   "source": [
    "print(f\"Tamanho do batch de treino: {len(images)}\")"
   ]
  },
  {
   "cell_type": "markdown",
   "id": "0019415d",
   "metadata": {},
   "source": [
    "### Histograma de distribuição das classes "
   ]
  },
  {
   "cell_type": "markdown",
   "id": "cc136385",
   "metadata": {},
   "source": [
    "O histograma permite a a visualização da distribuição das classes de imagens ```FAKE``` e ```REAL```. "
   ]
  },
  {
   "cell_type": "code",
   "execution_count": 12,
   "id": "2b49a57a",
   "metadata": {},
   "outputs": [
    {
     "ename": "InvalidArgumentError",
     "evalue": "Cannot convert a Tensor of dtype variant to a NumPy array.",
     "output_type": "error",
     "traceback": [
      "\u001b[1;31m---------------------------------------------------------------------------\u001b[0m",
      "\u001b[1;31mInvalidArgumentError\u001b[0m                      Traceback (most recent call last)",
      "Cell \u001b[1;32mIn[12], line 5\u001b[0m\n\u001b[0;32m      2\u001b[0m \u001b[38;5;28;01mimport\u001b[39;00m\u001b[38;5;250m \u001b[39m\u001b[38;5;21;01mmatplotlib\u001b[39;00m\u001b[38;5;21;01m.\u001b[39;00m\u001b[38;5;21;01mpyplot\u001b[39;00m\u001b[38;5;250m \u001b[39m\u001b[38;5;28;01mas\u001b[39;00m\u001b[38;5;250m \u001b[39m\u001b[38;5;21;01mplt\u001b[39;00m\n\u001b[0;32m      4\u001b[0m all_labels \u001b[38;5;241m=\u001b[39m []\n\u001b[1;32m----> 5\u001b[0m \u001b[38;5;28;01mfor\u001b[39;00m images, labels \u001b[38;5;129;01min\u001b[39;00m train_loader:\n\u001b[0;32m      6\u001b[0m     all_labels\u001b[38;5;241m.\u001b[39mextend(labels\u001b[38;5;241m.\u001b[39mtolist())\n\u001b[0;32m      8\u001b[0m label_count \u001b[38;5;241m=\u001b[39m Counter(all_labels)\n",
      "File \u001b[1;32mc:\\Users\\erike\\anaconda3\\envs\\cifake\\lib\\site-packages\\torch\\utils\\data\\dataloader.py:484\u001b[0m, in \u001b[0;36mDataLoader.__iter__\u001b[1;34m(self)\u001b[0m\n\u001b[0;32m    482\u001b[0m     \u001b[38;5;28;01mreturn\u001b[39;00m \u001b[38;5;28mself\u001b[39m\u001b[38;5;241m.\u001b[39m_iterator\n\u001b[0;32m    483\u001b[0m \u001b[38;5;28;01melse\u001b[39;00m:\n\u001b[1;32m--> 484\u001b[0m     \u001b[38;5;28;01mreturn\u001b[39;00m \u001b[38;5;28;43mself\u001b[39;49m\u001b[38;5;241;43m.\u001b[39;49m\u001b[43m_get_iterator\u001b[49m\u001b[43m(\u001b[49m\u001b[43m)\u001b[49m\n",
      "File \u001b[1;32mc:\\Users\\erike\\anaconda3\\envs\\cifake\\lib\\site-packages\\torch\\utils\\data\\dataloader.py:415\u001b[0m, in \u001b[0;36mDataLoader._get_iterator\u001b[1;34m(self)\u001b[0m\n\u001b[0;32m    413\u001b[0m \u001b[38;5;28;01melse\u001b[39;00m:\n\u001b[0;32m    414\u001b[0m     \u001b[38;5;28mself\u001b[39m\u001b[38;5;241m.\u001b[39mcheck_worker_number_rationality()\n\u001b[1;32m--> 415\u001b[0m     \u001b[38;5;28;01mreturn\u001b[39;00m \u001b[43m_MultiProcessingDataLoaderIter\u001b[49m\u001b[43m(\u001b[49m\u001b[38;5;28;43mself\u001b[39;49m\u001b[43m)\u001b[49m\n",
      "File \u001b[1;32mc:\\Users\\erike\\anaconda3\\envs\\cifake\\lib\\site-packages\\torch\\utils\\data\\dataloader.py:1138\u001b[0m, in \u001b[0;36m_MultiProcessingDataLoaderIter.__init__\u001b[1;34m(self, loader)\u001b[0m\n\u001b[0;32m   1131\u001b[0m w\u001b[38;5;241m.\u001b[39mdaemon \u001b[38;5;241m=\u001b[39m \u001b[38;5;28;01mTrue\u001b[39;00m\n\u001b[0;32m   1132\u001b[0m \u001b[38;5;66;03m# NB: Process.start() actually take some time as it needs to\u001b[39;00m\n\u001b[0;32m   1133\u001b[0m \u001b[38;5;66;03m#     start a process and pass the arguments over via a pipe.\u001b[39;00m\n\u001b[0;32m   1134\u001b[0m \u001b[38;5;66;03m#     Therefore, we only add a worker to self._workers list after\u001b[39;00m\n\u001b[0;32m   1135\u001b[0m \u001b[38;5;66;03m#     it started, so that we do not call .join() if program dies\u001b[39;00m\n\u001b[0;32m   1136\u001b[0m \u001b[38;5;66;03m#     before it starts, and __del__ tries to join but will get:\u001b[39;00m\n\u001b[0;32m   1137\u001b[0m \u001b[38;5;66;03m#     AssertionError: can only join a started process.\u001b[39;00m\n\u001b[1;32m-> 1138\u001b[0m \u001b[43mw\u001b[49m\u001b[38;5;241;43m.\u001b[39;49m\u001b[43mstart\u001b[49m\u001b[43m(\u001b[49m\u001b[43m)\u001b[49m\n\u001b[0;32m   1139\u001b[0m \u001b[38;5;28mself\u001b[39m\u001b[38;5;241m.\u001b[39m_index_queues\u001b[38;5;241m.\u001b[39mappend(index_queue)\n\u001b[0;32m   1140\u001b[0m \u001b[38;5;28mself\u001b[39m\u001b[38;5;241m.\u001b[39m_workers\u001b[38;5;241m.\u001b[39mappend(w)\n",
      "File \u001b[1;32mc:\\Users\\erike\\anaconda3\\envs\\cifake\\lib\\multiprocessing\\process.py:121\u001b[0m, in \u001b[0;36mBaseProcess.start\u001b[1;34m(self)\u001b[0m\n\u001b[0;32m    118\u001b[0m \u001b[38;5;28;01massert\u001b[39;00m \u001b[38;5;129;01mnot\u001b[39;00m _current_process\u001b[38;5;241m.\u001b[39m_config\u001b[38;5;241m.\u001b[39mget(\u001b[38;5;124m'\u001b[39m\u001b[38;5;124mdaemon\u001b[39m\u001b[38;5;124m'\u001b[39m), \\\n\u001b[0;32m    119\u001b[0m        \u001b[38;5;124m'\u001b[39m\u001b[38;5;124mdaemonic processes are not allowed to have children\u001b[39m\u001b[38;5;124m'\u001b[39m\n\u001b[0;32m    120\u001b[0m _cleanup()\n\u001b[1;32m--> 121\u001b[0m \u001b[38;5;28mself\u001b[39m\u001b[38;5;241m.\u001b[39m_popen \u001b[38;5;241m=\u001b[39m \u001b[38;5;28;43mself\u001b[39;49m\u001b[38;5;241;43m.\u001b[39;49m\u001b[43m_Popen\u001b[49m\u001b[43m(\u001b[49m\u001b[38;5;28;43mself\u001b[39;49m\u001b[43m)\u001b[49m\n\u001b[0;32m    122\u001b[0m \u001b[38;5;28mself\u001b[39m\u001b[38;5;241m.\u001b[39m_sentinel \u001b[38;5;241m=\u001b[39m \u001b[38;5;28mself\u001b[39m\u001b[38;5;241m.\u001b[39m_popen\u001b[38;5;241m.\u001b[39msentinel\n\u001b[0;32m    123\u001b[0m \u001b[38;5;66;03m# Avoid a refcycle if the target function holds an indirect\u001b[39;00m\n\u001b[0;32m    124\u001b[0m \u001b[38;5;66;03m# reference to the process object (see bpo-30775)\u001b[39;00m\n",
      "File \u001b[1;32mc:\\Users\\erike\\anaconda3\\envs\\cifake\\lib\\multiprocessing\\context.py:224\u001b[0m, in \u001b[0;36mProcess._Popen\u001b[1;34m(process_obj)\u001b[0m\n\u001b[0;32m    222\u001b[0m \u001b[38;5;129m@staticmethod\u001b[39m\n\u001b[0;32m    223\u001b[0m \u001b[38;5;28;01mdef\u001b[39;00m\u001b[38;5;250m \u001b[39m\u001b[38;5;21m_Popen\u001b[39m(process_obj):\n\u001b[1;32m--> 224\u001b[0m     \u001b[38;5;28;01mreturn\u001b[39;00m \u001b[43m_default_context\u001b[49m\u001b[38;5;241;43m.\u001b[39;49m\u001b[43mget_context\u001b[49m\u001b[43m(\u001b[49m\u001b[43m)\u001b[49m\u001b[38;5;241;43m.\u001b[39;49m\u001b[43mProcess\u001b[49m\u001b[38;5;241;43m.\u001b[39;49m\u001b[43m_Popen\u001b[49m\u001b[43m(\u001b[49m\u001b[43mprocess_obj\u001b[49m\u001b[43m)\u001b[49m\n",
      "File \u001b[1;32mc:\\Users\\erike\\anaconda3\\envs\\cifake\\lib\\multiprocessing\\context.py:336\u001b[0m, in \u001b[0;36mSpawnProcess._Popen\u001b[1;34m(process_obj)\u001b[0m\n\u001b[0;32m    333\u001b[0m \u001b[38;5;129m@staticmethod\u001b[39m\n\u001b[0;32m    334\u001b[0m \u001b[38;5;28;01mdef\u001b[39;00m\u001b[38;5;250m \u001b[39m\u001b[38;5;21m_Popen\u001b[39m(process_obj):\n\u001b[0;32m    335\u001b[0m     \u001b[38;5;28;01mfrom\u001b[39;00m\u001b[38;5;250m \u001b[39m\u001b[38;5;21;01m.\u001b[39;00m\u001b[38;5;21;01mpopen_spawn_win32\u001b[39;00m\u001b[38;5;250m \u001b[39m\u001b[38;5;28;01mimport\u001b[39;00m Popen\n\u001b[1;32m--> 336\u001b[0m     \u001b[38;5;28;01mreturn\u001b[39;00m \u001b[43mPopen\u001b[49m\u001b[43m(\u001b[49m\u001b[43mprocess_obj\u001b[49m\u001b[43m)\u001b[49m\n",
      "File \u001b[1;32mc:\\Users\\erike\\anaconda3\\envs\\cifake\\lib\\multiprocessing\\popen_spawn_win32.py:93\u001b[0m, in \u001b[0;36mPopen.__init__\u001b[1;34m(self, process_obj)\u001b[0m\n\u001b[0;32m     91\u001b[0m \u001b[38;5;28;01mtry\u001b[39;00m:\n\u001b[0;32m     92\u001b[0m     reduction\u001b[38;5;241m.\u001b[39mdump(prep_data, to_child)\n\u001b[1;32m---> 93\u001b[0m     \u001b[43mreduction\u001b[49m\u001b[38;5;241;43m.\u001b[39;49m\u001b[43mdump\u001b[49m\u001b[43m(\u001b[49m\u001b[43mprocess_obj\u001b[49m\u001b[43m,\u001b[49m\u001b[43m \u001b[49m\u001b[43mto_child\u001b[49m\u001b[43m)\u001b[49m\n\u001b[0;32m     94\u001b[0m \u001b[38;5;28;01mfinally\u001b[39;00m:\n\u001b[0;32m     95\u001b[0m     set_spawning_popen(\u001b[38;5;28;01mNone\u001b[39;00m)\n",
      "File \u001b[1;32mc:\\Users\\erike\\anaconda3\\envs\\cifake\\lib\\multiprocessing\\reduction.py:60\u001b[0m, in \u001b[0;36mdump\u001b[1;34m(obj, file, protocol)\u001b[0m\n\u001b[0;32m     58\u001b[0m \u001b[38;5;28;01mdef\u001b[39;00m\u001b[38;5;250m \u001b[39m\u001b[38;5;21mdump\u001b[39m(obj, file, protocol\u001b[38;5;241m=\u001b[39m\u001b[38;5;28;01mNone\u001b[39;00m):\n\u001b[0;32m     59\u001b[0m \u001b[38;5;250m    \u001b[39m\u001b[38;5;124;03m'''Replacement for pickle.dump() using ForkingPickler.'''\u001b[39;00m\n\u001b[1;32m---> 60\u001b[0m     \u001b[43mForkingPickler\u001b[49m\u001b[43m(\u001b[49m\u001b[43mfile\u001b[49m\u001b[43m,\u001b[49m\u001b[43m \u001b[49m\u001b[43mprotocol\u001b[49m\u001b[43m)\u001b[49m\u001b[38;5;241;43m.\u001b[39;49m\u001b[43mdump\u001b[49m\u001b[43m(\u001b[49m\u001b[43mobj\u001b[49m\u001b[43m)\u001b[49m\n",
      "File \u001b[1;32mc:\\Users\\erike\\anaconda3\\envs\\cifake\\lib\\site-packages\\tensorflow\\python\\framework\\ops.py:335\u001b[0m, in \u001b[0;36m_EagerTensorBase.__reduce__\u001b[1;34m(self)\u001b[0m\n\u001b[0;32m    334\u001b[0m \u001b[38;5;28;01mdef\u001b[39;00m\u001b[38;5;250m \u001b[39m\u001b[38;5;21m__reduce__\u001b[39m(\u001b[38;5;28mself\u001b[39m):\n\u001b[1;32m--> 335\u001b[0m   \u001b[38;5;28;01mreturn\u001b[39;00m convert_to_tensor, (\u001b[38;5;28;43mself\u001b[39;49m\u001b[38;5;241;43m.\u001b[39;49m\u001b[43m_numpy\u001b[49m\u001b[43m(\u001b[49m\u001b[43m)\u001b[49m,)\n",
      "File \u001b[1;32mc:\\Users\\erike\\anaconda3\\envs\\cifake\\lib\\site-packages\\tensorflow\\python\\framework\\ops.py:383\u001b[0m, in \u001b[0;36m_EagerTensorBase._numpy\u001b[1;34m(self)\u001b[0m\n\u001b[0;32m    381\u001b[0m   \u001b[38;5;28;01mreturn\u001b[39;00m \u001b[38;5;28mself\u001b[39m\u001b[38;5;241m.\u001b[39m_numpy_internal()\n\u001b[0;32m    382\u001b[0m \u001b[38;5;28;01mexcept\u001b[39;00m core\u001b[38;5;241m.\u001b[39m_NotOkStatusException \u001b[38;5;28;01mas\u001b[39;00m e:  \u001b[38;5;66;03m# pylint: disable=protected-access\u001b[39;00m\n\u001b[1;32m--> 383\u001b[0m   \u001b[38;5;28;01mraise\u001b[39;00m core\u001b[38;5;241m.\u001b[39m_status_to_exception(e) \u001b[38;5;28;01mfrom\u001b[39;00m\u001b[38;5;250m \u001b[39m\u001b[38;5;28;01mNone\u001b[39;00m\n",
      "\u001b[1;31mInvalidArgumentError\u001b[0m: Cannot convert a Tensor of dtype variant to a NumPy array."
     ]
    }
   ],
   "source": [
    "from collections import Counter\n",
    "import matplotlib.pyplot as plt\n",
    "\n",
    "all_labels = []\n",
    "for images, labels in train_loader:\n",
    "    all_labels.extend(labels.tolist())\n",
    "\n",
    "label_count = Counter(all_labels)\n",
    "\n",
    "classes = list(range(len(label_count)))\n",
    "frequencies = [label_count[i] for i in classes]\n",
    "\n",
    "binary_class_names = ['REAL', 'FAKE']\n",
    "\n",
    "plt.figure(figsize=(6, 5))\n",
    "plt.bar(binary_class_names, frequencies, color='blue', tick_label=binary_class_names)\n",
    "plt.xlabel('Classes')\n",
    "plt.ylabel('Número de imagens')\n",
    "plt.title('Distribuição de Classes (REAL vs FAKE) no Dataset CIFAKE')\n",
    "plt.show()"
   ]
  },
  {
   "cell_type": "markdown",
   "id": "9aee18e1",
   "metadata": {},
   "source": [
    "Nota-se que as classes de imagens seguem uma distribuição uniforme, já que a quantidade de exemplos para cada classe é igual."
   ]
  },
  {
   "cell_type": "markdown",
   "id": "95ec7d77",
   "metadata": {},
   "source": [
    "### Grid de imagens representativas"
   ]
  },
  {
   "cell_type": "markdown",
   "id": "d4edda12",
   "metadata": {},
   "source": [
    "O grid de imagens representativas mostra exemplos do conjunto de dados para cada classse."
   ]
  },
  {
   "cell_type": "code",
   "execution_count": 8,
   "id": "9744a2ec",
   "metadata": {},
   "outputs": [
    {
     "data": {
      "image/png": "[encoded data removed]",
      "text/plain": [
       "<Figure size 800x600 with 1 Axes>"
      ]
     },
     "metadata": {},
     "output_type": "display_data"
    }
   ],
   "source": [
    "from torchvision.utils import make_grid\n",
    "\n",
    "images, labels = images[:6], labels[:6]\n",
    "\n",
    "grid = make_grid(images, nrow=3, padding=2)\n",
    "npimg = grid.permute(1, 2, 0).numpy()\n",
    "\n",
    "plt.figure(figsize=(8, 6))\n",
    "plt.imshow(npimg)\n",
    "plt.axis('off')\n",
    "plt.title('Imagens representativas do dataset CIFAKE')\n",
    "\n",
    "num_images = len(images)\n",
    "rows = 2\n",
    "cols = 3\n",
    "img_height, img_width = images.shape[2], images.shape[3]\n",
    "padding = 2\n",
    "\n",
    "label_map = {0: 'REAL', 1: 'FAKE'}\n",
    "\n",
    "for i in range(num_images):\n",
    "    row = i // cols\n",
    "    col = i % cols\n",
    "    x = col * (img_width + padding) + padding\n",
    "    y = row * (img_height + padding) + 15\n",
    "\n",
    "    plt.text(x, y, label_map[labels[i].item()], color='white', fontsize=10, weight='bold', bbox=dict(facecolor='black', alpha=0.5, edgecolor='none'))"
   ]
  }
 ],
 "metadata": {
  "kernelspec": {
   "display_name": "cifake",
   "language": "python",
   "name": "python3"
  },
  "language_info": {
   "codemirror_mode": {
    "name": "ipython",
    "version": 3
   },
   "file_extension": ".py",
   "mimetype": "text/x-python",
   "name": "python",
   "nbconvert_exporter": "python",
   "pygments_lexer": "ipython3",
   "version": "3.10.14"
  }
 },
 "nbformat": 4,
 "nbformat_minor": 5
}
