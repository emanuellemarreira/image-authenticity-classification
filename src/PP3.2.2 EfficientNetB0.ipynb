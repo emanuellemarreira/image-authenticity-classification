{
 "cells": [
  {
   "cell_type": "code",
   "execution_count": null,
   "id": "2fd64067",
   "metadata": {},
   "outputs": [],
   "source": [
    "# bibliotecas\n",
    "import matplotlib.pyplot as plt\n",
    "import tensorflow as tf\n",
    "import seaborn as sns\n",
    "import numpy as np\n",
    "import torch\n",
    "\n",
    "from tensorflow.keras.applications.resnet50 import preprocess_input\n",
    "from tensorflow.keras.applications import ResNet50\n",
    "from tensorflow.keras.utils import to_categorical\n",
    "from tensorflow.keras import layers, models\n",
    "\n",
    "from sklearn.metrics import classification_report, confusion_matrix, f1_score, roc_auc_score\n",
    "from sklearn.model_selection import StratifiedShuffleSplit, train_test_split\n",
    "\n",
    "from torch.utils.data import Subset, DataLoader, ConcatDataset, random_split\n",
    "from collections import Counter"
   ]
  },
  {
   "cell_type": "markdown",
   "id": "659cdb75",
   "metadata": {},
   "source": [
    "### Carregamento e Pré-Processamento do Dataset"
   ]
  },
  {
   "cell_type": "code",
   "execution_count": null,
   "id": "f6129df7",
   "metadata": {},
   "outputs": [],
   "source": [
    "from utils import data_utils\n",
    "\n",
    "image_size = (224, 224)\n",
    "train_data, test_data = data_utils.load_and_preprocess_data(resize_to=image_size,\n",
    "                                                            keras_format=True,\n",
    "                                                            model_type=data_utils.ModelType.EFFICIENTNET_B0)"
   ]
  },
  {
   "cell_type": "markdown",
   "id": "3859db3a",
   "metadata": {},
   "source": [
    "### Divisão Holdout"
   ]
  },
  {
   "cell_type": "code",
   "execution_count": null,
   "id": "468db4ed",
   "metadata": {},
   "outputs": [],
   "source": [
    "split = StratifiedShuffleSplit(n_splits=1, test_size=0.3, random_state=42)\n",
    "train_idx, val_idx = next(split.split(np.zeros(len(train_data.targets)), train_data.targets))\n"
   ]
  },
  {
   "cell_type": "code",
   "execution_count": null,
   "id": "9517688b",
   "metadata": {},
   "outputs": [],
   "source": [
    "train_split = Subset(train_data, train_idx)\n",
    "val_split = Subset(train_data, val_idx)"
   ]
  },
  {
   "cell_type": "code",
   "execution_count": null,
   "id": "c8d933d2",
   "metadata": {},
   "outputs": [],
   "source": [
    "print(f\"Treino:    {len(train_split)} imagens\")\n",
    "print(f\"Validação: {len(val_split)} imagens\")\n",
    "print(f\"Teste:     {len(test_data)} imagens\")"
   ]
  },
  {
   "cell_type": "code",
   "execution_count": null,
   "id": "f6d55ce5",
   "metadata": {},
   "outputs": [],
   "source": [
    "def get_X_y(dataset):\n",
    "    X = []\n",
    "    y = []\n",
    "    for img, label in dataset:\n",
    "        X.append(img.numpy())  \n",
    "        y.append(label)\n",
    "    X = np.stack(X)\n",
    "    y = np.array(y)\n",
    "    return X, y\n"
   ]
  },
  {
   "cell_type": "code",
   "execution_count": null,
   "id": "5b2e37b9",
   "metadata": {},
   "outputs": [],
   "source": [
    "X_train, y_train = get_X_y(train_split)\n",
    "X_val, y_val = get_X_y(val_split)\n",
    "X_test, y_test = get_X_y(test_data)"
   ]
  },
  {
   "cell_type": "markdown",
   "id": "eeda22e8",
   "metadata": {},
   "source": [
    "## Treino"
   ]
  },
  {
   "cell_type": "markdown",
   "id": "df8bf151",
   "metadata": {},
   "source": [
    "### Modelo\n",
    "\n",
    "**EfficientNetB0**\n",
    "\n",
    "EfficientNet é uma família de CNNs que visa alcançar alto desempenho com menos recursos computacionais em comparação com arquiteturas anteriores. Foi apresentada por Mingxing Tan e Quoc V. Le, do Google Research, em seu artigo de 2019 \"EfficientNet: Repensando o Escalonamento de Modelos para Redes Neurais Convolucionais\". A ideia central por trás do EfficientNet é um novo método de escalonamento que escalona uniformemente todas as dimensões de profundidade, largura e resolução usando um coeficiente composto.\n",
    "\n",
    "O EfficientNet utiliza uma técnica chamada coeficiente composto para escalonar modelos de maneira simples, mas eficaz. Em vez de escalonar aleatoriamente a largura, a profundidade ou a resolução, o escalonamento composto escalona uniformemente cada dimensão com um conjunto fixo de coeficientes de escalonamento. Usando esse método de escalonamento e o AutoML, os autores do EfficientNet desenvolveram sete modelos de várias dimensões, que superaram a precisão de ponta da maioria das CNNs e com eficiência muito superior.\n",
    "\n",
    "A rede EfficientNet-B0 é composta por três partes principais: o Stem, o Body e o Head.\n",
    "\n",
    "O Stem é a camada inicial da rede, composta por uma convolução padrão com 32 filtros, tamanho de kernel 3x3 e stride 2, seguida por uma normalização em batch (batch normalization) e uma função de ativação ReLU6. O Body consiste em uma série de blocos MBConv com diferentes configurações. Esses blocos utilizam convoluções depthwise separáveis, que reduzem a complexidade computacional, e camadas squeeze-and-excitation, que ajudam a rede a focar nos canais mais relevantes. Cada bloco MBConv é definido por parâmetros como o fator de expansão (que determina o quanto os canais de entrada são expandidos), o tamanho do kernel da convolução, o stride (passo da convolução) e a razão SE (squeeze-and-excitation), que controla a intensidade da recalibração dos canais. O Head é composto por um bloco final de convolução, seguido por uma camada de pooling médio global (global average pooling). Por fim, há uma camada totalmente conectada (fully connected) com uma função de ativação softmax, que realiza a classificação final.\n",
    "\n",
    "Fonte: https://www.geeksforgeeks.org/efficientnet-architecture/"
   ]
  },
  {
   "cell_type": "code",
   "execution_count": null,
   "id": "196cb872",
   "metadata": {},
   "outputs": [],
   "source": [
    "device = \"GPU\" if len(tf.config.list_physical_devices('GPU')) > 0 else \"CPU\"\n",
    "print(f\"Usando: {device}\")"
   ]
  },
  {
   "cell_type": "code",
   "execution_count": null,
   "id": "f7eddbe1",
   "metadata": {},
   "outputs": [],
   "source": [
    "base_model = EfficientNetB0(weights='imagenet', include_top=False, input_shape=(image_size, 3))\n",
    "base_model.trainable = False\n",
    "\n",
    "model = models.Sequential([\n",
    "    base_model,\n",
    "    layers.GlobalAveragePooling2D(),\n",
    "    layers.Dense(128, activation='relu'),\n",
    "    layers.Dropout(0.5),\n",
    "    layers.Dense(1, activation='sigmoid') \n",
    "])\n",
    "\n",
    "model.compile(\n",
    "    optimizer='adam',\n",
    "    loss='binary_crossentropy',\n",
    "    metrics=['accuracy']\n",
    ")\n",
    "\n",
    "history = model.fit(\n",
    "    X_train, y_train,\n",
    "    validation_data=(X_val, y_val),\n",
    "    epochs=10,\n",
    "    batch_size=32,\n",
    "    verbose=1\n",
    ")"
   ]
  },
  {
   "cell_type": "code",
   "execution_count": null,
   "id": "3bd54516",
   "metadata": {},
   "outputs": [],
   "source": [
    "y_pred_prob = model.predict(X_test).ravel()\n",
    "y_pred = (y_pred_prob > 0.5).astype(int)\n",
    "\n",
    "cm = confusion_matrix(y_test, y_pred)\n",
    "plt.figure(figsize=(5, 4))\n",
    "sns.heatmap(cm, annot=True, fmt='d', cmap='Blues', xticklabels=['Real', 'Fake'], yticklabels=['Real', 'Fake'])\n",
    "plt.xlabel(\"Predito\")\n",
    "plt.ylabel(\"Real\")\n",
    "plt.title(\"Matriz de Confusão\")\n",
    "plt.show()\n",
    "\n",
    "print(\"\\nRelatório de Classificação:\")\n",
    "print(classification_report(y_test, y_pred, target_names=[\"Real\", \"Fake\"]))\n",
    "\n",
    "roc_auc = roc_auc_score(y_test, y_pred_prob)\n",
    "print(f\"AUC (ROC): {roc_auc:.4f}\")\n",
    "\n",
    "plt.figure(figsize=(8, 4))\n",
    "plt.plot(history.history['accuracy'], label='Treino')\n",
    "plt.plot(history.history['val_accuracy'], label='Validação')\n",
    "plt.title(\"Curva de Aprendizado - Acurácia\")\n",
    "plt.xlabel(\"Época\")\n",
    "plt.ylabel(\"Acurácia\")\n",
    "plt.legend()\n",
    "plt.grid()\n",
    "plt.show()\n",
    "\n",
    "plt.figure(figsize=(8, 4))\n",
    "plt.plot(history.history['loss'], label='Treino')\n",
    "plt.plot(history.history['val_loss'], label='Validação')\n",
    "plt.title(\"Curva de Aprendizado - Perda\")\n",
    "plt.xlabel(\"Época\")\n",
    "plt.ylabel(\"Perda (Loss)\")\n",
    "plt.legend()\n",
    "plt.grid()\n",
    "plt.show()\n"
   ]
  }
 ],
 "metadata": {
  "kernelspec": {
   "display_name": "Python 3 (ipykernel)",
   "language": "python",
   "name": "python3"
  },
  "language_info": {
   "codemirror_mode": {
    "name": "ipython",
    "version": 3
   },
   "file_extension": ".py",
   "mimetype": "text/x-python",
   "name": "python",
   "nbconvert_exporter": "python",
   "pygments_lexer": "ipython3",
   "version": "3.11.8"
  }
 },
 "nbformat": 4,
 "nbformat_minor": 5
}
