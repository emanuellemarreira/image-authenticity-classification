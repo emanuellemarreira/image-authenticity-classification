{
 "cells": [
  {
   "cell_type": "code",
   "execution_count": 1,
   "id": "62d0edf0",
   "metadata": {},
   "outputs": [],
   "source": [
    "# bibliotecas\n",
    "import matplotlib.pyplot as plt\n",
    "import tensorflow as tf\n",
    "import seaborn as sns\n",
    "\n",
    "from tensorflow.keras.applications import Xception\n",
    "from tensorflow.keras import layers, models\n",
    "\n",
    "from sklearn.metrics import classification_report, confusion_matrix, f1_score, roc_auc_score"
   ]
  },
  {
   "cell_type": "markdown",
   "id": "480f40f5",
   "metadata": {},
   "source": [
    "### Carregamento e Pré-Processamento do Dataset"
   ]
  },
  {
   "cell_type": "code",
   "execution_count": 2,
   "id": "d142ce26",
   "metadata": {},
   "outputs": [
    {
     "name": "stdout",
     "output_type": "stream",
     "text": [
      "Found 100000 files belonging to 2 classes.\n",
      "Found 20000 files belonging to 2 classes.\n"
     ]
    }
   ],
   "source": [
    "from utils.data_utils_keras import load_and_preprocess_data_tf, ModelType\n",
    "\n",
    "batch_size = 32\n",
    "image_size = (299, 299)\n",
    "train_ds, test_ds = load_and_preprocess_data_tf(resize_to=image_size,\n",
    "                                                batch_size=batch_size,\n",
    "                                                model_type=ModelType.XCEPTION)"
   ]
  },
  {
   "cell_type": "markdown",
   "id": "ea0919ed",
   "metadata": {},
   "source": [
    "### Divisão Holdout"
   ]
  },
  {
   "cell_type": "code",
   "execution_count": 3,
   "id": "f1963cbd",
   "metadata": {},
   "outputs": [],
   "source": [
    "total_batches = tf.data.experimental.cardinality(train_ds).numpy()\n",
    "total_samples = total_batches * batch_size"
   ]
  },
  {
   "cell_type": "code",
   "execution_count": 4,
   "id": "3222106c",
   "metadata": {},
   "outputs": [],
   "source": [
    "# Define proporção de treino (70%) e validação (30%) usando o número de batches\n",
    "train_batches = int(total_batches * 0.7)\n",
    "val_batches = total_batches - train_batches"
   ]
  },
  {
   "cell_type": "code",
   "execution_count": 5,
   "id": "8399381e",
   "metadata": {},
   "outputs": [],
   "source": [
    "# Embaralha os batches do dataset\n",
    "train_ds_shuffled = train_ds.shuffle(buffer_size=1000, seed=42, reshuffle_each_iteration=False)"
   ]
  },
  {
   "cell_type": "code",
   "execution_count": 6,
   "id": "20051abb",
   "metadata": {},
   "outputs": [],
   "source": [
    "# Divisão trenio e validação\n",
    "train_ds = train_ds_shuffled.take(train_batches)\n",
    "val_ds = train_ds_shuffled.skip(train_batches)\n",
    "\n",
    "train_ds = train_ds.prefetch(tf.data.AUTOTUNE)\n",
    "val_ds = val_ds.prefetch(tf.data.AUTOTUNE)"
   ]
  },
  {
   "cell_type": "code",
   "execution_count": 7,
   "id": "50f283ff",
   "metadata": {},
   "outputs": [
    {
     "name": "stdout",
     "output_type": "stream",
     "text": [
      "Batches de treino: 2187\n",
      "Batches de validação: 938\n",
      "Aproximadamente 69984 amostras de treino\n",
      "Aproximadamente 30016 amostras de validação\n"
     ]
    }
   ],
   "source": [
    "print(f\"Batches de treino: {train_batches}\")\n",
    "print(f\"Batches de validação: {val_batches}\")\n",
    "print(f\"Aproximadamente {train_batches * batch_size} amostras de treino\")\n",
    "print(f\"Aproximadamente {val_batches * batch_size} amostras de validação\")"
   ]
  },
  {
   "cell_type": "markdown",
   "id": "65b02edc",
   "metadata": {},
   "source": [
    "## Treino"
   ]
  },
  {
   "cell_type": "markdown",
   "id": "9d43edf7",
   "metadata": {},
   "source": [
    "### Modelo\n",
    "\n",
    "**Xception**\n",
    "\n",
    "A Xception Architecture é uma arquitetura de rede neural convolucional que foi introduzida em 2016 por François Chollet, o criador da biblioteca de deep learning Keras. Essa arquitetura é conhecida por sua eficiência e desempenho superior em comparação com outras arquiteturas convolucionais tradicionais. A Xception Architecture é baseada no conceito de depthwise separable convolutions, que consiste em dividir a convolução em duas etapas separadas: uma etapa para lidar com a convolução espacial e outra para lidar com a convolução em profundidade. Isso permite que a rede aprenda representações mais ricas e complexas, resultando em um melhor desempenho em tarefas de visão computacional.\n",
    "\n",
    "Diferentemente de arquiteturas como a Inception, que combinam múltiplos tipos de convolução em paralelo, a Xception simplifica esse processo ao aplicar uma convolução depthwise (que opera separadamente em cada canal de entrada) seguida por uma convolução pointwise (1x1), que combina os canais. Essa separação permite um modelo mais leve e profundo, com menor número de parâmetros e operações, sem comprometer a capacidade de aprendizado. A arquitetura é composta por três partes principais: uma entrada com camadas convolucionais iniciais, um corpo formado por 14 módulos principais baseados em depthwise separable convolutions com conexões residuais, e uma saída com pooling global e uma camada densa para classificação.\n",
    "\n",
    "Fonte: https://iatracker.com.br/glossario/o-que-e-xception-architecture/"
   ]
  },
  {
   "cell_type": "code",
   "execution_count": null,
   "id": "ec3c2996",
   "metadata": {},
   "outputs": [],
   "source": [
    "base_model = Xception(weights='imagenet', include_top=False, input_shape=(*image_size, 3))\n",
    "base_model.trainable = False\n",
    "\n",
    "model = models.Sequential([\n",
    "    base_model,\n",
    "    layers.GlobalAveragePooling2D(),\n",
    "    layers.Dense(128, activation='relu'),\n",
    "    layers.Dropout(0.5),\n",
    "    layers.Dense(1, activation='sigmoid')\n",
    "])\n",
    "\n",
    "model.compile(\n",
    "    optimizer='adam',\n",
    "    loss='binary_crossentropy',\n",
    "    metrics=['accuracy']\n",
    ")\n",
    "\n",
    "model.summary()\n",
    "\n",
    "history = model.fit(\n",
    "    train_ds,\n",
    "    validation_data=val_ds,\n",
    "    epochs=10,\n",
    "    batch_size=batch_size,\n",
    "    verbose=1\n",
    ")"
   ]
  },
  {
   "cell_type": "code",
   "execution_count": null,
   "id": "97ef33af",
   "metadata": {},
   "outputs": [],
   "source": [
    "y_pred_prob = model.predict(test_ds)\n",
    "y_pred = (y_pred_prob > 0.5).astype(int).ravel()\n",
    "\n",
    "# Extrair labels verdadeiros do dataset de teste\n",
    "y_test = []\n",
    "for _, labels in test_ds:\n",
    "    y_test.extend(labels.numpy())\n",
    "y_test = np.array(y_test)\n",
    "\n",
    "# Flatten y_pred_prob para garantir formato correto\n",
    "y_pred_prob = y_pred_prob.ravel()\n",
    "\n",
    "cm = confusion_matrix(y_test, y_pred)\n",
    "plt.figure(figsize=(5, 4))\n",
    "sns.heatmap(cm, annot=True, fmt='d', cmap='Blues', xticklabels=['Real', 'Fake'], yticklabels=['Real', 'Fake'])\n",
    "plt.xlabel(\"Predito\")\n",
    "plt.ylabel(\"Real\")\n",
    "plt.title(\"Matriz de Confusão\")\n",
    "plt.show()\n",
    "\n",
    "print(\"\\nRelatório de Classificação:\")\n",
    "print(classification_report(y_test, y_pred, target_names=[\"Real\", \"Fake\"]))\n",
    "\n",
    "roc_auc = roc_auc_score(y_test, y_pred_prob)\n",
    "print(f\"AUC (ROC): {roc_auc:.4f}\")\n",
    "\n",
    "plt.figure(figsize=(8, 4))\n",
    "\n",
    "# Acurácia\n",
    "plt.subplot(1, 2, 1)\n",
    "plt.plot(history.history['accuracy'], label='Treino')\n",
    "plt.plot(history.history['val_accuracy'], label='Validação')\n",
    "plt.title(\"Curva de Aprendizado - Acurácia\")\n",
    "plt.xlabel(\"Época\")\n",
    "plt.ylabel(\"Acurácia\")\n",
    "plt.legend()\n",
    "plt.grid()\n",
    "\n",
    "# Perda\n",
    "plt.subplot(1, 2, 2)\n",
    "plt.plot(history.history['loss'], label='Treino')\n",
    "plt.plot(history.history['val_loss'], label='Validação')\n",
    "plt.title(\"Curva de Aprendizado - Perda\")\n",
    "plt.xlabel(\"Época\")\n",
    "plt.ylabel(\"Perda (Loss)\")\n",
    "plt.legend()\n",
    "plt.grid()\n",
    "\n",
    "plt.show()"
   ]
  }
 ],
 "metadata": {
  "kernelspec": {
   "display_name": "Convolutional Neural Networks - PP3",
   "language": "python",
   "name": "cnn_pp3"
  },
  "language_info": {
   "codemirror_mode": {
    "name": "ipython",
    "version": 3
   },
   "file_extension": ".py",
   "mimetype": "text/x-python",
   "name": "python",
   "nbconvert_exporter": "python",
   "pygments_lexer": "ipython3",
   "version": "3.11.8"
  }
 },
 "nbformat": 4,
 "nbformat_minor": 5
}
