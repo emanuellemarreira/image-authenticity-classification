{
 "cells": [
  {
   "cell_type": "code",
   "execution_count": null,
   "id": "62d0edf0",
   "metadata": {},
   "outputs": [],
   "source": [
    "# bibliotecas\n",
    "import matplotlib.pyplot as plt\n",
    "import tensorflow as tf\n",
    "import seaborn as sns\n",
    "import numpy as np\n",
    "import torch\n",
    "\n",
    "from tensorflow.keras.applications import Xception\n",
    "from tensorflow.keras import layers, models\n",
    "\n",
    "from sklearn.metrics import classification_report, confusion_matrix, roc_auc_score\n",
    "from sklearn.model_selection import StratifiedShuffleSplit\n",
    "\n",
    "from torch.utils.data import Subset"
   ]
  },
  {
   "cell_type": "markdown",
   "id": "480f40f5",
   "metadata": {},
   "source": [
    "### Carregamento e Pré-Processamento do Dataset"
   ]
  },
  {
   "cell_type": "code",
   "execution_count": null,
   "id": "d142ce26",
   "metadata": {},
   "outputs": [],
   "source": [
    "from utils import data_utils\n",
    "\n",
    "image_size = (299, 299)\n",
    "train_data, test_data = data_utils.load_and_preprocess_data(resize_to=image_size,\n",
    "                                                            keras_format=True,\n",
    "                                                            model_type=data_utils.ModelType.XCEPTION)"
   ]
  },
  {
   "cell_type": "markdown",
   "id": "ea0919ed",
   "metadata": {},
   "source": [
    "### Divisão Holdout"
   ]
  },
  {
   "cell_type": "code",
   "execution_count": null,
   "id": "f1963cbd",
   "metadata": {},
   "outputs": [],
   "source": [
    "split = StratifiedShuffleSplit(n_splits=1, test_size=0.3, random_state=42)\n",
    "train_idx, val_idx = next(split.split(np.zeros(len(train_data.targets)), train_data.targets))\n"
   ]
  },
  {
   "cell_type": "code",
   "execution_count": null,
   "id": "3222106c",
   "metadata": {},
   "outputs": [],
   "source": [
    "train_split = Subset(train_data, train_idx)\n",
    "val_split = Subset(train_data, val_idx)"
   ]
  },
  {
   "cell_type": "code",
   "execution_count": null,
   "id": "8399381e",
   "metadata": {},
   "outputs": [],
   "source": [
    "print(f\"Treino:    {len(train_split)} imagens\")\n",
    "print(f\"Validação: {len(val_split)} imagens\")\n",
    "print(f\"Teste:     {len(test_data)} imagens\")"
   ]
  },
  {
   "cell_type": "code",
   "execution_count": null,
   "id": "20051abb",
   "metadata": {},
   "outputs": [],
   "source": [
    "def get_X_y(dataset):\n",
    "    X = []\n",
    "    y = []\n",
    "    for img, label in dataset:\n",
    "        X.append(img.numpy())  \n",
    "        y.append(label)\n",
    "    X = np.stack(X)\n",
    "    y = np.array(y)\n",
    "    return X, y\n"
   ]
  },
  {
   "cell_type": "code",
   "execution_count": null,
   "id": "50f283ff",
   "metadata": {},
   "outputs": [],
   "source": [
    "X_train, y_train = get_X_y(train_split)\n",
    "X_val, y_val = get_X_y(val_split)\n",
    "X_test, y_test = get_X_y(test_data)"
   ]
  },
  {
   "cell_type": "markdown",
   "id": "65b02edc",
   "metadata": {},
   "source": [
    "## Treino"
   ]
  },
  {
   "cell_type": "markdown",
   "id": "9d43edf7",
   "metadata": {},
   "source": [
    "### Modelo\n",
    "\n",
    "**Xception**\n",
    "\n",
    "A Xception Architecture é uma arquitetura de rede neural convolucional que foi introduzida em 2016 por François Chollet, o criador da biblioteca de deep learning Keras. Essa arquitetura é conhecida por sua eficiência e desempenho superior em comparação com outras arquiteturas convolucionais tradicionais. A Xception Architecture é baseada no conceito de depthwise separable convolutions, que consiste em dividir a convolução em duas etapas separadas: uma etapa para lidar com a convolução espacial e outra para lidar com a convolução em profundidade. Isso permite que a rede aprenda representações mais ricas e complexas, resultando em um melhor desempenho em tarefas de visão computacional.\n",
    "\n",
    "Diferentemente de arquiteturas como a Inception, que combinam múltiplos tipos de convolução em paralelo, a Xception simplifica esse processo ao aplicar uma convolução depthwise (que opera separadamente em cada canal de entrada) seguida por uma convolução pointwise (1x1), que combina os canais. Essa separação permite um modelo mais leve e profundo, com menor número de parâmetros e operações, sem comprometer a capacidade de aprendizado. A arquitetura é composta por três partes principais: uma entrada com camadas convolucionais iniciais, um corpo formado por 14 módulos principais baseados em depthwise separable convolutions com conexões residuais, e uma saída com pooling global e uma camada densa para classificação.\n",
    "\n",
    "Fonte: https://iatracker.com.br/glossario/o-que-e-xception-architecture/"
   ]
  },
  {
   "cell_type": "code",
   "execution_count": null,
   "id": "ec3c2996",
   "metadata": {},
   "outputs": [],
   "source": [
    "base_model = Xception(weights='imagenet', include_top=False, input_shape=(image_size, 3))\n",
    "base_model.trainable = False\n",
    "\n",
    "model = models.Sequential([\n",
    "    base_model,\n",
    "    layers.GlobalAveragePooling2D(),\n",
    "    layers.Dense(128, activation='relu'),\n",
    "    layers.Dropout(0.5),\n",
    "    layers.Dense(1, activation='sigmoid')\n",
    "])\n",
    "\n",
    "model.compile(\n",
    "    optimizer='adam',\n",
    "    loss='binary_crossentropy',\n",
    "    metrics=['accuracy']\n",
    ")\n",
    "\n",
    "history = model.fit(\n",
    "    X_train, y_train,\n",
    "    validation_data=(X_val, y_val),\n",
    "    epochs=10,\n",
    "    batch_size=32\n",
    ")\n"
   ]
  },
  {
   "cell_type": "code",
   "execution_count": null,
   "id": "97ef33af",
   "metadata": {},
   "outputs": [],
   "source": [
    "y_pred_prob = model.predict(X_test).ravel()\n",
    "y_pred = (y_pred_prob > 0.5).astype(int)\n",
    "\n",
    "cm = confusion_matrix(y_test, y_pred)\n",
    "plt.figure(figsize=(5, 4))\n",
    "sns.heatmap(cm, annot=True, fmt='d', cmap='Blues', xticklabels=['Real', 'Fake'], yticklabels=['Real', 'Fake'])\n",
    "plt.xlabel(\"Predito\")\n",
    "plt.ylabel(\"Real\")\n",
    "plt.title(\"Matriz de Confusão\")\n",
    "plt.show()\n",
    "\n",
    "print(\"\\nRelatório de Classificação:\")\n",
    "print(classification_report(y_test, y_pred, target_names=[\"Real\", \"Fake\"]))\n",
    "\n",
    "roc_auc = roc_auc_score(y_test, y_pred_prob)\n",
    "print(f\"AUC (ROC): {roc_auc:.4f}\")\n",
    "\n",
    "plt.figure(figsize=(8, 4))\n",
    "plt.plot(history.history['accuracy'], label='Treino')\n",
    "plt.plot(history.history['val_accuracy'], label='Validação')\n",
    "plt.title(\"Curva de Aprendizado - Acurácia\")\n",
    "plt.xlabel(\"Época\")\n",
    "plt.ylabel(\"Acurácia\")\n",
    "plt.legend()\n",
    "plt.grid()\n",
    "plt.show()\n",
    "\n",
    "plt.figure(figsize=(8, 4))\n",
    "plt.plot(history.history['loss'], label='Treino')\n",
    "plt.plot(history.history['val_loss'], label='Validação')\n",
    "plt.title(\"Curva de Aprendizado - Perda\")\n",
    "plt.xlabel(\"Época\")\n",
    "plt.ylabel(\"Perda (Loss)\")\n",
    "plt.legend()\n",
    "plt.grid()\n",
    "plt.show()\n"
   ]
  }
 ],
 "metadata": {
  "kernelspec": {
   "display_name": "Convolutional Neural Networks - PP3",
   "language": "python",
   "name": "cnn_pp3"
  },
  "language_info": {
   "codemirror_mode": {
    "name": "ipython",
    "version": 3
   },
   "file_extension": ".py",
   "mimetype": "text/x-python",
   "name": "python",
   "nbconvert_exporter": "python",
   "pygments_lexer": "ipython3",
   "version": "3.11.8"
  }
 },
 "nbformat": 4,
 "nbformat_minor": 5
}
