{
 "cells": [
  {
   "cell_type": "markdown",
   "id": "9308057e",
   "metadata": {},
   "source": [
    "fazer um notebook 3.3 com analise entre os resultados das duas redes (ser criativo aqui e deixar tudo o mais bonito, usar pretty table etc; aqui entra tb a ideia que a ellloá deu de pegar uma imagem e dizer qual resultado cada modelo deu; acrescentar desafios enfrentados, sugestões de melhorias e próximos passos)"
   ]
  }
 ],
 "metadata": {
  "language_info": {
   "name": "python"
  }
 },
 "nbformat": 4,
 "nbformat_minor": 5
}
