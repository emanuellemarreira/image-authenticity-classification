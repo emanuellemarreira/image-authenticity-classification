{
 "cells": [
  {
   "cell_type": "markdown",
   "id": "9308057e",
   "metadata": {},
   "source": [
    "#### fazer um notebook 3.3 com analise entre os resultados das duas redes (ser criativo aqui e deixar tudo o mais bonito, usar pretty table etc; aqui entra tb a ideia que a ellloá deu de pegar uma imagem e dizer qual resultado cada modelo deu; acrescentar desafios enfrentados, sugestões de melhorias e próximos passos)"
   ]
  },
  {
   "cell_type": "code",
   "execution_count": 2,
   "id": "ab733b34",
   "metadata": {},
   "outputs": [],
   "source": [
    "import matplotlib.pyplot as plt\n",
    "from prettytable import PrettyTable\n",
    "from PIL import Image\n",
    "import numpy as np"
   ]
  },
  {
   "cell_type": "markdown",
   "id": "214b1611",
   "metadata": {},
   "source": []
  },
  {
   "cell_type": "code",
   "execution_count": null,
   "id": "459a4d3e",
   "metadata": {},
   "outputs": [
    {
     "name": "stdout",
     "output_type": "stream",
     "text": [
      "Comparação de Desempenho:\n",
      "+-----------+--------------------------+-----------+--------+\n",
      "| Categoria |         Métricas         | Mobilenet | Resnet |\n",
      "+-----------+--------------------------+-----------+--------+\n",
      "|    Real   |            -             |     -     |   -    |\n",
      "|           |         Acurácia         |    0.85   |  0.85  |\n",
      "|           |         Precisão         |    0.82   |  0.82  |\n",
      "|           |        Revocação         |    0.90   |  0.90  |\n",
      "|           |         F1-Score         |    0.86   |  0.86  |\n",
      "+-----------+--------------------------+-----------+--------+\n",
      "|    Fake   |            -             |     -     |   -    |\n",
      "|           |         Acurácia         |    0.85   |  0.85  |\n",
      "|           |         Precisão         |    0.89   |  0.89  |\n",
      "|           |        Revocação         |    0.80   |  0.80  |\n",
      "|           |         F1-Score         |    0.84   |  0.84  |\n",
      "+-----------+--------------------------+-----------+--------+\n",
      "|     -     | Tempo de Treinamento (s) |   13500   | 13500  |\n",
      "+-----------+--------------------------+-----------+--------+\n"
     ]
    }
   ],
   "source": [
    "# Métricas simuladas para demonstração mobilenet -> resnet\n",
    "metrics = {\n",
    "    \"Real\" :{\n",
    "        \"Acurácia\": [0.85, 0.85],\n",
    "        \"Precisão\": [0.82, 0.82],\n",
    "        \"Revocação\": [0.90, 0.90],\n",
    "        \"F1-Score\": [0.86, 0.86],\n",
    "        },\n",
    "    \"Fake\": { \n",
    "        \"Acurácia\": [0.85, 0.85],\n",
    "        \"Precisão\": [0.89, 0.89],\n",
    "        \"Revocação\": [0.80, 0.80],\n",
    "        \"F1-Score\": [0.84, 0.84],\n",
    "        },\n",
    "}\n",
    "\n",
    "tempo_treinamento = [13500,13500]\n",
    "\n",
    "tabela = PrettyTable()\n",
    "tabela.field_names = [\"Categoria\" ,\"Métricas\", \"Mobilenet\", \"Resnet\"]\n",
    "\n",
    "\n",
    "for category, metricas in metrics.items():\n",
    "    tabela.add_row([category,\"-\",\"-\",\"-\"])   \n",
    "    for metric, values in metricas.items():\n",
    "        tabela.add_row(['',metric,f\"{values[0]:.2f}\",f\"{values[1]:.2f}\"])\n",
    "    tabela.add_divider()\n",
    "tabela.add_row([\"-\", \"Tempo de Treinamento (s)\", tempo_treinamento[0], tempo_treinamento[1]])\n",
    "\n",
    "print(\"Comparação de Desempenho:\")\n",
    "print(tabela)\n"
   ]
  },
  {
   "cell_type": "code",
   "execution_count": null,
   "id": "e69d22de",
   "metadata": {},
   "outputs": [],
   "source": []
  }
 ],
 "metadata": {
  "kernelspec": {
   "display_name": "cifake",
   "language": "python",
   "name": "python3"
  },
  "language_info": {
   "codemirror_mode": {
    "name": "ipython",
    "version": 3
   },
   "file_extension": ".py",
   "mimetype": "text/x-python",
   "name": "python",
   "nbconvert_exporter": "python",
   "pygments_lexer": "ipython3",
   "version": "3.10.14"
  }
 },
 "nbformat": 4,
 "nbformat_minor": 5
}
