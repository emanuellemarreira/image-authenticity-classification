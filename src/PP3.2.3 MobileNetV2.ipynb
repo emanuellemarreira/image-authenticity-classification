{
 "cells": [
  {
   "cell_type": "markdown",
   "metadata": {},
   "source": [
    "### Bibliotecas"
   ]
  },
  {
   "cell_type": "code",
   "execution_count": 1,
   "metadata": {
    "id": "H8mGuzlhvlUU"
   },
   "outputs": [
    {
     "name": "stderr",
     "output_type": "stream",
     "text": [
      "c:\\Users\\João Carvalho\\AppData\\Local\\Programs\\Python\\Python311\\Lib\\site-packages\\tqdm\\auto.py:21: TqdmWarning: IProgress not found. Please update jupyter and ipywidgets. See https://ipywidgets.readthedocs.io/en/stable/user_install.html\n",
      "  from .autonotebook import tqdm as notebook_tqdm\n"
     ]
    }
   ],
   "source": [
    "import matplotlib.pyplot as plt\n",
    "import tensorflow as tf\n",
    "import seaborn as sns\n",
    "import numpy as np\n",
    "\n",
    "from tensorflow.keras.applications import MobileNetV2\n",
    "from tensorflow.keras import layers, models\n",
    "from tensorflow.keras.callbacks import EarlyStopping\n",
    "\n",
    "from sklearn.metrics import classification_report, confusion_matrix, f1_score, roc_auc_score\n",
    "\n",
    "import os\n",
    "from enum import Enum\n",
    "from typing import Tuple, Callable\n",
    "from kagglehub import dataset_download"
   ]
  },
  {
   "cell_type": "markdown",
   "metadata": {
    "id": "iHgIsnlc3J-x"
   },
   "source": [
    "### Carregamento e Pré-Processamento do Dataset"
   ]
  },
  {
   "cell_type": "code",
   "execution_count": 2,
   "metadata": {
    "id": "R_xyxSYjfZUK"
   },
   "outputs": [],
   "source": [
    "__ONLINE_DATASET_URI = \"birdy654/cifake-real-and-ai-generated-synthetic-images\"\n",
    "__BASE_LOCAL_DATA_PATHS = [\n",
    "    (\"../data/train/REAL\", 50000),\n",
    "    (\"../data/train/FAKE\", 50000),\n",
    "    (\"../data/test/REAL\", 10000),\n",
    "    (\"../data/test/FAKE\", 10000)\n",
    "]\n",
    "\n",
    "class ModelType(Enum):\n",
    "    GENERAL = \"general\"\n",
    "    EFFICIENTNET_B0 = \"efficientnet_b0\"\n",
    "    RESNET50 = \"resnet50\"\n",
    "    XCEPTION = \"xception\"\n",
    "    MOBILENET_V2 = \"mobilenet_v2\"\n",
    "    SHUFFLENET_V2 = \"shufflenet_v2\"\n",
    "\n",
    "def _get_tf_preprocess_fn(model_type: ModelType,\n",
    "                          resize_to: Tuple[int, int]) -> Callable[[tf.Tensor, tf.Tensor], Tuple[tf.Tensor, tf.Tensor]]:\n",
    "    def preprocess(image: tf.Tensor, label: tf.Tensor) -> Tuple[tf.Tensor, tf.Tensor]:\n",
    "        image = tf.image.resize(image, resize_to)\n",
    "        image = tf.cast(image, tf.float32) / 255.0\n",
    "\n",
    "        if model_type in [ModelType.EFFICIENTNET_B0, ModelType.RESNET50]:\n",
    "            mean = tf.constant([0.485, 0.456, 0.406])\n",
    "            std = tf.constant([0.229, 0.224, 0.225])\n",
    "            image = (image - mean) / std\n",
    "        elif model_type in [ModelType.MOBILENET_V2]:\n",
    "            image = (image - 0.5) * 2.0\n",
    "        return image, label\n",
    "    return preprocess\n",
    "\n",
    "def load_and_preprocess_data_tf(resize_to: Tuple[int, int] = (224, 224),\n",
    "                                batch_size: int = 32,\n",
    "                                model_type: ModelType = ModelType.GENERAL,\n",
    "                                manual_path: str = None) -> Tuple[tf.data.Dataset, tf.data.Dataset]:\n",
    "    if manual_path is not None:\n",
    "        train_path = os.path.join(manual_path, \"train\")\n",
    "        test_path = os.path.join(manual_path, \"test\")\n",
    "    else:\n",
    "        train_path = \"../data/train\"\n",
    "        test_path = \"../data/test\"\n",
    "\n",
    "\n",
    "    preprocess_fn = _get_tf_preprocess_fn(model_type, resize_to)\n",
    "\n",
    "    train_ds = tf.keras.utils.image_dataset_from_directory(\n",
    "        train_path,\n",
    "        image_size=resize_to,\n",
    "        batch_size=batch_size,\n",
    "        shuffle=True\n",
    "    ).map(preprocess_fn).prefetch(tf.data.AUTOTUNE)\n",
    "\n",
    "    test_ds = tf.keras.utils.image_dataset_from_directory(\n",
    "        test_path,\n",
    "        image_size=resize_to,\n",
    "        batch_size=batch_size,\n",
    "        shuffle=False\n",
    "    ).map(preprocess_fn).prefetch(tf.data.AUTOTUNE)\n",
    "\n",
    "    return train_ds, test_ds\n"
   ]
  },
  {
   "cell_type": "code",
   "execution_count": 17,
   "metadata": {
    "id": "EdZ8ZM4Td_CJ"
   },
   "outputs": [],
   "source": [
    "train_path = \"/content/cifake/train\"\n",
    "test_path = \"/content/cifake/test\"\n"
   ]
  },
  {
   "cell_type": "code",
   "execution_count": null,
   "metadata": {
    "colab": {
     "base_uri": "https://localhost:8080/"
    },
    "id": "A8liFucq0ywf",
    "outputId": "66ca3b3f-4a31-4919-cfa6-da56f7d9581c"
   },
   "outputs": [
    {
     "name": "stdout",
     "output_type": "stream",
     "text": [
      "Found 100000 files belonging to 2 classes.\n",
      "Found 20000 files belonging to 2 classes.\n"
     ]
    }
   ],
   "source": [
    "batch_size = 32\n",
    "image_size = (224, 224)\n",
    "pi = \"C:/TT\"\n",
    "train_ds, test_ds = load_and_preprocess_data_tf(\n",
    "    resize_to=image_size,\n",
    "    batch_size=batch_size,\n",
    "    model_type=ModelType.MOBILENET_V2,\n",
    "    manual_path = r\"C:/TT/cifake\" #local do dataset no meu pc\n",
    "\n",
    ")"
   ]
  },
  {
   "cell_type": "markdown",
   "metadata": {
    "id": "AXt9nU5q290R"
   },
   "source": [
    "### Divisão Holdout"
   ]
  },
  {
   "cell_type": "code",
   "execution_count": 12,
   "metadata": {
    "id": "hESJdappA1hy"
   },
   "outputs": [],
   "source": [
    "total_batches = tf.data.experimental.cardinality(train_ds).numpy()\n",
    "total_samples = total_batches * batch_size"
   ]
  },
  {
   "cell_type": "code",
   "execution_count": 13,
   "metadata": {
    "id": "Gt4QMw20BFsL"
   },
   "outputs": [],
   "source": [
    "# Define proporção de treino (70%) e validação (30%) usando o número de batches\n",
    "train_batches = int(total_batches * 0.7)\n",
    "val_batches = total_batches - train_batches"
   ]
  },
  {
   "cell_type": "code",
   "execution_count": 14,
   "metadata": {
    "id": "3dqYVZurBKc-"
   },
   "outputs": [],
   "source": [
    "# Embaralha os batches do dataset\n",
    "train_ds_shuffled = train_ds.shuffle(buffer_size=1000, seed=42, reshuffle_each_iteration=False)"
   ]
  },
  {
   "cell_type": "code",
   "execution_count": 15,
   "metadata": {
    "id": "fq_awWkgURkw"
   },
   "outputs": [],
   "source": [
    "# Divisão trenio e validação\n",
    "train_ds = train_ds_shuffled.take(train_batches)\n",
    "val_ds = train_ds_shuffled.skip(train_batches)\n",
    "\n",
    "train_ds = train_ds.prefetch(tf.data.AUTOTUNE)\n",
    "val_ds = val_ds.prefetch(tf.data.AUTOTUNE)"
   ]
  },
  {
   "cell_type": "code",
   "execution_count": 16,
   "metadata": {
    "colab": {
     "base_uri": "https://localhost:8080/"
    },
    "id": "6fVPTUNAURkw",
    "outputId": "fe3cbeee-f3db-4983-f0ad-fd2dfab1fc8c"
   },
   "outputs": [
    {
     "name": "stdout",
     "output_type": "stream",
     "text": [
      "Batches de treino: 2187\n",
      "Batches de validação: 938\n",
      "Aproximadamente 69984 amostras de treino\n",
      "Aproximadamente 30016 amostras de validação\n"
     ]
    }
   ],
   "source": [
    "print(f\"Batches de treino: {train_batches}\")\n",
    "print(f\"Batches de validação: {val_batches}\")\n",
    "print(f\"Aproximadamente {train_batches * batch_size} amostras de treino\")\n",
    "print(f\"Aproximadamente {val_batches * batch_size} amostras de validação\")"
   ]
  },
  {
   "cell_type": "markdown",
   "metadata": {
    "id": "5ZT0bZlOURkw"
   },
   "source": [
    "## Treino"
   ]
  },
  {
   "cell_type": "markdown",
   "metadata": {
    "id": "ELV7Wr6nURkw"
   },
   "source": [
    "### Modelo\n",
    "\n",
    "**MobileNet V2**\n",
    "\n",
    "O MobileNet V2 é uma arquitetura de rede neural convolucional eficiente e leve, desenvolvida pelo Google em 2018, especialmente voltada para aplicações em dispositivos móveis e embarcados. Ele é uma evolução do MobileNet original, trazendo melhorias significativas em desempenho e economia computacional, sem comprometer a precisão.\n",
    "\n",
    "Sua arquitetura é composta por três principais elementos: as convoluções separáveis em profundidade, os blocos de resíduos invertidos e os gargalos lineares. As convoluções separáveis reduzem drasticamente o número de parâmetros e operações necessárias. Os blocos de resíduos invertidos conectam camadas com profundidades diferentes para facilitar o fluxo de informações, enquanto os gargalos lineares evitam perda de dados importantes durante o processamento.\n",
    "\n",
    "O MobileNet V2 foi treinado em bases de dados como o ImageNet, atingindo bons resultados em tarefas como classificação de imagens, detecção de objetos e segmentação semântica. Seu grande diferencial está no equilíbrio entre precisão e eficiência, sendo ideal para aplicações em tempo real, como reconhecimento facial, realidade aumentada e sistemas inteligentes em dispositivos com recursos limitados.\n",
    "\n",
    "Fonte: https://www.tensorflow.org/api_docs/python/tf/keras/applications/MobileNetV2"
   ]
  },
  {
   "cell_type": "code",
   "execution_count": 17,
   "metadata": {
    "colab": {
     "base_uri": "https://localhost:8080/"
    },
    "id": "Y4-neAB8URkw",
    "outputId": "56592f99-892b-408e-ccb6-64be8c14a220"
   },
   "outputs": [
    {
     "name": "stdout",
     "output_type": "stream",
     "text": [
      "Usando: CPU\n"
     ]
    }
   ],
   "source": [
    "device = \"GPU\" if len(tf.config.list_physical_devices(\"GPU\")) > 0 else \"CPU\"\n",
    "print(f\"Usando: {device}\")"
   ]
  },
  {
   "cell_type": "code",
   "execution_count": 18,
   "metadata": {
    "colab": {
     "base_uri": "https://localhost:8080/",
     "height": 1000
    },
    "id": "JB5CIkMBURkw",
    "outputId": "dd65c0f8-eae2-4d86-8587-abc1ef8ab969"
   },
   "outputs": [
    {
     "data": {
      "text/html": [
       "<pre style=\"white-space:pre;overflow-x:auto;line-height:normal;font-family:Menlo,'DejaVu Sans Mono',consolas,'Courier New',monospace\"><span style=\"font-weight: bold\">Model: \"sequential\"</span>\n",
       "</pre>\n"
      ],
      "text/plain": [
       "\u001b[1mModel: \"sequential\"\u001b[0m\n"
      ]
     },
     "metadata": {},
     "output_type": "display_data"
    },
    {
     "data": {
      "text/html": [
       "<pre style=\"white-space:pre;overflow-x:auto;line-height:normal;font-family:Menlo,'DejaVu Sans Mono',consolas,'Courier New',monospace\">┏━━━━━━━━━━━━━━━━━━━━━━━━━━━━━━━━━┳━━━━━━━━━━━━━━━━━━━━━━━━┳━━━━━━━━━━━━━━━┓\n",
       "┃<span style=\"font-weight: bold\"> Layer (type)                    </span>┃<span style=\"font-weight: bold\"> Output Shape           </span>┃<span style=\"font-weight: bold\">       Param # </span>┃\n",
       "┡━━━━━━━━━━━━━━━━━━━━━━━━━━━━━━━━━╇━━━━━━━━━━━━━━━━━━━━━━━━╇━━━━━━━━━━━━━━━┩\n",
       "│ mobilenetv2_1.00_224            │ (<span style=\"color: #00d7ff; text-decoration-color: #00d7ff\">None</span>, <span style=\"color: #00af00; text-decoration-color: #00af00\">7</span>, <span style=\"color: #00af00; text-decoration-color: #00af00\">7</span>, <span style=\"color: #00af00; text-decoration-color: #00af00\">1280</span>)     │     <span style=\"color: #00af00; text-decoration-color: #00af00\">2,257,984</span> │\n",
       "│ (<span style=\"color: #0087ff; text-decoration-color: #0087ff\">Functional</span>)                    │                        │               │\n",
       "├─────────────────────────────────┼────────────────────────┼───────────────┤\n",
       "│ global_average_pooling2d        │ (<span style=\"color: #00d7ff; text-decoration-color: #00d7ff\">None</span>, <span style=\"color: #00af00; text-decoration-color: #00af00\">1280</span>)           │             <span style=\"color: #00af00; text-decoration-color: #00af00\">0</span> │\n",
       "│ (<span style=\"color: #0087ff; text-decoration-color: #0087ff\">GlobalAveragePooling2D</span>)        │                        │               │\n",
       "├─────────────────────────────────┼────────────────────────┼───────────────┤\n",
       "│ dense (<span style=\"color: #0087ff; text-decoration-color: #0087ff\">Dense</span>)                   │ (<span style=\"color: #00d7ff; text-decoration-color: #00d7ff\">None</span>, <span style=\"color: #00af00; text-decoration-color: #00af00\">64</span>)             │        <span style=\"color: #00af00; text-decoration-color: #00af00\">81,984</span> │\n",
       "├─────────────────────────────────┼────────────────────────┼───────────────┤\n",
       "│ dropout (<span style=\"color: #0087ff; text-decoration-color: #0087ff\">Dropout</span>)               │ (<span style=\"color: #00d7ff; text-decoration-color: #00d7ff\">None</span>, <span style=\"color: #00af00; text-decoration-color: #00af00\">64</span>)             │             <span style=\"color: #00af00; text-decoration-color: #00af00\">0</span> │\n",
       "├─────────────────────────────────┼────────────────────────┼───────────────┤\n",
       "│ dense_1 (<span style=\"color: #0087ff; text-decoration-color: #0087ff\">Dense</span>)                 │ (<span style=\"color: #00d7ff; text-decoration-color: #00d7ff\">None</span>, <span style=\"color: #00af00; text-decoration-color: #00af00\">1</span>)              │            <span style=\"color: #00af00; text-decoration-color: #00af00\">65</span> │\n",
       "└─────────────────────────────────┴────────────────────────┴───────────────┘\n",
       "</pre>\n"
      ],
      "text/plain": [
       "┏━━━━━━━━━━━━━━━━━━━━━━━━━━━━━━━━━┳━━━━━━━━━━━━━━━━━━━━━━━━┳━━━━━━━━━━━━━━━┓\n",
       "┃\u001b[1m \u001b[0m\u001b[1mLayer (type)                   \u001b[0m\u001b[1m \u001b[0m┃\u001b[1m \u001b[0m\u001b[1mOutput Shape          \u001b[0m\u001b[1m \u001b[0m┃\u001b[1m \u001b[0m\u001b[1m      Param #\u001b[0m\u001b[1m \u001b[0m┃\n",
       "┡━━━━━━━━━━━━━━━━━━━━━━━━━━━━━━━━━╇━━━━━━━━━━━━━━━━━━━━━━━━╇━━━━━━━━━━━━━━━┩\n",
       "│ mobilenetv2_1.00_224            │ (\u001b[38;5;45mNone\u001b[0m, \u001b[38;5;34m7\u001b[0m, \u001b[38;5;34m7\u001b[0m, \u001b[38;5;34m1280\u001b[0m)     │     \u001b[38;5;34m2,257,984\u001b[0m │\n",
       "│ (\u001b[38;5;33mFunctional\u001b[0m)                    │                        │               │\n",
       "├─────────────────────────────────┼────────────────────────┼───────────────┤\n",
       "│ global_average_pooling2d        │ (\u001b[38;5;45mNone\u001b[0m, \u001b[38;5;34m1280\u001b[0m)           │             \u001b[38;5;34m0\u001b[0m │\n",
       "│ (\u001b[38;5;33mGlobalAveragePooling2D\u001b[0m)        │                        │               │\n",
       "├─────────────────────────────────┼────────────────────────┼───────────────┤\n",
       "│ dense (\u001b[38;5;33mDense\u001b[0m)                   │ (\u001b[38;5;45mNone\u001b[0m, \u001b[38;5;34m64\u001b[0m)             │        \u001b[38;5;34m81,984\u001b[0m │\n",
       "├─────────────────────────────────┼────────────────────────┼───────────────┤\n",
       "│ dropout (\u001b[38;5;33mDropout\u001b[0m)               │ (\u001b[38;5;45mNone\u001b[0m, \u001b[38;5;34m64\u001b[0m)             │             \u001b[38;5;34m0\u001b[0m │\n",
       "├─────────────────────────────────┼────────────────────────┼───────────────┤\n",
       "│ dense_1 (\u001b[38;5;33mDense\u001b[0m)                 │ (\u001b[38;5;45mNone\u001b[0m, \u001b[38;5;34m1\u001b[0m)              │            \u001b[38;5;34m65\u001b[0m │\n",
       "└─────────────────────────────────┴────────────────────────┴───────────────┘\n"
      ]
     },
     "metadata": {},
     "output_type": "display_data"
    },
    {
     "data": {
      "text/html": [
       "<pre style=\"white-space:pre;overflow-x:auto;line-height:normal;font-family:Menlo,'DejaVu Sans Mono',consolas,'Courier New',monospace\"><span style=\"font-weight: bold\"> Total params: </span><span style=\"color: #00af00; text-decoration-color: #00af00\">2,340,033</span> (8.93 MB)\n",
       "</pre>\n"
      ],
      "text/plain": [
       "\u001b[1m Total params: \u001b[0m\u001b[38;5;34m2,340,033\u001b[0m (8.93 MB)\n"
      ]
     },
     "metadata": {},
     "output_type": "display_data"
    },
    {
     "data": {
      "text/html": [
       "<pre style=\"white-space:pre;overflow-x:auto;line-height:normal;font-family:Menlo,'DejaVu Sans Mono',consolas,'Courier New',monospace\"><span style=\"font-weight: bold\"> Trainable params: </span><span style=\"color: #00af00; text-decoration-color: #00af00\">82,049</span> (320.50 KB)\n",
       "</pre>\n"
      ],
      "text/plain": [
       "\u001b[1m Trainable params: \u001b[0m\u001b[38;5;34m82,049\u001b[0m (320.50 KB)\n"
      ]
     },
     "metadata": {},
     "output_type": "display_data"
    },
    {
     "data": {
      "text/html": [
       "<pre style=\"white-space:pre;overflow-x:auto;line-height:normal;font-family:Menlo,'DejaVu Sans Mono',consolas,'Courier New',monospace\"><span style=\"font-weight: bold\"> Non-trainable params: </span><span style=\"color: #00af00; text-decoration-color: #00af00\">2,257,984</span> (8.61 MB)\n",
       "</pre>\n"
      ],
      "text/plain": [
       "\u001b[1m Non-trainable params: \u001b[0m\u001b[38;5;34m2,257,984\u001b[0m (8.61 MB)\n"
      ]
     },
     "metadata": {},
     "output_type": "display_data"
    },
    {
     "name": "stdout",
     "output_type": "stream",
     "text": [
      "Epoch 1/50\n",
      "\u001b[1m2187/2187\u001b[0m \u001b[32m━━━━━━━━━━━━━━━━━━━━\u001b[0m\u001b[37m\u001b[0m \u001b[1m1349s\u001b[0m 547ms/step - accuracy: 0.8036 - loss: 0.4231 - val_accuracy: 0.8811 - val_loss: 0.2882\n",
      "Epoch 2/50\n",
      "\u001b[1m2187/2187\u001b[0m \u001b[32m━━━━━━━━━━━━━━━━━━━━\u001b[0m\u001b[37m\u001b[0m \u001b[1m1179s\u001b[0m 532ms/step - accuracy: 0.8662 - loss: 0.3157 - val_accuracy: 0.8933 - val_loss: 0.2609\n",
      "Epoch 3/50\n",
      "\u001b[1m2187/2187\u001b[0m \u001b[32m━━━━━━━━━━━━━━━━━━━━\u001b[0m\u001b[37m\u001b[0m \u001b[1m1173s\u001b[0m 531ms/step - accuracy: 0.8770 - loss: 0.2961 - val_accuracy: 0.8984 - val_loss: 0.2477\n",
      "Epoch 4/50\n",
      "\u001b[1m2187/2187\u001b[0m \u001b[32m━━━━━━━━━━━━━━━━━━━━\u001b[0m\u001b[37m\u001b[0m \u001b[1m1188s\u001b[0m 535ms/step - accuracy: 0.8827 - loss: 0.2814 - val_accuracy: 0.9024 - val_loss: 0.2410\n",
      "Epoch 5/50\n",
      "\u001b[1m2187/2187\u001b[0m \u001b[32m━━━━━━━━━━━━━━━━━━━━\u001b[0m\u001b[37m\u001b[0m \u001b[1m1193s\u001b[0m 539ms/step - accuracy: 0.8875 - loss: 0.2738 - val_accuracy: 0.9073 - val_loss: 0.2316\n",
      "Epoch 6/50\n",
      "\u001b[1m2187/2187\u001b[0m \u001b[32m━━━━━━━━━━━━━━━━━━━━\u001b[0m\u001b[37m\u001b[0m \u001b[1m1191s\u001b[0m 537ms/step - accuracy: 0.8912 - loss: 0.2640 - val_accuracy: 0.9088 - val_loss: 0.2280\n",
      "Epoch 7/50\n",
      "\u001b[1m2187/2187\u001b[0m \u001b[32m━━━━━━━━━━━━━━━━━━━━\u001b[0m\u001b[37m\u001b[0m \u001b[1m1182s\u001b[0m 533ms/step - accuracy: 0.8930 - loss: 0.2610 - val_accuracy: 0.9082 - val_loss: 0.2238\n",
      "Epoch 8/50\n",
      "\u001b[1m2187/2187\u001b[0m \u001b[32m━━━━━━━━━━━━━━━━━━━━\u001b[0m\u001b[37m\u001b[0m \u001b[1m1195s\u001b[0m 540ms/step - accuracy: 0.8945 - loss: 0.2527 - val_accuracy: 0.9100 - val_loss: 0.2213\n",
      "Epoch 9/50\n",
      "\u001b[1m2187/2187\u001b[0m \u001b[32m━━━━━━━━━━━━━━━━━━━━\u001b[0m\u001b[37m\u001b[0m \u001b[1m1195s\u001b[0m 539ms/step - accuracy: 0.8947 - loss: 0.2531 - val_accuracy: 0.9113 - val_loss: 0.2150\n",
      "Epoch 10/50\n",
      "\u001b[1m2187/2187\u001b[0m \u001b[32m━━━━━━━━━━━━━━━━━━━━\u001b[0m\u001b[37m\u001b[0m \u001b[1m1212s\u001b[0m 546ms/step - accuracy: 0.8995 - loss: 0.2432 - val_accuracy: 0.9156 - val_loss: 0.2128\n",
      "Epoch 11/50\n",
      "\u001b[1m2187/2187\u001b[0m \u001b[32m━━━━━━━━━━━━━━━━━━━━\u001b[0m\u001b[37m\u001b[0m \u001b[1m1201s\u001b[0m 544ms/step - accuracy: 0.9015 - loss: 0.2390 - val_accuracy: 0.9160 - val_loss: 0.2125\n",
      "Epoch 12/50\n",
      "\u001b[1m2187/2187\u001b[0m \u001b[32m━━━━━━━━━━━━━━━━━━━━\u001b[0m\u001b[37m\u001b[0m \u001b[1m1225s\u001b[0m 553ms/step - accuracy: 0.9015 - loss: 0.2372 - val_accuracy: 0.9211 - val_loss: 0.2007\n",
      "Epoch 13/50\n",
      "\u001b[1m2187/2187\u001b[0m \u001b[32m━━━━━━━━━━━━━━━━━━━━\u001b[0m\u001b[37m\u001b[0m \u001b[1m1222s\u001b[0m 551ms/step - accuracy: 0.9021 - loss: 0.2364 - val_accuracy: 0.9206 - val_loss: 0.2014\n",
      "Epoch 14/50\n",
      "\u001b[1m2187/2187\u001b[0m \u001b[32m━━━━━━━━━━━━━━━━━━━━\u001b[0m\u001b[37m\u001b[0m \u001b[1m1227s\u001b[0m 553ms/step - accuracy: 0.9055 - loss: 0.2314 - val_accuracy: 0.9192 - val_loss: 0.1989\n",
      "Epoch 15/50\n",
      "\u001b[1m2187/2187\u001b[0m \u001b[32m━━━━━━━━━━━━━━━━━━━━\u001b[0m\u001b[37m\u001b[0m \u001b[1m1253s\u001b[0m 566ms/step - accuracy: 0.9030 - loss: 0.2311 - val_accuracy: 0.9229 - val_loss: 0.1946\n",
      "Epoch 16/50\n",
      "\u001b[1m2187/2187\u001b[0m \u001b[32m━━━━━━━━━━━━━━━━━━━━\u001b[0m\u001b[37m\u001b[0m \u001b[1m1251s\u001b[0m 568ms/step - accuracy: 0.9051 - loss: 0.2264 - val_accuracy: 0.9208 - val_loss: 0.1973\n",
      "Epoch 17/50\n",
      "\u001b[1m2187/2187\u001b[0m \u001b[32m━━━━━━━━━━━━━━━━━━━━\u001b[0m\u001b[37m\u001b[0m \u001b[1m1273s\u001b[0m 577ms/step - accuracy: 0.9083 - loss: 0.2252 - val_accuracy: 0.9233 - val_loss: 0.1936\n",
      "Epoch 18/50\n",
      "\u001b[1m2187/2187\u001b[0m \u001b[32m━━━━━━━━━━━━━━━━━━━━\u001b[0m\u001b[37m\u001b[0m \u001b[1m1286s\u001b[0m 583ms/step - accuracy: 0.9080 - loss: 0.2262 - val_accuracy: 0.9207 - val_loss: 0.1965\n",
      "Epoch 19/50\n",
      "\u001b[1m2187/2187\u001b[0m \u001b[32m━━━━━━━━━━━━━━━━━━━━\u001b[0m\u001b[37m\u001b[0m \u001b[1m1268s\u001b[0m 573ms/step - accuracy: 0.9062 - loss: 0.2231 - val_accuracy: 0.9255 - val_loss: 0.1916\n",
      "Epoch 20/50\n",
      "\u001b[1m2187/2187\u001b[0m \u001b[32m━━━━━━━━━━━━━━━━━━━━\u001b[0m\u001b[37m\u001b[0m \u001b[1m1275s\u001b[0m 575ms/step - accuracy: 0.9066 - loss: 0.2238 - val_accuracy: 0.9228 - val_loss: 0.1922\n",
      "Epoch 21/50\n",
      "\u001b[1m2187/2187\u001b[0m \u001b[32m━━━━━━━━━━━━━━━━━━━━\u001b[0m\u001b[37m\u001b[0m \u001b[1m1281s\u001b[0m 578ms/step - accuracy: 0.9096 - loss: 0.2166 - val_accuracy: 0.9236 - val_loss: 0.1891\n",
      "Epoch 22/50\n",
      "\u001b[1m2187/2187\u001b[0m \u001b[32m━━━━━━━━━━━━━━━━━━━━\u001b[0m\u001b[37m\u001b[0m \u001b[1m1266s\u001b[0m 571ms/step - accuracy: 0.9095 - loss: 0.2162 - val_accuracy: 0.9261 - val_loss: 0.1856\n",
      "Epoch 23/50\n",
      "\u001b[1m2187/2187\u001b[0m \u001b[32m━━━━━━━━━━━━━━━━━━━━\u001b[0m\u001b[37m\u001b[0m \u001b[1m1233s\u001b[0m 557ms/step - accuracy: 0.9133 - loss: 0.2145 - val_accuracy: 0.9239 - val_loss: 0.1909\n",
      "Epoch 24/50\n",
      "\u001b[1m2187/2187\u001b[0m \u001b[32m━━━━━━━━━━━━━━━━━━━━\u001b[0m\u001b[37m\u001b[0m \u001b[1m1247s\u001b[0m 562ms/step - accuracy: 0.9119 - loss: 0.2148 - val_accuracy: 0.9279 - val_loss: 0.1830\n",
      "Epoch 25/50\n",
      "\u001b[1m2187/2187\u001b[0m \u001b[32m━━━━━━━━━━━━━━━━━━━━\u001b[0m\u001b[37m\u001b[0m \u001b[1m1254s\u001b[0m 565ms/step - accuracy: 0.9131 - loss: 0.2069 - val_accuracy: 0.9282 - val_loss: 0.1842\n",
      "Epoch 26/50\n",
      "\u001b[1m2187/2187\u001b[0m \u001b[32m━━━━━━━━━━━━━━━━━━━━\u001b[0m\u001b[37m\u001b[0m \u001b[1m1267s\u001b[0m 572ms/step - accuracy: 0.9131 - loss: 0.2093 - val_accuracy: 0.9259 - val_loss: 0.1883\n",
      "Epoch 27/50\n",
      "\u001b[1m2187/2187\u001b[0m \u001b[32m━━━━━━━━━━━━━━━━━━━━\u001b[0m\u001b[37m\u001b[0m \u001b[1m1266s\u001b[0m 571ms/step - accuracy: 0.9171 - loss: 0.2049 - val_accuracy: 0.9293 - val_loss: 0.1837\n",
      "Epoch 28/50\n",
      "\u001b[1m2187/2187\u001b[0m \u001b[32m━━━━━━━━━━━━━━━━━━━━\u001b[0m\u001b[37m\u001b[0m \u001b[1m1274s\u001b[0m 574ms/step - accuracy: 0.9125 - loss: 0.2098 - val_accuracy: 0.9317 - val_loss: 0.1815\n",
      "Epoch 29/50\n",
      "\u001b[1m2187/2187\u001b[0m \u001b[32m━━━━━━━━━━━━━━━━━━━━\u001b[0m\u001b[37m\u001b[0m \u001b[1m1256s\u001b[0m 568ms/step - accuracy: 0.9140 - loss: 0.2069 - val_accuracy: 0.9275 - val_loss: 0.1798\n",
      "Epoch 30/50\n",
      "\u001b[1m2187/2187\u001b[0m \u001b[32m━━━━━━━━━━━━━━━━━━━━\u001b[0m\u001b[37m\u001b[0m \u001b[1m1245s\u001b[0m 562ms/step - accuracy: 0.9159 - loss: 0.2020 - val_accuracy: 0.9299 - val_loss: 0.1823\n",
      "Epoch 31/50\n",
      "\u001b[1m2187/2187\u001b[0m \u001b[32m━━━━━━━━━━━━━━━━━━━━\u001b[0m\u001b[37m\u001b[0m \u001b[1m1299s\u001b[0m 587ms/step - accuracy: 0.9159 - loss: 0.2012 - val_accuracy: 0.9311 - val_loss: 0.1752\n",
      "Epoch 32/50\n",
      "\u001b[1m2187/2187\u001b[0m \u001b[32m━━━━━━━━━━━━━━━━━━━━\u001b[0m\u001b[37m\u001b[0m \u001b[1m1231s\u001b[0m 554ms/step - accuracy: 0.9155 - loss: 0.2030 - val_accuracy: 0.9292 - val_loss: 0.1802\n",
      "Epoch 33/50\n",
      "\u001b[1m2187/2187\u001b[0m \u001b[32m━━━━━━━━━━━━━━━━━━━━\u001b[0m\u001b[37m\u001b[0m \u001b[1m1249s\u001b[0m 563ms/step - accuracy: 0.9165 - loss: 0.1994 - val_accuracy: 0.9329 - val_loss: 0.1733\n",
      "Epoch 34/50\n",
      "\u001b[1m2187/2187\u001b[0m \u001b[32m━━━━━━━━━━━━━━━━━━━━\u001b[0m\u001b[37m\u001b[0m \u001b[1m1268s\u001b[0m 570ms/step - accuracy: 0.9151 - loss: 0.1983 - val_accuracy: 0.9305 - val_loss: 0.1787\n",
      "Epoch 35/50\n",
      "\u001b[1m2187/2187\u001b[0m \u001b[32m━━━━━━━━━━━━━━━━━━━━\u001b[0m\u001b[37m\u001b[0m \u001b[1m1269s\u001b[0m 571ms/step - accuracy: 0.9197 - loss: 0.1934 - val_accuracy: 0.9260 - val_loss: 0.1858\n",
      "Epoch 36/50\n",
      "\u001b[1m2187/2187\u001b[0m \u001b[32m━━━━━━━━━━━━━━━━━━━━\u001b[0m\u001b[37m\u001b[0m \u001b[1m1275s\u001b[0m 577ms/step - accuracy: 0.9193 - loss: 0.1913 - val_accuracy: 0.9319 - val_loss: 0.1749\n",
      "Epoch 37/50\n",
      "\u001b[1m2187/2187\u001b[0m \u001b[32m━━━━━━━━━━━━━━━━━━━━\u001b[0m\u001b[37m\u001b[0m \u001b[1m1268s\u001b[0m 571ms/step - accuracy: 0.9190 - loss: 0.1961 - val_accuracy: 0.9332 - val_loss: 0.1714\n",
      "Epoch 38/50\n",
      "\u001b[1m2187/2187\u001b[0m \u001b[32m━━━━━━━━━━━━━━━━━━━━\u001b[0m\u001b[37m\u001b[0m \u001b[1m1283s\u001b[0m 579ms/step - accuracy: 0.9173 - loss: 0.1938 - val_accuracy: 0.9330 - val_loss: 0.1717\n",
      "Epoch 39/50\n",
      "\u001b[1m2187/2187\u001b[0m \u001b[32m━━━━━━━━━━━━━━━━━━━━\u001b[0m\u001b[37m\u001b[0m \u001b[1m1272s\u001b[0m 574ms/step - accuracy: 0.9183 - loss: 0.1941 - val_accuracy: 0.9315 - val_loss: 0.1779\n",
      "Epoch 40/50\n",
      "\u001b[1m2187/2187\u001b[0m \u001b[32m━━━━━━━━━━━━━━━━━━━━\u001b[0m\u001b[37m\u001b[0m \u001b[1m1276s\u001b[0m 575ms/step - accuracy: 0.9208 - loss: 0.1903 - val_accuracy: 0.9327 - val_loss: 0.1738\n",
      "Epoch 41/50\n",
      "\u001b[1m2187/2187\u001b[0m \u001b[32m━━━━━━━━━━━━━━━━━━━━\u001b[0m\u001b[37m\u001b[0m \u001b[1m1288s\u001b[0m 582ms/step - accuracy: 0.9183 - loss: 0.1941 - val_accuracy: 0.9340 - val_loss: 0.1669\n",
      "Epoch 42/50\n",
      "\u001b[1m2187/2187\u001b[0m \u001b[32m━━━━━━━━━━━━━━━━━━━━\u001b[0m\u001b[37m\u001b[0m \u001b[1m1413s\u001b[0m 638ms/step - accuracy: 0.9192 - loss: 0.1900 - val_accuracy: 0.9344 - val_loss: 0.1652\n",
      "Epoch 43/50\n",
      "\u001b[1m2187/2187\u001b[0m \u001b[32m━━━━━━━━━━━━━━━━━━━━\u001b[0m\u001b[37m\u001b[0m \u001b[1m1289s\u001b[0m 583ms/step - accuracy: 0.9199 - loss: 0.1894 - val_accuracy: 0.9365 - val_loss: 0.1677\n",
      "Epoch 44/50\n",
      "\u001b[1m2187/2187\u001b[0m \u001b[32m━━━━━━━━━━━━━━━━━━━━\u001b[0m\u001b[37m\u001b[0m \u001b[1m1286s\u001b[0m 580ms/step - accuracy: 0.9199 - loss: 0.1880 - val_accuracy: 0.9361 - val_loss: 0.1650\n",
      "Epoch 45/50\n",
      "\u001b[1m2187/2187\u001b[0m \u001b[32m━━━━━━━━━━━━━━━━━━━━\u001b[0m\u001b[37m\u001b[0m \u001b[1m1290s\u001b[0m 582ms/step - accuracy: 0.9200 - loss: 0.1868 - val_accuracy: 0.9354 - val_loss: 0.1684\n",
      "Epoch 46/50\n",
      "\u001b[1m2187/2187\u001b[0m \u001b[32m━━━━━━━━━━━━━━━━━━━━\u001b[0m\u001b[37m\u001b[0m \u001b[1m1298s\u001b[0m 586ms/step - accuracy: 0.9202 - loss: 0.1865 - val_accuracy: 0.9344 - val_loss: 0.1661\n",
      "Epoch 47/50\n",
      "\u001b[1m2187/2187\u001b[0m \u001b[32m━━━━━━━━━━━━━━━━━━━━\u001b[0m\u001b[37m\u001b[0m \u001b[1m1270s\u001b[0m 572ms/step - accuracy: 0.9233 - loss: 0.1848 - val_accuracy: 0.9344 - val_loss: 0.1700\n",
      "Epoch 48/50\n",
      "\u001b[1m2187/2187\u001b[0m \u001b[32m━━━━━━━━━━━━━━━━━━━━\u001b[0m\u001b[37m\u001b[0m \u001b[1m1264s\u001b[0m 571ms/step - accuracy: 0.9225 - loss: 0.1839 - val_accuracy: 0.9383 - val_loss: 0.1635\n",
      "Epoch 49/50\n",
      "\u001b[1m2187/2187\u001b[0m \u001b[32m━━━━━━━━━━━━━━━━━━━━\u001b[0m\u001b[37m\u001b[0m \u001b[1m1256s\u001b[0m 566ms/step - accuracy: 0.9216 - loss: 0.1826 - val_accuracy: 0.9349 - val_loss: 0.1666\n",
      "Epoch 50/50\n",
      "\u001b[1m2187/2187\u001b[0m \u001b[32m━━━━━━━━━━━━━━━━━━━━\u001b[0m\u001b[37m\u001b[0m \u001b[1m1257s\u001b[0m 567ms/step - accuracy: 0.9228 - loss: 0.1832 - val_accuracy: 0.9348 - val_loss: 0.1691\n"
     ]
    }
   ],
   "source": [
    "base_model = MobileNetV2(weights='imagenet', include_top=False, input_shape=(*image_size, 3))\n",
    "base_model.trainable = False\n",
    "\n",
    "model = models.Sequential([\n",
    "    base_model,\n",
    "    layers.GlobalAveragePooling2D(),\n",
    "    layers.Dense(64, activation='relu'),\n",
    "    layers.Dropout(0.5),\n",
    "    layers.Dense(1, activation='sigmoid')\n",
    "])\n",
    "\n",
    "model.compile(\n",
    "    optimizer='adam',\n",
    "    loss='binary_crossentropy',\n",
    "    metrics=['accuracy']\n",
    ")\n",
    "\n",
    "model.summary()\n",
    "\n",
    "early_stopping = EarlyStopping(\n",
    "    monitor='val_loss',\n",
    "    patience=5,\n",
    "    restore_best_weights=True\n",
    ")\n",
    "\n",
    "tf.debugging.set_log_device_placement(True)\n",
    "\n",
    "\n",
    "history = model.fit(\n",
    "    train_ds,\n",
    "    validation_data=val_ds,\n",
    "    epochs=50,\n",
    "    callbacks=[early_stopping]\n",
    ")"
   ]
  },
  {
   "cell_type": "code",
   "execution_count": 22,
   "metadata": {
    "id": "Yd23NDsEURkx"
   },
   "outputs": [
    {
     "name": "stdout",
     "output_type": "stream",
     "text": [
      "\u001b[1m625/625\u001b[0m \u001b[32m━━━━━━━━━━━━━━━━━━━━\u001b[0m\u001b[37m\u001b[0m \u001b[1m271s\u001b[0m 429ms/step\n"
     ]
    },
    {
     "data": {
      "image/png": "[encoded data removed]",
      "text/plain": [
       "<Figure size 500x400 with 2 Axes>"
      ]
     },
     "metadata": {},
     "output_type": "display_data"
    },
    {
     "name": "stdout",
     "output_type": "stream",
     "text": [
      "\n",
      "Relatório de Classificação:\n",
      "              precision    recall  f1-score   support\n",
      "\n",
      "        Real       0.92      0.91      0.91     10000\n",
      "        Fake       0.91      0.92      0.91     10000\n",
      "\n",
      "    accuracy                           0.91     20000\n",
      "   macro avg       0.91      0.91      0.91     20000\n",
      "weighted avg       0.91      0.91      0.91     20000\n",
      "\n",
      "AUC (ROC): 0.9723\n"
     ]
    },
    {
     "data": {
      "image/png": "[encoded data removed]",
      "text/plain": [
       "<Figure size 1200x500 with 2 Axes>"
      ]
     },
     "metadata": {},
     "output_type": "display_data"
    }
   ],
   "source": [
    "y_pred_prob = model.predict(test_ds)\n",
    "y_pred = (y_pred_prob > 0.5).astype(int).ravel()\n",
    "\n",
    "# Extrair labels verdadeiros do dataset de teste\n",
    "y_test = []\n",
    "for _, labels in test_ds:\n",
    "    y_test.extend(labels.numpy())\n",
    "y_test = np.array(y_test)\n",
    "\n",
    "# Flatten y_pred_prob para garantir formato correto\n",
    "y_pred_prob = y_pred_prob.ravel()\n",
    "\n",
    "cm = confusion_matrix(y_test, y_pred)\n",
    "plt.figure(figsize=(5, 4))\n",
    "sns.heatmap(cm, annot=True, fmt='d', cmap='Blues', xticklabels=['Real', 'Fake'], yticklabels=['Real', 'Fake'])\n",
    "plt.xlabel(\"Predito\")\n",
    "plt.ylabel(\"Real\")\n",
    "plt.title(\"Matriz de Confusão\")\n",
    "plt.show()\n",
    "\n",
    "print(\"\\nRelatório de Classificação:\")\n",
    "print(classification_report(y_test, y_pred, target_names=[\"Real\", \"Fake\"]))\n",
    "\n",
    "roc_auc = roc_auc_score(y_test, y_pred_prob)\n",
    "print(f\"AUC (ROC): {roc_auc:.4f}\")\n",
    "\n",
    "plt.figure(figsize=(12, 5))\n",
    "\n",
    "# Acurácia\n",
    "plt.subplot(1, 2, 1)\n",
    "plt.plot(history.history['accuracy'], label='Treino')\n",
    "plt.plot(history.history['val_accuracy'], label='Validação')\n",
    "plt.title(\"Curva de Aprendizado - Acurácia\")\n",
    "plt.xlabel(\"Época\")\n",
    "plt.ylabel(\"Acurácia\")\n",
    "plt.legend()\n",
    "plt.grid()\n",
    "\n",
    "# Perda\n",
    "plt.subplot(1, 2, 2)\n",
    "plt.plot(history.history['loss'], label='Treino')\n",
    "plt.plot(history.history['val_loss'], label='Validação')\n",
    "plt.title(\"Curva de Aprendizado - Perda\")\n",
    "plt.xlabel(\"Época\")\n",
    "plt.ylabel(\"Perda (Loss)\")\n",
    "plt.legend()\n",
    "plt.grid()\n",
    "\n",
    "plt.show()"
   ]
  },
  {
   "cell_type": "code",
   "execution_count": 20,
   "metadata": {},
   "outputs": [],
   "source": [
    "import json\n",
    "with open('history_effct.json', 'w') as f:\n",
    "    json.dump(history.history, f)"
   ]
  },
  {
   "cell_type": "code",
   "execution_count": 15,
   "metadata": {
    "id": "_0P0Amo3URkx"
   },
   "outputs": [],
   "source": [
    "model.save(\"MobileNet.keras\")"
   ]
  }
 ],
 "metadata": {
  "accelerator": "GPU",
  "colab": {
   "gpuType": "T4",
   "provenance": []
  },
  "kernelspec": {
   "display_name": "Python 3 (ipykernel)",
   "language": "python",
   "name": "python3"
  },
  "language_info": {
   "codemirror_mode": {
    "name": "ipython",
    "version": 3
   },
   "file_extension": ".py",
   "mimetype": "text/x-python",
   "name": "python",
   "nbconvert_exporter": "python",
   "pygments_lexer": "ipython3",
   "version": "3.13.3"
  }
 },
 "nbformat": 4,
 "nbformat_minor": 4
}
