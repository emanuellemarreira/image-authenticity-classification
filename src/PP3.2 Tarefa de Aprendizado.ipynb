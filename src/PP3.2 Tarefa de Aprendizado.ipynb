{
  "nbformat": 4,
  "nbformat_minor": 0,
  "metadata": {
    "colab": {
      "provenance": [],
      "toc_visible": true,
      "gpuType": "T4"
    },
    "kernelspec": {
      "name": "python3",
      "display_name": "Python 3"
    },
    "language_info": {
      "name": "python"
    },
    "accelerator": "GPU"
  },
  "cells": [
    {
      "cell_type": "markdown",
      "source": [
        "## Redes Neurais Artificiais 2025.1\n",
        "\n",
        "- **Disciplina**: Redes Neurais Artificiais 2025.1  \n",
        "- **Professora**: Elloá B. Guedes (ebgcosta@uea.edu.br)  \n",
        "\n",
        "## Equipe:\n",
        "\n",
        "1. Afonso Henrique Torres Lucas | ifonso.developer@gmail.com | iFonso - 2215080047\n",
        "2. Emanuelle Rocha Marreira | emanuellemarreira@gmail.com | emanuellemarreira - 2215080035\n",
        "3. Erik Gustavo Lima de Oliveira | erik.exatas10@gmail.com | ErikExatas - 2115080049\n",
        "4. David Augusto De Oliveira E Silva | david-augusto-silva - 2115080006\n",
        "5. Ítalo Ferreira Fonseca\n",
        "6. João Vitor Silva De Carvalho\n",
        "7. Lilian Iazzai De Souza Oliveira | lilianiazzai@gmail.com | lilianiazzai - 2215080018\n",
        "8. Vitor Nascimento Aguiar | Vtaguiar1909 - 2115080055\n",
        "\n",
        "- **Github**: https://github.com/emanuellemarreira/image-authenticity-classification/tree/parte1"
      ],
      "metadata": {
        "id": "WRABHS16DPH5"
      }
    },
    {
      "cell_type": "code",
      "execution_count": 1,
      "metadata": {
        "id": "H8mGuzlhvlUU"
      },
      "outputs": [],
      "source": [
        "# bibliotecas\n",
        "from sklearn.model_selection import train_test_split\n",
        "from torchvision import datasets, transforms\n",
        "from torch.utils.data import Subset, DataLoader, ConcatDataset\n",
        "import numpy as np\n",
        "import kagglehub\n",
        "from collections import Counter\n",
        "from torchvision.datasets import ImageFolder\n",
        "from torch.utils.data import random_split, Subset\n",
        "from sklearn.model_selection import StratifiedShuffleSplit, StratifiedKFold"
      ]
    },
    {
      "cell_type": "markdown",
      "source": [
        "**Descrição da Atividade**\n",
        "\n",
        "A tarefa de aprendizado de máquina definida neste trabalho é a classificação de imagens binária, com o objetivo de identificar se uma imagem é real (fotografia de pessoas reais) ou sintética, ou seja, gerada por Inteligência Artificial Utilizamos o dataset CIFAKE: Real and AI-Generated Synthetic Images, disponível no Kaggle, que contém imagens divididas em duas classes: \"real\" e \"fake\". A classe \"real\" é composta por fotografias autênticas de rostos humanos, enquanto a classe \"fake\" contém imagens de rostos geradas por algoritmos de IA, como GANs (Redes Generativas Adversariais). Como se trata de um problema visual e a tarefa envolve reconhecer padrões sutis na textura, iluminação e traços faciais que podem diferenciar uma imagem real de uma sintética, optamos por utilizar uma Rede Neural Convolucional (CNN), que é uma arquitetura especialmente eficaz para extração automática de características em tarefas de classificação de imagens.\n",
        "\n",
        "Link do dataset: https://www.kaggle.com/datasets/birdy654/cifake-real-and-ai-generated-synthetic-images\n"
      ],
      "metadata": {
        "id": "SyPDZvkoDYpX"
      }
    },
    {
      "cell_type": "markdown",
      "source": [
        "### 1. Leitura do dataset"
      ],
      "metadata": {
        "id": "iHgIsnlc3J-x"
      }
    },
    {
      "cell_type": "code",
      "source": [
        "path = kagglehub.dataset_download(\"birdy654/cifake-real-and-ai-generated-synthetic-images\")"
      ],
      "metadata": {
        "id": "A8liFucq0ywf"
      },
      "execution_count": 2,
      "outputs": []
    },
    {
      "cell_type": "code",
      "source": [
        "path"
      ],
      "metadata": {
        "colab": {
          "base_uri": "https://localhost:8080/",
          "height": 35
        },
        "id": "gnNLWu081SG6",
        "outputId": "bf295e5b-6d64-4f85-d4ef-3db8c4c781d2"
      },
      "execution_count": 3,
      "outputs": [
        {
          "output_type": "execute_result",
          "data": {
            "text/plain": [
              "'/kaggle/input/cifake-real-and-ai-generated-synthetic-images'"
            ],
            "application/vnd.google.colaboratory.intrinsic+json": {
              "type": "string"
            }
          },
          "metadata": {},
          "execution_count": 3
        }
      ]
    },
    {
      "cell_type": "code",
      "source": [
        "#dataset_path = path\n",
        "train_path = f\"{path}/cifake/train\"\n",
        "test_path = f\"{path}/cifake/test\""
      ],
      "metadata": {
        "id": "HdW7JJ--0sRd"
      },
      "execution_count": 4,
      "outputs": []
    },
    {
      "cell_type": "code",
      "source": [
        "transform = transforms.Compose([\n",
        "    # Resize da imagem pra 32x32 (pixels), seria bom colocar 128x128\n",
        "    transforms.Resize((32, 32)),\n",
        "    # PIL -> Tensor[canal, altura, largura] + Normalização de pixels\n",
        "    transforms.ToTensor()\n",
        "])"
      ],
      "metadata": {
        "id": "uAZ77o-Q1KLR"
      },
      "execution_count": 5,
      "outputs": []
    },
    {
      "cell_type": "code",
      "source": [
        "dataset = ImageFolder(root=path, transform=transform)"
      ],
      "metadata": {
        "id": "nwu_TEJ81U-4"
      },
      "execution_count": 7,
      "outputs": []
    },
    {
      "cell_type": "code",
      "source": [
        "train_data = datasets.ImageFolder(root=f\"{path}/train\", transform=transform)\n",
        "test_data = datasets.ImageFolder(root=f\"{path}/test\", transform=transform)"
      ],
      "metadata": {
        "id": "Wk0em0Cd7tdW"
      },
      "execution_count": 8,
      "outputs": []
    },
    {
      "cell_type": "code",
      "source": [
        "dataset"
      ],
      "metadata": {
        "colab": {
          "base_uri": "https://localhost:8080/"
        },
        "id": "Qp-MyPw92xKo",
        "outputId": "de34546f-b4c1-4cbd-ab5f-f3b0e10d871d"
      },
      "execution_count": 9,
      "outputs": [
        {
          "output_type": "execute_result",
          "data": {
            "text/plain": [
              "Dataset ImageFolder\n",
              "    Number of datapoints: 120000\n",
              "    Root location: /kaggle/input/cifake-real-and-ai-generated-synthetic-images\n",
              "    StandardTransform\n",
              "Transform: Compose(\n",
              "               Resize(size=(32, 32), interpolation=bilinear, max_size=None, antialias=True)\n",
              "               ToTensor()\n",
              "           )"
            ]
          },
          "metadata": {},
          "execution_count": 9
        }
      ]
    },
    {
      "cell_type": "markdown",
      "source": [
        "### 2. Mini Análise Exploratória"
      ],
      "metadata": {
        "id": "AXt9nU5q290R"
      }
    },
    {
      "cell_type": "code",
      "source": [
        "train_labels = train_data.targets"
      ],
      "metadata": {
        "id": "5csNfTjJ3B6J"
      },
      "execution_count": 10,
      "outputs": []
    },
    {
      "cell_type": "code",
      "source": [
        "train_label_counts = Counter(train_labels)"
      ],
      "metadata": {
        "id": "6ZTOxxnf5Mmh"
      },
      "execution_count": 11,
      "outputs": []
    },
    {
      "cell_type": "code",
      "source": [
        "train_label_counts # 0: FAKE / 1: REAL"
      ],
      "metadata": {
        "colab": {
          "base_uri": "https://localhost:8080/"
        },
        "id": "P0Ji5SoJ5RmD",
        "outputId": "c7c6b00c-940c-46cb-8be8-b6b9df6a6ceb"
      },
      "execution_count": 12,
      "outputs": [
        {
          "output_type": "execute_result",
          "data": {
            "text/plain": [
              "Counter({0: 50000, 1: 50000})"
            ]
          },
          "metadata": {},
          "execution_count": 12
        }
      ]
    },
    {
      "cell_type": "code",
      "source": [
        "train_data.classes"
      ],
      "metadata": {
        "colab": {
          "base_uri": "https://localhost:8080/"
        },
        "id": "JU9EZmJW5f9i",
        "outputId": "cfbbfb57-b6bf-4395-bd1e-56af48fed325"
      },
      "execution_count": 13,
      "outputs": [
        {
          "output_type": "execute_result",
          "data": {
            "text/plain": [
              "['FAKE', 'REAL']"
            ]
          },
          "metadata": {},
          "execution_count": 13
        }
      ]
    },
    {
      "cell_type": "markdown",
      "source": [
        "O conjunto de dados de treino já está balanceado, contendo 50.000 imagens reais (classe 1) e 50.000 imagens geradas por IA (classe 0). Isso significa que o modelo será treinado com a mesma quantidade de exemplos para cada classe, o que ajuda a evitar viés de aprendizado. Com esse equilíbrio, a CNN tem maiores chances de aprender a distinguir padrões relevantes de cada classe de forma justa, sem favorecer uma categoria em detrimento da outra, o que pode resultar em melhor desempenho e métricas mais confiáveis.\n"
      ],
      "metadata": {
        "id": "G_yrAe7_X0LS"
      }
    },
    {
      "cell_type": "markdown",
      "source": [
        "### 3. Holdout estratificado: 70% treino / 30% validação\n",
        "Neste trabalho, optamos por utilizar a validação do tipo holdout estratificado, dividindo o conjunto de dados em 70% para treino, 15% para validação e 15% para teste. Embora a validação cruzada k-fold ofereça uma avaliação mais robusta por repetir o treinamento múltiplas vezes com diferentes divisões dos dados, ela também apresenta um custo computacional significativamente maior — especialmente quando se utiliza redes neurais convolucionais (CNNs) e um volume elevado de dados, como no caso deste projeto. O holdout, por sua vez, permite uma separação mais simples e rápida, com desempenho adequado quando há uma boa quantidade de dados e as classes estão balanceadas. Por isso, a escolha pelo holdout foi feita visando um equilíbrio entre qualidade de avaliação e viabilidade computacional."
      ],
      "metadata": {
        "id": "9LRVObh_9Rm6"
      }
    },
    {
      "cell_type": "code",
      "source": [
        "train_labels = train_data.targets"
      ],
      "metadata": {
        "id": "kLesTrbV1waj"
      },
      "execution_count": 14,
      "outputs": []
    },
    {
      "cell_type": "code",
      "source": [
        "split = StratifiedShuffleSplit(n_splits=1, test_size=0.3, random_state=42)\n",
        "train_idx, val_idx = next(split.split(np.zeros(len(train_labels)), train_labels))"
      ],
      "metadata": {
        "id": "hESJdappA1hy"
      },
      "execution_count": 15,
      "outputs": []
    },
    {
      "cell_type": "code",
      "source": [
        "train_split = Subset(train_data, train_idx)\n",
        "val_split = Subset(train_data, val_idx)"
      ],
      "metadata": {
        "id": "Gt4QMw20BFsL"
      },
      "execution_count": 16,
      "outputs": []
    },
    {
      "cell_type": "code",
      "source": [
        "print(f\"Treino: {len(train_split)} imagens\")\n",
        "print(f\"Validação: {len(val_split)} imagens\")\n",
        "print(f\"Teste: {len(test_data)} imagens\")"
      ],
      "metadata": {
        "colab": {
          "base_uri": "https://localhost:8080/"
        },
        "id": "3dqYVZurBKc-",
        "outputId": "abcc8eab-e7f5-48e7-8276-b8afe804a0cc"
      },
      "execution_count": 17,
      "outputs": [
        {
          "output_type": "stream",
          "name": "stdout",
          "text": [
            "Treino: 70000 imagens\n",
            "Validação: 30000 imagens\n",
            "Teste: 20000 imagens\n"
          ]
        }
      ]
    },
    {
      "cell_type": "code",
      "source": [],
      "metadata": {
        "id": "c5YepcKx83rX"
      },
      "execution_count": 17,
      "outputs": []
    }
  ]
}