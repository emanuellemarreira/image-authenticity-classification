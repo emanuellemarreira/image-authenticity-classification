{
  "nbformat": 4,
  "nbformat_minor": 0,
  "metadata": {
    "colab": {
      "provenance": [],
      "toc_visible": true,
      "gpuType": "T4"
    },
    "kernelspec": {
      "name": "python3",
      "display_name": "Python 3"
    },
    "language_info": {
      "name": "python"
    },
    "accelerator": "GPU"
  },
  "cells": [
    {
      "cell_type": "markdown",
      "source": [
        "## Redes Neurais Artificiais 2025.1\n",
        "\n",
        "- **Disciplina**: Redes Neurais Artificiais 2025.1  \n",
        "- **Professora**: Elloá B. Guedes (ebgcosta@uea.edu.br)  \n",
        "\n",
        "## Equipe:\n",
        "\n",
        "1. Afonso Henrique Torres Lucas | ifonso.developer@gmail.com | iFonso - 2215080047\n",
        "2. Emanuelle Rocha Marreira | emanuellemarreira@gmail.com | emanuellemarreira - 2215080035\n",
        "3. Erik Gustavo Lima de Oliveira | erik.exatas10@gmail.com | ErikExatas - 2115080049\n",
        "4. David Augusto De Oliveira E Silva | david-augusto-silva - 2115080006\n",
        "5. Ítalo Ferreira Fonseca\n",
        "6. João Vitor Silva De Carvalho\n",
        "7. Lilian Iazzai De Souza Oliveira | lilianiazzai@gmail.com | lilianiazzai - 2215080018\n",
        "8. Vitor Nascimento Aguiar | Vtaguiar1909 - 2115080055\n",
        "\n",
        "- **Github**: https://github.com/emanuellemarreira/image-authenticity-classification/tree/parte1"
      ],
      "metadata": {
        "id": "WRABHS16DPH5"
      }
    },
    {
      "cell_type": "code",
      "execution_count": 1,
      "metadata": {
        "id": "H8mGuzlhvlUU"
      },
      "outputs": [],
      "source": [
        "# bibliotecas\n",
        "from sklearn.model_selection import train_test_split\n",
        "from torchvision import datasets, transforms\n",
        "from torch.utils.data import Subset, DataLoader, ConcatDataset\n",
        "import numpy as np\n",
        "import kagglehub\n",
        "from collections import Counter\n",
        "from torchvision.datasets import ImageFolder\n",
        "from torch.utils.data import random_split, Subset\n",
        "from sklearn.model_selection import StratifiedShuffleSplit, StratifiedKFold"
      ]
    },
    {
      "cell_type": "markdown",
      "source": [
        "**Descrição da Atividade**\n",
        "\n",
        "A tarefa de aprendizado de máquina definida neste trabalho é a classificação de imagens binária, com o objetivo de identificar se uma imagem é real (fotografia de pessoas reais) ou sintética, ou seja, gerada por Inteligência Artificial Utilizamos o dataset CIFAKE: Real and AI-Generated Synthetic Images, disponível no Kaggle, que contém imagens divididas em duas classes: \"real\" e \"fake\". A classe \"real\" é composta por fotografias autênticas de rostos humanos, enquanto a classe \"fake\" contém imagens de rostos geradas por algoritmos de IA, como GANs (Redes Generativas Adversariais). Como se trata de um problema visual e a tarefa envolve reconhecer padrões sutis na textura, iluminação e traços faciais que podem diferenciar uma imagem real de uma sintética, optamos por utilizar uma Rede Neural Convolucional (CNN), que é uma arquitetura especialmente eficaz para extração automática de características em tarefas de classificação de imagens.\n",
        "\n",
        "Link do dataset: https://www.kaggle.com/datasets/birdy654/cifake-real-and-ai-generated-synthetic-images\n"
      ],
      "metadata": {
        "id": "SyPDZvkoDYpX"
      }
    },
    {
      "cell_type": "markdown",
      "source": [
        "### 1. Leitura do dataset"
      ],
      "metadata": {
        "id": "iHgIsnlc3J-x"
      }
    },
    {
      "cell_type": "code",
      "source": [
        "path = kagglehub.dataset_download(\"birdy654/cifake-real-and-ai-generated-synthetic-images\")"
      ],
      "metadata": {
        "id": "A8liFucq0ywf"
      },
      "execution_count": 2,
      "outputs": []
    },
    {
      "cell_type": "code",
      "source": [
        "path"
      ],
      "metadata": {
        "colab": {
          "base_uri": "https://localhost:8080/",
          "height": 35
        },
        "id": "gnNLWu081SG6",
        "outputId": "9274ba67-fa2a-40f2-e76e-2309307afc2b"
      },
      "execution_count": 3,
      "outputs": [
        {
          "output_type": "execute_result",
          "data": {
            "text/plain": [
              "'/kaggle/input/cifake-real-and-ai-generated-synthetic-images'"
            ],
            "application/vnd.google.colaboratory.intrinsic+json": {
              "type": "string"
            }
          },
          "metadata": {},
          "execution_count": 3
        }
      ]
    },
    {
      "cell_type": "code",
      "source": [
        "#dataset_path = path\n",
        "train_path = f\"{path}/cifake/train\"\n",
        "test_path = f\"{path}/cifake/test\""
      ],
      "metadata": {
        "id": "HdW7JJ--0sRd"
      },
      "execution_count": 4,
      "outputs": []
    },
    {
      "cell_type": "code",
      "source": [
        "transform = transforms.Compose([\n",
        "    # Resize da imagem pra 32x32 (pixels), seria bom colocar 128x128\n",
        "    transforms.Resize((32, 32)),\n",
        "    # PIL -> Tensor[canal, altura, largura] + Normalização de pixels\n",
        "    transforms.ToTensor()\n",
        "])"
      ],
      "metadata": {
        "id": "uAZ77o-Q1KLR"
      },
      "execution_count": 5,
      "outputs": []
    },
    {
      "cell_type": "code",
      "source": [
        "dataset = ImageFolder(root=path, transform=transform)"
      ],
      "metadata": {
        "id": "nwu_TEJ81U-4"
      },
      "execution_count": 6,
      "outputs": []
    },
    {
      "cell_type": "code",
      "source": [
        "train_data = datasets.ImageFolder(root=f\"{path}/train\", transform=transform)\n",
        "test_data = datasets.ImageFolder(root=f\"{path}/test\", transform=transform)"
      ],
      "metadata": {
        "id": "Wk0em0Cd7tdW"
      },
      "execution_count": 7,
      "outputs": []
    },
    {
      "cell_type": "code",
      "source": [
        "dataset"
      ],
      "metadata": {
        "colab": {
          "base_uri": "https://localhost:8080/"
        },
        "id": "Qp-MyPw92xKo",
        "outputId": "e752ed08-105e-4cf9-a530-87fca329a218"
      },
      "execution_count": 8,
      "outputs": [
        {
          "output_type": "execute_result",
          "data": {
            "text/plain": [
              "Dataset ImageFolder\n",
              "    Number of datapoints: 120000\n",
              "    Root location: /kaggle/input/cifake-real-and-ai-generated-synthetic-images\n",
              "    StandardTransform\n",
              "Transform: Compose(\n",
              "               Resize(size=(32, 32), interpolation=bilinear, max_size=None, antialias=True)\n",
              "               ToTensor()\n",
              "           )"
            ]
          },
          "metadata": {},
          "execution_count": 8
        }
      ]
    },
    {
      "cell_type": "markdown",
      "source": [
        "### 2. Verificação do balanceamento de classes"
      ],
      "metadata": {
        "id": "AXt9nU5q290R"
      }
    },
    {
      "cell_type": "code",
      "source": [
        "train_labels = train_data.targets"
      ],
      "metadata": {
        "id": "5csNfTjJ3B6J"
      },
      "execution_count": 9,
      "outputs": []
    },
    {
      "cell_type": "code",
      "source": [
        "train_label_counts = Counter(train_labels)"
      ],
      "metadata": {
        "id": "6ZTOxxnf5Mmh"
      },
      "execution_count": 10,
      "outputs": []
    },
    {
      "cell_type": "code",
      "source": [
        "train_label_counts # 0: FAKE / 1: REAL"
      ],
      "metadata": {
        "colab": {
          "base_uri": "https://localhost:8080/"
        },
        "id": "P0Ji5SoJ5RmD",
        "outputId": "4856ed71-1a11-4a61-b7c5-2ddc7c8647f0"
      },
      "execution_count": 11,
      "outputs": [
        {
          "output_type": "execute_result",
          "data": {
            "text/plain": [
              "Counter({0: 50000, 1: 50000})"
            ]
          },
          "metadata": {},
          "execution_count": 11
        }
      ]
    },
    {
      "cell_type": "code",
      "source": [
        "train_data.classes"
      ],
      "metadata": {
        "colab": {
          "base_uri": "https://localhost:8080/"
        },
        "id": "JU9EZmJW5f9i",
        "outputId": "8ad4ffd2-9cfc-40c8-b232-0b23236672a2"
      },
      "execution_count": 12,
      "outputs": [
        {
          "output_type": "execute_result",
          "data": {
            "text/plain": [
              "['FAKE', 'REAL']"
            ]
          },
          "metadata": {},
          "execution_count": 12
        }
      ]
    },
    {
      "cell_type": "markdown",
      "source": [
        "O conjunto de dados de treino já está balanceado, contendo 50.000 imagens reais (classe 1) e 50.000 imagens geradas por IA (classe 0). Isso significa que o modelo será treinado com a mesma quantidade de exemplos para cada classe, o que ajuda a evitar viés de aprendizado. Com esse equilíbrio, a CNN tem maiores chances de aprender a distinguir padrões relevantes de cada classe de forma justa, sem favorecer uma categoria em detrimento da outra, o que pode resultar em melhor desempenho e métricas mais confiáveis.\n"
      ],
      "metadata": {
        "id": "mfBCGLS0OLaO"
      }
    },
    {
      "cell_type": "markdown",
      "source": [
        "### 3. K-Fold estratificado com k=5 sobre os 70% do treino"
      ],
      "metadata": {
        "id": "GZtAObWyB4m-"
      }
    },
    {
      "cell_type": "markdown",
      "source": [
        "**Holdout ou K-Fold?**\n",
        "\n",
        "A validação cruzada do tipo k-fold costuma ser preferida ao método holdout porque oferece uma avaliação mais estável e confiável do desempenho do modelo. Diferente do holdout, que separa os dados apenas uma vez em conjuntos de treino e teste — o que pode gerar resultados muito dependentes dessa divisão específica —, o k-fold reparte os dados em k partes e repete o processo k vezes, trocando o grupo de teste a cada rodada. Com isso, conseguimos uma média dos resultados que tende a ser mais representativa e menos sujeita a variações aleatórias. Essa abordagem também aproveita melhor os dados disponíveis, sendo especialmente vantajosa quando o conjunto de dados é pequeno."
      ],
      "metadata": {
        "id": "ppcwtC6bLmuH"
      }
    },
    {
      "cell_type": "code",
      "source": [
        "k = 5\n",
        "skf = StratifiedKFold(n_splits=k, shuffle=True, random_state=42)"
      ],
      "metadata": {
        "id": "blE0XBkkBIoV"
      },
      "execution_count": 13,
      "outputs": []
    },
    {
      "cell_type": "code",
      "source": [
        "for fold, (train_idx, val_idx) in enumerate(skf.split(np.zeros(len(train_labels)), train_labels)):\n",
        "    train_subset = Subset(train_data, train_idx)\n",
        "    val_subset = Subset(train_data, val_idx)\n",
        "\n",
        "    print(f\"\\nFold {fold+1}\")\n",
        "    print(f\"  Treino: {len(train_subset)} imagens\")\n",
        "    print(f\"  Validação: {len(val_subset)} imagens\")"
      ],
      "metadata": {
        "colab": {
          "base_uri": "https://localhost:8080/"
        },
        "id": "ofCF9dhGCKeQ",
        "outputId": "d2939c0c-6db6-4cef-d2b6-c3368c007077"
      },
      "execution_count": 14,
      "outputs": [
        {
          "output_type": "stream",
          "name": "stdout",
          "text": [
            "\n",
            "Fold 1\n",
            "  Treino: 80000 imagens\n",
            "  Validação: 20000 imagens\n",
            "\n",
            "Fold 2\n",
            "  Treino: 80000 imagens\n",
            "  Validação: 20000 imagens\n",
            "\n",
            "Fold 3\n",
            "  Treino: 80000 imagens\n",
            "  Validação: 20000 imagens\n",
            "\n",
            "Fold 4\n",
            "  Treino: 80000 imagens\n",
            "  Validação: 20000 imagens\n",
            "\n",
            "Fold 5\n",
            "  Treino: 80000 imagens\n",
            "  Validação: 20000 imagens\n"
          ]
        }
      ]
    },
    {
      "cell_type": "code",
      "source": [],
      "metadata": {
        "id": "c5YepcKx83rX"
      },
      "execution_count": 14,
      "outputs": []
    }
  ]
}