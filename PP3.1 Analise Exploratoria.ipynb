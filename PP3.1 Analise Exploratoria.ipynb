{
 "cells": [
  {
   "cell_type": "markdown",
   "id": "c69f1c2a",
   "metadata": {},
   "source": [
    "A qualidade de imagens geradas por inteligência artificial tem rápidamente aumentado, levando a preocupação da autenticidade e da segurança dos dados levantados, isso se dá pelo aumento gradativo de melhores modelos de inteligência gerando fotos fiéis ao que o olho humano intepreta como real. Essas imagens geradas artifialmente estão no pódio a disputar com imagens geradas por humanos. Com isso, CIFAKE nos é proposto como um conjunto de dados que contém 60000 imagens sintéticamente geradas a 60000 imagens reais coletadas pelo CIFAR10 (conjunto de imagens utilizadas para aprendizado de máquina de baixa resolução).\n",
    "\n",
    "A qualidade das imagens apresentadas são do tamanho 32x32 pixels, divididas em 10 classes: avião, automóvel, pássaro, gato, viado, cachorro, sapo, cavalo, navio e caminhão.\n",
    "Dado o dataset proposto fica a critério do modelo classificar as imagens de acordo com sua natureza, sendo real ou falso."
   ]
  }
 ],
 "metadata": {
  "language_info": {
   "name": "python"
  }
 },
 "nbformat": 4,
 "nbformat_minor": 5
}
